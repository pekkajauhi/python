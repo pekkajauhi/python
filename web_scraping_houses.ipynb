{
 "cells": [
  {
   "cell_type": "markdown",
   "metadata": {},
   "source": [
    "# Web scraping house values"
   ]
  },
  {
   "cell_type": "markdown",
   "metadata": {},
   "source": [
    "This is a very simple web scraping project. This was my first attempt at web scraping so I had to keep things simple. The idea was to scrape information about houses from etuovi.com, which is a house selling website. I used scrapy to do the scraping, the scrapy spider code is [here](https://github.com/pekkajauhi/python/blob/master/jkspider.py). I scraped the price, size, year, place, type and details of 50000 houses/apartments. In this notebook I did some simple stuff with the data for illustration purposes. Web scraping seems to be great way to get new datasets."
   ]
  },
  {
   "cell_type": "markdown",
   "metadata": {},
   "source": [
    "## Cleaning the data"
   ]
  },
  {
   "cell_type": "code",
   "execution_count": 176,
   "metadata": {},
   "outputs": [],
   "source": [
    "import matplotlib.pyplot as plt\n",
    "import pandas as pd\n",
    "import numpy as np"
   ]
  },
  {
   "cell_type": "code",
   "execution_count": 230,
   "metadata": {},
   "outputs": [],
   "source": [
    "df = pd.read_excel(\"/home/pekka/myfirstscraper/output4.xlsx\")"
   ]
  },
  {
   "cell_type": "code",
   "execution_count": 231,
   "metadata": {},
   "outputs": [
    {
     "data": {
      "text/html": [
       "<div>\n",
       "<style scoped>\n",
       "    .dataframe tbody tr th:only-of-type {\n",
       "        vertical-align: middle;\n",
       "    }\n",
       "\n",
       "    .dataframe tbody tr th {\n",
       "        vertical-align: top;\n",
       "    }\n",
       "\n",
       "    .dataframe thead th {\n",
       "        text-align: right;\n",
       "    }\n",
       "</style>\n",
       "<table border=\"1\" class=\"dataframe\">\n",
       "  <thead>\n",
       "    <tr style=\"text-align: right;\">\n",
       "      <th></th>\n",
       "      <th>details</th>\n",
       "      <th>place</th>\n",
       "      <th>price</th>\n",
       "      <th>size</th>\n",
       "      <th>type</th>\n",
       "      <th>year</th>\n",
       "    </tr>\n",
       "  </thead>\n",
       "  <tbody>\n",
       "    <tr>\n",
       "      <th>0</th>\n",
       "      <td>&lt;span&gt;1h+kt&lt;/span&gt;</td>\n",
       "      <td>Gerby Vaasa</td>\n",
       "      <td>89 500 €</td>\n",
       "      <td>26,0 m²</td>\n",
       "      <td>Kerrostalo</td>\n",
       "      <td>&lt;div class=\"year\"&gt;Vuosi&lt;span&gt;2020&lt;/span&gt;&lt;/div&gt;</td>\n",
       "    </tr>\n",
       "    <tr>\n",
       "      <th>1</th>\n",
       "      <td>&lt;span&gt;1h+kt&lt;/span&gt;</td>\n",
       "      <td>Gerby Vaasa</td>\n",
       "      <td>89 500 €</td>\n",
       "      <td>26,0 m²</td>\n",
       "      <td>Kerrostalo</td>\n",
       "      <td>&lt;div class=\"year\"&gt;Vuosi&lt;span&gt;2020&lt;/span&gt;&lt;/div&gt;</td>\n",
       "    </tr>\n",
       "    <tr>\n",
       "      <th>2</th>\n",
       "      <td>&lt;span&gt;1h+kt&lt;/span&gt;</td>\n",
       "      <td>Gerby Vaasa</td>\n",
       "      <td>89 500 €</td>\n",
       "      <td>26,0 m²</td>\n",
       "      <td>Kerrostalo</td>\n",
       "      <td>&lt;div class=\"year\"&gt;Vuosi&lt;span&gt;2020&lt;/span&gt;&lt;/div&gt;</td>\n",
       "    </tr>\n",
       "    <tr>\n",
       "      <th>3</th>\n",
       "      <td>&lt;span&gt;1h+kt&lt;/span&gt;</td>\n",
       "      <td>Gerby Vaasa</td>\n",
       "      <td>89 500 €</td>\n",
       "      <td>26,0 m²</td>\n",
       "      <td>Kerrostalo</td>\n",
       "      <td>&lt;div class=\"year\"&gt;Vuosi&lt;span&gt;2020&lt;/span&gt;&lt;/div&gt;</td>\n",
       "    </tr>\n",
       "    <tr>\n",
       "      <th>4</th>\n",
       "      <td>&lt;span&gt;2h+k&lt;/span&gt;</td>\n",
       "      <td>Gerby Vaasa</td>\n",
       "      <td>124 500 €</td>\n",
       "      <td>43,0 m²</td>\n",
       "      <td>Kerrostalo</td>\n",
       "      <td>&lt;div class=\"year\"&gt;Vuosi&lt;span&gt;2020&lt;/span&gt;&lt;/div&gt;</td>\n",
       "    </tr>\n",
       "  </tbody>\n",
       "</table>\n",
       "</div>"
      ],
      "text/plain": [
       "              details        place      price     size        type  \\\n",
       "0  <span>1h+kt</span>  Gerby Vaasa   89 500 €  26,0 m²  Kerrostalo   \n",
       "1  <span>1h+kt</span>  Gerby Vaasa   89 500 €  26,0 m²  Kerrostalo   \n",
       "2  <span>1h+kt</span>  Gerby Vaasa   89 500 €  26,0 m²  Kerrostalo   \n",
       "3  <span>1h+kt</span>  Gerby Vaasa   89 500 €  26,0 m²  Kerrostalo   \n",
       "4   <span>2h+k</span>  Gerby Vaasa  124 500 €  43,0 m²  Kerrostalo   \n",
       "\n",
       "                                             year  \n",
       "0  <div class=\"year\">Vuosi<span>2020</span></div>  \n",
       "1  <div class=\"year\">Vuosi<span>2020</span></div>  \n",
       "2  <div class=\"year\">Vuosi<span>2020</span></div>  \n",
       "3  <div class=\"year\">Vuosi<span>2020</span></div>  \n",
       "4  <div class=\"year\">Vuosi<span>2020</span></div>  "
      ]
     },
     "execution_count": 231,
     "metadata": {},
     "output_type": "execute_result"
    }
   ],
   "source": [
    "df.head()"
   ]
  },
  {
   "cell_type": "code",
   "execution_count": 232,
   "metadata": {},
   "outputs": [],
   "source": [
    "df['details'] = df['details'].str.replace('<span>', '')"
   ]
  },
  {
   "cell_type": "code",
   "execution_count": 233,
   "metadata": {},
   "outputs": [],
   "source": [
    "df['details'] = df['details'].str.replace('</span>', '')"
   ]
  },
  {
   "cell_type": "code",
   "execution_count": 234,
   "metadata": {},
   "outputs": [],
   "source": [
    "df['year'] = df['year'].str.replace('<div class=\"year\">Vuosi<span>', '')"
   ]
  },
  {
   "cell_type": "code",
   "execution_count": 235,
   "metadata": {},
   "outputs": [],
   "source": [
    "df['year'] = df['year'].str.replace('</span></div>', '')"
   ]
  },
  {
   "cell_type": "code",
   "execution_count": 236,
   "metadata": {},
   "outputs": [
    {
     "name": "stdout",
     "output_type": "stream",
     "text": [
      "<class 'pandas.core.frame.DataFrame'>\n",
      "Int64Index: 50000 entries, 0 to 49999\n",
      "Data columns (total 6 columns):\n",
      "details    50000 non-null object\n",
      "place      50000 non-null object\n",
      "price      50000 non-null object\n",
      "size       50000 non-null object\n",
      "type       50000 non-null object\n",
      "year       50000 non-null object\n",
      "dtypes: object(6)\n",
      "memory usage: 2.7+ MB\n"
     ]
    }
   ],
   "source": [
    "df.info()"
   ]
  },
  {
   "cell_type": "code",
   "execution_count": 237,
   "metadata": {},
   "outputs": [
    {
     "data": {
      "text/html": [
       "<div>\n",
       "<style scoped>\n",
       "    .dataframe tbody tr th:only-of-type {\n",
       "        vertical-align: middle;\n",
       "    }\n",
       "\n",
       "    .dataframe tbody tr th {\n",
       "        vertical-align: top;\n",
       "    }\n",
       "\n",
       "    .dataframe thead th {\n",
       "        text-align: right;\n",
       "    }\n",
       "</style>\n",
       "<table border=\"1\" class=\"dataframe\">\n",
       "  <thead>\n",
       "    <tr style=\"text-align: right;\">\n",
       "      <th></th>\n",
       "      <th>details</th>\n",
       "      <th>place</th>\n",
       "      <th>price</th>\n",
       "      <th>size</th>\n",
       "      <th>type</th>\n",
       "      <th>year</th>\n",
       "    </tr>\n",
       "  </thead>\n",
       "  <tbody>\n",
       "    <tr>\n",
       "      <th>count</th>\n",
       "      <td>50000</td>\n",
       "      <td>50000</td>\n",
       "      <td>50000</td>\n",
       "      <td>50000</td>\n",
       "      <td>50000</td>\n",
       "      <td>50000</td>\n",
       "    </tr>\n",
       "    <tr>\n",
       "      <th>unique</th>\n",
       "      <td>20565</td>\n",
       "      <td>7240</td>\n",
       "      <td>8619</td>\n",
       "      <td>1524</td>\n",
       "      <td>7</td>\n",
       "      <td>183</td>\n",
       "    </tr>\n",
       "    <tr>\n",
       "      <th>top</th>\n",
       "      <td>2h+kt</td>\n",
       "      <td>Kivistö Vantaa</td>\n",
       "      <td>129 000 €</td>\n",
       "      <td>80,0 m²</td>\n",
       "      <td>Kerrostalo</td>\n",
       "      <td>2019</td>\n",
       "    </tr>\n",
       "    <tr>\n",
       "      <th>freq</th>\n",
       "      <td>1839</td>\n",
       "      <td>546</td>\n",
       "      <td>460</td>\n",
       "      <td>757</td>\n",
       "      <td>28047</td>\n",
       "      <td>8738</td>\n",
       "    </tr>\n",
       "  </tbody>\n",
       "</table>\n",
       "</div>"
      ],
      "text/plain": [
       "       details           place      price     size        type   year\n",
       "count    50000           50000      50000    50000       50000  50000\n",
       "unique   20565            7240       8619     1524           7    183\n",
       "top      2h+kt  Kivistö Vantaa  129 000 €  80,0 m²  Kerrostalo   2019\n",
       "freq      1839             546        460      757       28047   8738"
      ]
     },
     "execution_count": 237,
     "metadata": {},
     "output_type": "execute_result"
    }
   ],
   "source": [
    "df.describe()"
   ]
  },
  {
   "cell_type": "code",
   "execution_count": 238,
   "metadata": {},
   "outputs": [],
   "source": [
    "df['price'] = df.price.str.replace('€','')"
   ]
  },
  {
   "cell_type": "code",
   "execution_count": 239,
   "metadata": {},
   "outputs": [
    {
     "data": {
      "text/html": [
       "<div>\n",
       "<style scoped>\n",
       "    .dataframe tbody tr th:only-of-type {\n",
       "        vertical-align: middle;\n",
       "    }\n",
       "\n",
       "    .dataframe tbody tr th {\n",
       "        vertical-align: top;\n",
       "    }\n",
       "\n",
       "    .dataframe thead th {\n",
       "        text-align: right;\n",
       "    }\n",
       "</style>\n",
       "<table border=\"1\" class=\"dataframe\">\n",
       "  <thead>\n",
       "    <tr style=\"text-align: right;\">\n",
       "      <th></th>\n",
       "      <th>details</th>\n",
       "      <th>place</th>\n",
       "      <th>price</th>\n",
       "      <th>size</th>\n",
       "      <th>type</th>\n",
       "      <th>year</th>\n",
       "    </tr>\n",
       "  </thead>\n",
       "  <tbody>\n",
       "    <tr>\n",
       "      <th>0</th>\n",
       "      <td>1h+kt</td>\n",
       "      <td>Gerby Vaasa</td>\n",
       "      <td>89 500</td>\n",
       "      <td>26,0 m²</td>\n",
       "      <td>Kerrostalo</td>\n",
       "      <td>2020</td>\n",
       "    </tr>\n",
       "    <tr>\n",
       "      <th>1</th>\n",
       "      <td>1h+kt</td>\n",
       "      <td>Gerby Vaasa</td>\n",
       "      <td>89 500</td>\n",
       "      <td>26,0 m²</td>\n",
       "      <td>Kerrostalo</td>\n",
       "      <td>2020</td>\n",
       "    </tr>\n",
       "    <tr>\n",
       "      <th>2</th>\n",
       "      <td>1h+kt</td>\n",
       "      <td>Gerby Vaasa</td>\n",
       "      <td>89 500</td>\n",
       "      <td>26,0 m²</td>\n",
       "      <td>Kerrostalo</td>\n",
       "      <td>2020</td>\n",
       "    </tr>\n",
       "    <tr>\n",
       "      <th>3</th>\n",
       "      <td>1h+kt</td>\n",
       "      <td>Gerby Vaasa</td>\n",
       "      <td>89 500</td>\n",
       "      <td>26,0 m²</td>\n",
       "      <td>Kerrostalo</td>\n",
       "      <td>2020</td>\n",
       "    </tr>\n",
       "    <tr>\n",
       "      <th>4</th>\n",
       "      <td>2h+k</td>\n",
       "      <td>Gerby Vaasa</td>\n",
       "      <td>124 500</td>\n",
       "      <td>43,0 m²</td>\n",
       "      <td>Kerrostalo</td>\n",
       "      <td>2020</td>\n",
       "    </tr>\n",
       "  </tbody>\n",
       "</table>\n",
       "</div>"
      ],
      "text/plain": [
       "  details        place     price     size        type  year\n",
       "0   1h+kt  Gerby Vaasa   89 500   26,0 m²  Kerrostalo  2020\n",
       "1   1h+kt  Gerby Vaasa   89 500   26,0 m²  Kerrostalo  2020\n",
       "2   1h+kt  Gerby Vaasa   89 500   26,0 m²  Kerrostalo  2020\n",
       "3   1h+kt  Gerby Vaasa   89 500   26,0 m²  Kerrostalo  2020\n",
       "4    2h+k  Gerby Vaasa  124 500   43,0 m²  Kerrostalo  2020"
      ]
     },
     "execution_count": 239,
     "metadata": {},
     "output_type": "execute_result"
    }
   ],
   "source": [
    "df.head()"
   ]
  },
  {
   "cell_type": "code",
   "execution_count": 240,
   "metadata": {},
   "outputs": [],
   "source": [
    "df['price'] = [x.rstrip() for x in df['price']]\n",
    "df['price'] = df.price.str.replace(' ','')\n",
    "df['price'] = df.price.str.replace(',','.')\n",
    "df['price'] = df.price.str.replace('*','')\n",
    "df['price'] = [float(x) for x in df['price']]"
   ]
  },
  {
   "cell_type": "code",
   "execution_count": 241,
   "metadata": {},
   "outputs": [
    {
     "ename": "ValueError",
     "evalue": "invalid literal for int() with base 10: '<div class=\"year\">Vuosi</div>'",
     "output_type": "error",
     "traceback": [
      "\u001b[0;31m---------------------------------------------------------------------------\u001b[0m",
      "\u001b[0;31mValueError\u001b[0m                                Traceback (most recent call last)",
      "\u001b[0;32m<ipython-input-241-869b905c88ce>\u001b[0m in \u001b[0;36m<module>\u001b[0;34m()\u001b[0m\n\u001b[0;32m----> 1\u001b[0;31m \u001b[0mdf\u001b[0m\u001b[0;34m[\u001b[0m\u001b[0;34m'year'\u001b[0m\u001b[0;34m]\u001b[0m \u001b[0;34m=\u001b[0m \u001b[0;34m[\u001b[0m\u001b[0mint\u001b[0m\u001b[0;34m(\u001b[0m\u001b[0mx\u001b[0m\u001b[0;34m)\u001b[0m \u001b[0;32mfor\u001b[0m \u001b[0mx\u001b[0m \u001b[0;32min\u001b[0m \u001b[0mdf\u001b[0m\u001b[0;34m[\u001b[0m\u001b[0;34m'year'\u001b[0m\u001b[0;34m]\u001b[0m\u001b[0;34m]\u001b[0m\u001b[0;34m\u001b[0m\u001b[0m\n\u001b[0m",
      "\u001b[0;32m<ipython-input-241-869b905c88ce>\u001b[0m in \u001b[0;36m<listcomp>\u001b[0;34m(.0)\u001b[0m\n\u001b[0;32m----> 1\u001b[0;31m \u001b[0mdf\u001b[0m\u001b[0;34m[\u001b[0m\u001b[0;34m'year'\u001b[0m\u001b[0;34m]\u001b[0m \u001b[0;34m=\u001b[0m \u001b[0;34m[\u001b[0m\u001b[0mint\u001b[0m\u001b[0;34m(\u001b[0m\u001b[0mx\u001b[0m\u001b[0;34m)\u001b[0m \u001b[0;32mfor\u001b[0m \u001b[0mx\u001b[0m \u001b[0;32min\u001b[0m \u001b[0mdf\u001b[0m\u001b[0;34m[\u001b[0m\u001b[0;34m'year'\u001b[0m\u001b[0;34m]\u001b[0m\u001b[0;34m]\u001b[0m\u001b[0;34m\u001b[0m\u001b[0m\n\u001b[0m",
      "\u001b[0;31mValueError\u001b[0m: invalid literal for int() with base 10: '<div class=\"year\">Vuosi</div>'"
     ]
    }
   ],
   "source": [
    "df['year'] = [int(x) for x in df['year']]"
   ]
  },
  {
   "cell_type": "code",
   "execution_count": 242,
   "metadata": {},
   "outputs": [
    {
     "data": {
      "text/plain": [
       "2019                             8738\n",
       "2020                             5198\n",
       "2018                             3025\n",
       "<div class=\"year\">Vuosi</div>    1909\n",
       "1974                              943\n",
       "1975                              871\n",
       "1973                              821\n",
       "1972                              781\n",
       "1976                              672\n",
       "1990                              668\n",
       "1978                              665\n",
       "2017                              641\n",
       "1989                              634\n",
       "2021                              628\n",
       "1977                              593\n",
       "1979                              586\n",
       "1982                              577\n",
       "1983                              572\n",
       "1971                              558\n",
       "1980                              552\n",
       "1970                              536\n",
       "2007                              526\n",
       "1985                              525\n",
       "1984                              525\n",
       "1981                              518\n",
       "2012                              518\n",
       "2014                              507\n",
       "2006                              505\n",
       "2013                              487\n",
       "2016                              476\n",
       "                                 ... \n",
       "1838                                2\n",
       "1888                                1\n",
       "1600                                1\n",
       "1799                                1\n",
       "1882                                1\n",
       "1858                                1\n",
       "1849                                1\n",
       "1812                                1\n",
       "1875                                1\n",
       "1842                                1\n",
       "1877                                1\n",
       "1883                                1\n",
       "1680                                1\n",
       "1806                                1\n",
       "1804                                1\n",
       "1855                                1\n",
       "1803                                1\n",
       "1500                                1\n",
       "1829                                1\n",
       "1852                                1\n",
       "1867                                1\n",
       "1841                                1\n",
       "1795                                1\n",
       "1790                                1\n",
       "1868                                1\n",
       "1407                                1\n",
       "1863                                1\n",
       "1750                                1\n",
       "1820                                1\n",
       "1830                                1\n",
       "Name: year, Length: 183, dtype: int64"
      ]
     },
     "execution_count": 242,
     "metadata": {},
     "output_type": "execute_result"
    }
   ],
   "source": [
    "df['year'].value_counts()"
   ]
  },
  {
   "cell_type": "code",
   "execution_count": 243,
   "metadata": {},
   "outputs": [],
   "source": [
    "df['year'] = df['year'].str.replace('<div class=\"year\">Vuosi</div>', '0')"
   ]
  },
  {
   "cell_type": "code",
   "execution_count": 244,
   "metadata": {},
   "outputs": [
    {
     "data": {
      "text/plain": [
       "2019    8738\n",
       "2020    5198\n",
       "2018    3025\n",
       "0       1909\n",
       "1974     943\n",
       "1975     871\n",
       "1973     821\n",
       "1972     781\n",
       "1976     672\n",
       "1990     668\n",
       "1978     665\n",
       "2017     641\n",
       "1989     634\n",
       "2021     628\n",
       "1977     593\n",
       "1979     586\n",
       "1982     577\n",
       "1983     572\n",
       "1971     558\n",
       "1980     552\n",
       "1970     536\n",
       "2007     526\n",
       "1985     525\n",
       "1984     525\n",
       "1981     518\n",
       "2012     518\n",
       "2014     507\n",
       "2006     505\n",
       "2013     487\n",
       "2016     476\n",
       "        ... \n",
       "1838       2\n",
       "1888       1\n",
       "1600       1\n",
       "1799       1\n",
       "1849       1\n",
       "1882       1\n",
       "1858       1\n",
       "1812       1\n",
       "1875       1\n",
       "1842       1\n",
       "1852       1\n",
       "1883       1\n",
       "1680       1\n",
       "1806       1\n",
       "1804       1\n",
       "1855       1\n",
       "1803       1\n",
       "1500       1\n",
       "1877       1\n",
       "1830       1\n",
       "1867       1\n",
       "1841       1\n",
       "1795       1\n",
       "1790       1\n",
       "1868       1\n",
       "1407       1\n",
       "1863       1\n",
       "1750       1\n",
       "1820       1\n",
       "1829       1\n",
       "Name: year, Length: 183, dtype: int64"
      ]
     },
     "execution_count": 244,
     "metadata": {},
     "output_type": "execute_result"
    }
   ],
   "source": [
    "df['year'].value_counts()"
   ]
  },
  {
   "cell_type": "code",
   "execution_count": 245,
   "metadata": {},
   "outputs": [],
   "source": [
    "df['year'] = [int(x) for x in df['year']]"
   ]
  },
  {
   "cell_type": "code",
   "execution_count": 246,
   "metadata": {},
   "outputs": [
    {
     "data": {
      "text/plain": [
       "1918.7364"
      ]
     },
     "execution_count": 246,
     "metadata": {},
     "output_type": "execute_result"
    }
   ],
   "source": [
    "df['year'].mean()"
   ]
  },
  {
   "cell_type": "code",
   "execution_count": 247,
   "metadata": {},
   "outputs": [],
   "source": [
    "import numpy as np\n",
    "df['year'] = df['year'].replace(0, np.nan)"
   ]
  },
  {
   "cell_type": "code",
   "execution_count": 248,
   "metadata": {},
   "outputs": [
    {
     "data": {
      "text/plain": [
       "1909"
      ]
     },
     "execution_count": 248,
     "metadata": {},
     "output_type": "execute_result"
    }
   ],
   "source": [
    "df['year'].isnull().sum()"
   ]
  },
  {
   "cell_type": "code",
   "execution_count": 249,
   "metadata": {},
   "outputs": [
    {
     "data": {
      "text/plain": [
       "1994.9017487679607"
      ]
     },
     "execution_count": 249,
     "metadata": {},
     "output_type": "execute_result"
    }
   ],
   "source": [
    "np.nanmean(df['year'])"
   ]
  },
  {
   "cell_type": "code",
   "execution_count": 250,
   "metadata": {},
   "outputs": [],
   "source": [
    "df['size'] = df['size'].str.replace('m²', '')\n",
    "df['size'] = [x.rstrip() for x in df['size']]\n",
    "df['size'] = df['size'].str.replace(',', '.')\n",
    "df['size'] = df['size'].str.replace('-', '0')\n",
    "df['size'] = [float(x) for x in df['size']]"
   ]
  },
  {
   "cell_type": "code",
   "execution_count": 251,
   "metadata": {
    "scrolled": true
   },
   "outputs": [
    {
     "data": {
      "text/html": [
       "<div>\n",
       "<style scoped>\n",
       "    .dataframe tbody tr th:only-of-type {\n",
       "        vertical-align: middle;\n",
       "    }\n",
       "\n",
       "    .dataframe tbody tr th {\n",
       "        vertical-align: top;\n",
       "    }\n",
       "\n",
       "    .dataframe thead th {\n",
       "        text-align: right;\n",
       "    }\n",
       "</style>\n",
       "<table border=\"1\" class=\"dataframe\">\n",
       "  <thead>\n",
       "    <tr style=\"text-align: right;\">\n",
       "      <th></th>\n",
       "      <th>details</th>\n",
       "      <th>place</th>\n",
       "      <th>price</th>\n",
       "      <th>size</th>\n",
       "      <th>type</th>\n",
       "      <th>year</th>\n",
       "    </tr>\n",
       "  </thead>\n",
       "  <tbody>\n",
       "    <tr>\n",
       "      <th>0</th>\n",
       "      <td>1h+kt</td>\n",
       "      <td>Gerby Vaasa</td>\n",
       "      <td>89500.0</td>\n",
       "      <td>26.0</td>\n",
       "      <td>Kerrostalo</td>\n",
       "      <td>2020.0</td>\n",
       "    </tr>\n",
       "    <tr>\n",
       "      <th>1</th>\n",
       "      <td>1h+kt</td>\n",
       "      <td>Gerby Vaasa</td>\n",
       "      <td>89500.0</td>\n",
       "      <td>26.0</td>\n",
       "      <td>Kerrostalo</td>\n",
       "      <td>2020.0</td>\n",
       "    </tr>\n",
       "    <tr>\n",
       "      <th>2</th>\n",
       "      <td>1h+kt</td>\n",
       "      <td>Gerby Vaasa</td>\n",
       "      <td>89500.0</td>\n",
       "      <td>26.0</td>\n",
       "      <td>Kerrostalo</td>\n",
       "      <td>2020.0</td>\n",
       "    </tr>\n",
       "    <tr>\n",
       "      <th>3</th>\n",
       "      <td>1h+kt</td>\n",
       "      <td>Gerby Vaasa</td>\n",
       "      <td>89500.0</td>\n",
       "      <td>26.0</td>\n",
       "      <td>Kerrostalo</td>\n",
       "      <td>2020.0</td>\n",
       "    </tr>\n",
       "    <tr>\n",
       "      <th>4</th>\n",
       "      <td>2h+k</td>\n",
       "      <td>Gerby Vaasa</td>\n",
       "      <td>124500.0</td>\n",
       "      <td>43.0</td>\n",
       "      <td>Kerrostalo</td>\n",
       "      <td>2020.0</td>\n",
       "    </tr>\n",
       "    <tr>\n",
       "      <th>5</th>\n",
       "      <td>1h+kt</td>\n",
       "      <td>Gerby Vaasa</td>\n",
       "      <td>89500.0</td>\n",
       "      <td>26.0</td>\n",
       "      <td>Kerrostalo</td>\n",
       "      <td>2020.0</td>\n",
       "    </tr>\n",
       "    <tr>\n",
       "      <th>6</th>\n",
       "      <td>1h+kt</td>\n",
       "      <td>Gerby Vaasa</td>\n",
       "      <td>89500.0</td>\n",
       "      <td>26.0</td>\n",
       "      <td>Kerrostalo</td>\n",
       "      <td>2020.0</td>\n",
       "    </tr>\n",
       "    <tr>\n",
       "      <th>7</th>\n",
       "      <td>1h+kt</td>\n",
       "      <td>Gerby Vaasa</td>\n",
       "      <td>89500.0</td>\n",
       "      <td>26.0</td>\n",
       "      <td>Kerrostalo</td>\n",
       "      <td>2020.0</td>\n",
       "    </tr>\n",
       "    <tr>\n",
       "      <th>8</th>\n",
       "      <td>1h+kt</td>\n",
       "      <td>Gerby Vaasa</td>\n",
       "      <td>89500.0</td>\n",
       "      <td>26.0</td>\n",
       "      <td>Kerrostalo</td>\n",
       "      <td>2020.0</td>\n",
       "    </tr>\n",
       "    <tr>\n",
       "      <th>9</th>\n",
       "      <td>1h+kt</td>\n",
       "      <td>Gerby Vaasa</td>\n",
       "      <td>89500.0</td>\n",
       "      <td>26.0</td>\n",
       "      <td>Kerrostalo</td>\n",
       "      <td>2020.0</td>\n",
       "    </tr>\n",
       "  </tbody>\n",
       "</table>\n",
       "</div>"
      ],
      "text/plain": [
       "  details        place     price  size        type    year\n",
       "0   1h+kt  Gerby Vaasa   89500.0  26.0  Kerrostalo  2020.0\n",
       "1   1h+kt  Gerby Vaasa   89500.0  26.0  Kerrostalo  2020.0\n",
       "2   1h+kt  Gerby Vaasa   89500.0  26.0  Kerrostalo  2020.0\n",
       "3   1h+kt  Gerby Vaasa   89500.0  26.0  Kerrostalo  2020.0\n",
       "4    2h+k  Gerby Vaasa  124500.0  43.0  Kerrostalo  2020.0\n",
       "5   1h+kt  Gerby Vaasa   89500.0  26.0  Kerrostalo  2020.0\n",
       "6   1h+kt  Gerby Vaasa   89500.0  26.0  Kerrostalo  2020.0\n",
       "7   1h+kt  Gerby Vaasa   89500.0  26.0  Kerrostalo  2020.0\n",
       "8   1h+kt  Gerby Vaasa   89500.0  26.0  Kerrostalo  2020.0\n",
       "9   1h+kt  Gerby Vaasa   89500.0  26.0  Kerrostalo  2020.0"
      ]
     },
     "execution_count": 251,
     "metadata": {},
     "output_type": "execute_result"
    }
   ],
   "source": [
    "df.head(10)"
   ]
  },
  {
   "cell_type": "code",
   "execution_count": 275,
   "metadata": {},
   "outputs": [],
   "source": [
    "df.to_excel(\"house_prices.xlsx\")"
   ]
  },
  {
   "cell_type": "markdown",
   "metadata": {},
   "source": [
    "## Playing with the data"
   ]
  },
  {
   "cell_type": "code",
   "execution_count": 252,
   "metadata": {
    "scrolled": true
   },
   "outputs": [
    {
     "data": {
      "text/plain": [
       "Kivistö Vantaa             546\n",
       "Tapiola Espoo              461\n",
       "Keskusta Kuopio            373\n",
       "Toppilansalmi Oulu         337\n",
       "Tikkurila Vantaa           333\n",
       "Saunalahti Espoo           322\n",
       "Keskusta Oulu              303\n",
       "Kalasatama Helsinki        301\n",
       "Pasila Helsinki            263\n",
       "Ranta-Tampella Tampere     254\n",
       "Saaristokaupunki Kuopio    247\n",
       "Klaukkala Nurmijärvi       236\n",
       "Jokela Tuusula             234\n",
       "Keskusta Seinäjoki         214\n",
       "Leppävaara Espoo           210\n",
       "Santalahti Tampere         195\n",
       "Keskusta Turku             185\n",
       "Keskusta Joensuu           185\n",
       "Kaivoksela Vantaa          181\n",
       "Keskusta Kokkola           180\n",
       "Name: place, dtype: int64"
      ]
     },
     "execution_count": 252,
     "metadata": {},
     "output_type": "execute_result"
    }
   ],
   "source": [
    "df.place.value_counts()[:20]"
   ]
  },
  {
   "cell_type": "code",
   "execution_count": 273,
   "metadata": {},
   "outputs": [
    {
     "data": {
      "text/plain": [
       "6065616.0"
      ]
     },
     "execution_count": 273,
     "metadata": {},
     "output_type": "execute_result"
    }
   ],
   "source": [
    "df.price.max()"
   ]
  },
  {
   "cell_type": "code",
   "execution_count": 274,
   "metadata": {},
   "outputs": [
    {
     "data": {
      "text/html": [
       "<div>\n",
       "<style scoped>\n",
       "    .dataframe tbody tr th:only-of-type {\n",
       "        vertical-align: middle;\n",
       "    }\n",
       "\n",
       "    .dataframe tbody tr th {\n",
       "        vertical-align: top;\n",
       "    }\n",
       "\n",
       "    .dataframe thead th {\n",
       "        text-align: right;\n",
       "    }\n",
       "</style>\n",
       "<table border=\"1\" class=\"dataframe\">\n",
       "  <thead>\n",
       "    <tr style=\"text-align: right;\">\n",
       "      <th></th>\n",
       "      <th>details</th>\n",
       "      <th>place</th>\n",
       "      <th>price</th>\n",
       "      <th>size</th>\n",
       "      <th>type</th>\n",
       "      <th>year</th>\n",
       "    </tr>\n",
       "  </thead>\n",
       "  <tbody>\n",
       "    <tr>\n",
       "      <th>7916</th>\n",
       "      <td>Kaksioita yhteensä 40 kpl: 2h, kt, alk, s, kph, p</td>\n",
       "      <td>Ounasvaara Rovaniemi</td>\n",
       "      <td>6065616.0</td>\n",
       "      <td>1784.0</td>\n",
       "      <td>Kerrostalo</td>\n",
       "      <td>2018.0</td>\n",
       "    </tr>\n",
       "  </tbody>\n",
       "</table>\n",
       "</div>"
      ],
      "text/plain": [
       "                                                details                 place  \\\n",
       "7916  Kaksioita yhteensä 40 kpl: 2h, kt, alk, s, kph, p  Ounasvaara Rovaniemi   \n",
       "\n",
       "          price    size        type    year  \n",
       "7916  6065616.0  1784.0  Kerrostalo  2018.0  "
      ]
     },
     "execution_count": 274,
     "metadata": {},
     "output_type": "execute_result"
    }
   ],
   "source": [
    "df[df['price'] == df['price'].max()]"
   ]
  },
  {
   "cell_type": "code",
   "execution_count": 277,
   "metadata": {},
   "outputs": [
    {
     "data": {
      "image/png": "[encoded data removed]",
      "text/plain": [
       "<matplotlib.figure.Figure at 0x7f412a114518>"
      ]
     },
     "metadata": {},
     "output_type": "display_data"
    }
   ],
   "source": [
    "df.groupby('place')['price'].mean().sort_values(ascending=False)[:10].plot('bar', figsize=(15,8), title='Mean house price by location')\n",
    "plt.show()\n",
    "\n"
   ]
  },
  {
   "cell_type": "code",
   "execution_count": 254,
   "metadata": {},
   "outputs": [
    {
     "data": {
      "image/png": "[encoded data removed]",
      "text/plain": [
       "<matplotlib.figure.Figure at 0x7f41221205f8>"
      ]
     },
     "metadata": {},
     "output_type": "display_data"
    }
   ],
   "source": [
    "df.groupby('place')['price'].mean().sort_values(ascending=True)[:20].plot('bar', figsize=(15,8))\n",
    "plt.show()"
   ]
  },
  {
   "cell_type": "code",
   "execution_count": 278,
   "metadata": {
    "scrolled": true
   },
   "outputs": [
    {
     "data": {
      "image/png": "[encoded data removed]",
      "text/plain": [
       "<matplotlib.figure.Figure at 0x7f41375bf0f0>"
      ]
     },
     "metadata": {},
     "output_type": "display_data"
    }
   ],
   "source": [
    "df.groupby('type')['price'].mean().sort_values(ascending=False).plot('bar', figsize=(15,8), title='Mean house price by type')\n",
    "plt.show()"
   ]
  },
  {
   "cell_type": "code",
   "execution_count": 279,
   "metadata": {},
   "outputs": [
    {
     "data": {
      "image/png": "[encoded data removed]",
      "text/plain": [
       "<matplotlib.figure.Figure at 0x7f4121a88a90>"
      ]
     },
     "metadata": {},
     "output_type": "display_data"
    }
   ],
   "source": [
    "df.groupby('type')['size'].mean().sort_values(ascending=False).plot('bar', figsize=(15,8), title='Mean house size by type')\n",
    "plt.show()"
   ]
  },
  {
   "cell_type": "code",
   "execution_count": 257,
   "metadata": {},
   "outputs": [
    {
     "data": {
      "text/plain": [
       "place\n",
       "Las Mesas Estepona Espanja          2021.000000\n",
       "Vau da Rocha Portimão Portugali     2021.000000\n",
       "keskusta Kirkkonummi                2021.000000\n",
       "Verkkosaari, Kalasatama Helsinki    2020.800000\n",
       "Kalasatama Helsinki                 2020.630000\n",
       "Castillo Fuengirola Espanja         2020.333333\n",
       "Santalahti Tampere                  2020.066667\n",
       "esSence Guardamar Espanja           2020.000000\n",
       "El Chaparral Mijas Costa Espanja    2020.000000\n",
       "Vermonniitty Espoo                  2020.000000\n",
       "Los Frutales Torrevieja Espanja     2020.000000\n",
       "Keskusta, Hotkunranta Kuusamo       2020.000000\n",
       "Tali Helsinki                       2020.000000\n",
       "Mar Menor Mar Menor Espanja         2020.000000\n",
       "Arola Turku                         2020.000000\n",
       "Matkusniemi Kuopio                  2020.000000\n",
       "Mijas Fuengirola Espanja            2020.000000\n",
       "Pellaksenmäki Espoo                 2020.000000\n",
       "Asemanseutu Kuopio                  2020.000000\n",
       "Koivuhovi Kauniainen                2020.000000\n",
       "Name: year, dtype: float64"
      ]
     },
     "execution_count": 257,
     "metadata": {},
     "output_type": "execute_result"
    }
   ],
   "source": [
    "df.groupby('place')['year'].mean().sort_values(ascending=False)[:20]"
   ]
  },
  {
   "cell_type": "code",
   "execution_count": 258,
   "metadata": {},
   "outputs": [
    {
     "data": {
      "text/plain": [
       "place\n",
       "Vanalinn Tallinn Viro                 1543.500000\n",
       "Dordogne Dordogne Ranska              1600.000000\n",
       "Vanha kaupunki Porvoo                 1700.000000\n",
       "Wanha Rauma Rauma                     1700.000000\n",
       "Vanha Rauma Rauma                     1785.250000\n",
       "Kaava-alueet Kaustinen                1795.000000\n",
       "Nyby Siuntio                          1800.000000\n",
       "Keskusta, Vanhakaupunki Savonlinna    1806.000000\n",
       "Keskusta / Vanha Raahe Raahe          1810.000000\n",
       "Ruotsinsalo Padasjoki                 1812.000000\n",
       "Jokiranta Porvoo                      1816.666667\n",
       "Neristan Kokkola                      1820.000000\n",
       "Imavere küla Järva vald Viro          1829.000000\n",
       "Vanhakaupunki Loviisa                 1830.000000\n",
       "Tohmajärvi                            1841.000000\n",
       "Sorola Kangasala                      1849.000000\n",
       "Matalamaa Kokkola                     1850.000000\n",
       "Vanhakartano Espoo                    1850.000000\n",
       "Panttila Kurikka                      1858.000000\n",
       "Fiskari Raasepori                     1860.000000\n",
       "Name: year, dtype: float64"
      ]
     },
     "execution_count": 258,
     "metadata": {},
     "output_type": "execute_result"
    }
   ],
   "source": [
    "df.groupby('place')['year'].mean().sort_values(ascending=True)[:20]"
   ]
  },
  {
   "cell_type": "code",
   "execution_count": 259,
   "metadata": {},
   "outputs": [
    {
     "data": {
      "text/plain": [
       "type\n",
       "Luhtitalo        2007.364213\n",
       "Erillistalo      2005.550864\n",
       "Paritalo         2002.705912\n",
       "Kerrostalo       1999.843787\n",
       "Rivitalo         1993.533342\n",
       "Omakotitalo      1980.291125\n",
       "Puutalo-osake    1921.676768\n",
       "Name: year, dtype: float64"
      ]
     },
     "execution_count": 259,
     "metadata": {},
     "output_type": "execute_result"
    }
   ],
   "source": [
    "df.groupby('type')['year'].mean().sort_values(ascending=False)"
   ]
  },
  {
   "cell_type": "code",
   "execution_count": 260,
   "metadata": {
    "scrolled": true
   },
   "outputs": [
    {
     "data": {
      "image/png": "[encoded data removed]",
      "text/plain": [
       "<matplotlib.figure.Figure at 0x7f4121763a90>"
      ]
     },
     "metadata": {},
     "output_type": "display_data"
    }
   ],
   "source": [
    "plt.figure(figsize=(8,8),dpi=100)\n",
    "plt.scatter(x=df['year'], y=df['price'])\n",
    "\n",
    "plt.show()"
   ]
  },
  {
   "cell_type": "code",
   "execution_count": 266,
   "metadata": {},
   "outputs": [
    {
     "data": {
      "text/plain": [
       "type         place                          \n",
       "Rivitalo     Kontiomäki Paltamo                 2083.000000\n",
       "Kerrostalo   Ounasvaara Rovaniemi               1784.000000\n",
       "Erillistalo  Teerijärvi Kruunupyy               1550.000000\n",
       "Omakotitalo  Imavere küla Järva vald Viro       1445.000000\n",
       "             Valga vald Viro                    1379.800000\n",
       "Kerrostalo   Muurola Miehikkälä                 1310.000000\n",
       "Rivitalo     Muuruvesi ja Säyneinen Kuopio      1189.000000\n",
       "Omakotitalo  Kiviloo küla Raasiku vald Viro      999.200000\n",
       "Kerrostalo   Santamäki Rovaniemi                 972.000000\n",
       "             Radansuu Iitti                      958.000000\n",
       "Omakotitalo  Keminmaa                            940.000000\n",
       "Kerrostalo   Keskusta Salla                      926.000000\n",
       "Erillistalo  Torppi Tornio                       903.000000\n",
       "Kerrostalo   Mäntän keskusta Mänttä-Vilppula     902.000000\n",
       "Omakotitalo  Pyynikki Tampere                    889.000000\n",
       "             pirttikoski Pyhäjoki                888.000000\n",
       "             Vanalinn Tallinn Viro               779.800000\n",
       "             Turva küla Viljandi vald Viro       768.000000\n",
       "             Nuottionranta Ylitornio             763.000000\n",
       "             Kärde küla Jõgeva vald Viro         752.400000\n",
       "Kerrostalo   Itä Riika Riika Latvia              750.000000\n",
       "Omakotitalo  Laajasalo, Jollas Helsinki          700.000000\n",
       "             Roosiku küla Antsla vald Viro       683.000000\n",
       "Kerrostalo   Jokela Kouvola                      671.000000\n",
       "Omakotitalo  Pieksämäki                          650.000000\n",
       "Rivitalo     Linnoitus Hamina                    640.000000\n",
       "Omakotitalo  Lielahti Parainen                   637.000000\n",
       "Kerrostalo   Ristinummi Vaasa                    627.045455\n",
       "Omakotitalo  Hirsjärvi Somero                    627.000000\n",
       "Erillistalo  Tarvaala Laukaa                     625.000000\n",
       "             Liperi Liperi                       622.000000\n",
       "Omakotitalo  Uusi-Pätilä Hollola                 610.000000\n",
       "Kerrostalo   Suomussalmi Kk Suomussalmi          610.000000\n",
       "Omakotitalo  Salmijärvi Kajaani                  603.500000\n",
       "             Arusta küla Kiili vald Viro         602.700000\n",
       "             Vanhamäki Mikkeli                   600.000000\n",
       "             Torremuelle Benalmadena Espanja     587.000000\n",
       "Rivitalo     Keskusta Jämijärvi                  585.500000\n",
       "Omakotitalo  Rustholli Tampere                   582.000000\n",
       "Rivitalo     Otamo Siikainen                     577.000000\n",
       "Name: size, dtype: float64"
      ]
     },
     "execution_count": 266,
     "metadata": {},
     "output_type": "execute_result"
    }
   ],
   "source": [
    "df.groupby(['type','place'])['size'].mean().sort_values(ascending=False)[:40]"
   ]
  },
  {
   "cell_type": "code",
   "execution_count": 270,
   "metadata": {},
   "outputs": [
    {
     "data": {
      "image/png": "[encoded data removed]",
      "text/plain": [
       "<matplotlib.figure.Figure at 0x7f412a19ac18>"
      ]
     },
     "metadata": {},
     "output_type": "display_data"
    }
   ],
   "source": [
    "import seaborn as sns\n",
    "import matplotlib.pyplot as plt\n",
    "\n",
    "sns.countplot(df['type'])\n",
    "plt.show()"
   ]
  },
  {
   "cell_type": "code",
   "execution_count": null,
   "metadata": {},
   "outputs": [],
   "source": []
  }
 ],
 "metadata": {
  "kernelspec": {
   "display_name": "Python 3",
   "language": "python",
   "name": "python3"
  },
  "language_info": {
   "codemirror_mode": {
    "name": "ipython",
    "version": 3
   },
   "file_extension": ".py",
   "mimetype": "text/x-python",
   "name": "python",
   "nbconvert_exporter": "python",
   "pygments_lexer": "ipython3",
   "version": "3.6.4"
  }
 },
 "nbformat": 4,
 "nbformat_minor": 2
}
