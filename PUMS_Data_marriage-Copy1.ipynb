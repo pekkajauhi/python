{
 "cells": [
  {
   "cell_type": "markdown",
   "metadata": {},
   "source": [
    "### California marriage \n",
    "I decided to practice my machine learning skills with a real dataset. I used the PUMS dataset of the American Community Survey. These PUMS datasets are pretty big so I chose(quite randomly) to download the PUMS data of the state of California. After looking at the codebook for the dataset I decided that being married could be a good target variable. Here is my project: "
   ]
  },
  {
   "cell_type": "code",
   "execution_count": 1,
   "metadata": {},
   "outputs": [],
   "source": [
    "# Rreading in the data\n",
    "import pandas as pd\n",
    "df = pd.read_csv(\"Downloads/ss15pca.csv\")"
   ]
  },
  {
   "cell_type": "code",
   "execution_count": 2,
   "metadata": {},
   "outputs": [
    {
     "data": {
      "text/html": [
       "<div>\n",
       "<style scoped>\n",
       "    .dataframe tbody tr th:only-of-type {\n",
       "        vertical-align: middle;\n",
       "    }\n",
       "\n",
       "    .dataframe tbody tr th {\n",
       "        vertical-align: top;\n",
       "    }\n",
       "\n",
       "    .dataframe thead th {\n",
       "        text-align: right;\n",
       "    }\n",
       "</style>\n",
       "<table border=\"1\" class=\"dataframe\">\n",
       "  <thead>\n",
       "    <tr style=\"text-align: right;\">\n",
       "      <th></th>\n",
       "      <th>RT</th>\n",
       "      <th>SERIALNO</th>\n",
       "      <th>SPORDER</th>\n",
       "      <th>PUMA</th>\n",
       "      <th>ST</th>\n",
       "      <th>ADJINC</th>\n",
       "      <th>PWGTP</th>\n",
       "      <th>AGEP</th>\n",
       "      <th>CIT</th>\n",
       "      <th>CITWP</th>\n",
       "      <th>...</th>\n",
       "      <th>pwgtp71</th>\n",
       "      <th>pwgtp72</th>\n",
       "      <th>pwgtp73</th>\n",
       "      <th>pwgtp74</th>\n",
       "      <th>pwgtp75</th>\n",
       "      <th>pwgtp76</th>\n",
       "      <th>pwgtp77</th>\n",
       "      <th>pwgtp78</th>\n",
       "      <th>pwgtp79</th>\n",
       "      <th>pwgtp80</th>\n",
       "    </tr>\n",
       "  </thead>\n",
       "  <tbody>\n",
       "    <tr>\n",
       "      <th>0</th>\n",
       "      <td>P</td>\n",
       "      <td>8</td>\n",
       "      <td>1</td>\n",
       "      <td>5906</td>\n",
       "      <td>6</td>\n",
       "      <td>1001264</td>\n",
       "      <td>100</td>\n",
       "      <td>41</td>\n",
       "      <td>1</td>\n",
       "      <td>NaN</td>\n",
       "      <td>...</td>\n",
       "      <td>29</td>\n",
       "      <td>98</td>\n",
       "      <td>102</td>\n",
       "      <td>90</td>\n",
       "      <td>178</td>\n",
       "      <td>28</td>\n",
       "      <td>92</td>\n",
       "      <td>102</td>\n",
       "      <td>160</td>\n",
       "      <td>101</td>\n",
       "    </tr>\n",
       "    <tr>\n",
       "      <th>1</th>\n",
       "      <td>P</td>\n",
       "      <td>8</td>\n",
       "      <td>2</td>\n",
       "      <td>5906</td>\n",
       "      <td>6</td>\n",
       "      <td>1001264</td>\n",
       "      <td>79</td>\n",
       "      <td>32</td>\n",
       "      <td>5</td>\n",
       "      <td>NaN</td>\n",
       "      <td>...</td>\n",
       "      <td>24</td>\n",
       "      <td>73</td>\n",
       "      <td>89</td>\n",
       "      <td>77</td>\n",
       "      <td>138</td>\n",
       "      <td>22</td>\n",
       "      <td>81</td>\n",
       "      <td>80</td>\n",
       "      <td>133</td>\n",
       "      <td>86</td>\n",
       "    </tr>\n",
       "    <tr>\n",
       "      <th>2</th>\n",
       "      <td>P</td>\n",
       "      <td>9</td>\n",
       "      <td>1</td>\n",
       "      <td>8105</td>\n",
       "      <td>6</td>\n",
       "      <td>1001264</td>\n",
       "      <td>66</td>\n",
       "      <td>34</td>\n",
       "      <td>1</td>\n",
       "      <td>NaN</td>\n",
       "      <td>...</td>\n",
       "      <td>70</td>\n",
       "      <td>19</td>\n",
       "      <td>113</td>\n",
       "      <td>73</td>\n",
       "      <td>128</td>\n",
       "      <td>70</td>\n",
       "      <td>18</td>\n",
       "      <td>73</td>\n",
       "      <td>20</td>\n",
       "      <td>118</td>\n",
       "    </tr>\n",
       "    <tr>\n",
       "      <th>3</th>\n",
       "      <td>P</td>\n",
       "      <td>9</td>\n",
       "      <td>2</td>\n",
       "      <td>8105</td>\n",
       "      <td>6</td>\n",
       "      <td>1001264</td>\n",
       "      <td>70</td>\n",
       "      <td>34</td>\n",
       "      <td>1</td>\n",
       "      <td>NaN</td>\n",
       "      <td>...</td>\n",
       "      <td>67</td>\n",
       "      <td>16</td>\n",
       "      <td>114</td>\n",
       "      <td>74</td>\n",
       "      <td>128</td>\n",
       "      <td>78</td>\n",
       "      <td>21</td>\n",
       "      <td>77</td>\n",
       "      <td>20</td>\n",
       "      <td>113</td>\n",
       "    </tr>\n",
       "    <tr>\n",
       "      <th>4</th>\n",
       "      <td>P</td>\n",
       "      <td>9</td>\n",
       "      <td>3</td>\n",
       "      <td>8105</td>\n",
       "      <td>6</td>\n",
       "      <td>1001264</td>\n",
       "      <td>104</td>\n",
       "      <td>2</td>\n",
       "      <td>1</td>\n",
       "      <td>NaN</td>\n",
       "      <td>...</td>\n",
       "      <td>117</td>\n",
       "      <td>29</td>\n",
       "      <td>197</td>\n",
       "      <td>114</td>\n",
       "      <td>229</td>\n",
       "      <td>104</td>\n",
       "      <td>26</td>\n",
       "      <td>91</td>\n",
       "      <td>28</td>\n",
       "      <td>157</td>\n",
       "    </tr>\n",
       "  </tbody>\n",
       "</table>\n",
       "<p>5 rows × 284 columns</p>\n",
       "</div>"
      ],
      "text/plain": [
       "  RT  SERIALNO  SPORDER  PUMA  ST   ADJINC  PWGTP  AGEP  CIT  CITWP   ...     \\\n",
       "0  P         8        1  5906   6  1001264    100    41    1    NaN   ...      \n",
       "1  P         8        2  5906   6  1001264     79    32    5    NaN   ...      \n",
       "2  P         9        1  8105   6  1001264     66    34    1    NaN   ...      \n",
       "3  P         9        2  8105   6  1001264     70    34    1    NaN   ...      \n",
       "4  P         9        3  8105   6  1001264    104     2    1    NaN   ...      \n",
       "\n",
       "   pwgtp71  pwgtp72  pwgtp73  pwgtp74  pwgtp75  pwgtp76  pwgtp77  pwgtp78  \\\n",
       "0       29       98      102       90      178       28       92      102   \n",
       "1       24       73       89       77      138       22       81       80   \n",
       "2       70       19      113       73      128       70       18       73   \n",
       "3       67       16      114       74      128       78       21       77   \n",
       "4      117       29      197      114      229      104       26       91   \n",
       "\n",
       "   pwgtp79  pwgtp80  \n",
       "0      160      101  \n",
       "1      133       86  \n",
       "2       20      118  \n",
       "3       20      113  \n",
       "4       28      157  \n",
       "\n",
       "[5 rows x 284 columns]"
      ]
     },
     "execution_count": 2,
     "metadata": {},
     "output_type": "execute_result"
    }
   ],
   "source": [
    "df.head()"
   ]
  },
  {
   "cell_type": "code",
   "execution_count": 20,
   "metadata": {},
   "outputs": [
    {
     "data": {
      "text/html": [
       "<div>\n",
       "<style scoped>\n",
       "    .dataframe tbody tr th:only-of-type {\n",
       "        vertical-align: middle;\n",
       "    }\n",
       "\n",
       "    .dataframe tbody tr th {\n",
       "        vertical-align: top;\n",
       "    }\n",
       "\n",
       "    .dataframe thead th {\n",
       "        text-align: right;\n",
       "    }\n",
       "</style>\n",
       "<table border=\"1\" class=\"dataframe\">\n",
       "  <thead>\n",
       "    <tr style=\"text-align: right;\">\n",
       "      <th></th>\n",
       "      <th>SERIALNO</th>\n",
       "      <th>SPORDER</th>\n",
       "      <th>PUMA</th>\n",
       "      <th>ST</th>\n",
       "      <th>ADJINC</th>\n",
       "      <th>PWGTP</th>\n",
       "      <th>AGEP</th>\n",
       "      <th>CIT</th>\n",
       "      <th>CITWP</th>\n",
       "      <th>COW</th>\n",
       "      <th>...</th>\n",
       "      <th>pwgtp71</th>\n",
       "      <th>pwgtp72</th>\n",
       "      <th>pwgtp73</th>\n",
       "      <th>pwgtp74</th>\n",
       "      <th>pwgtp75</th>\n",
       "      <th>pwgtp76</th>\n",
       "      <th>pwgtp77</th>\n",
       "      <th>pwgtp78</th>\n",
       "      <th>pwgtp79</th>\n",
       "      <th>pwgtp80</th>\n",
       "    </tr>\n",
       "  </thead>\n",
       "  <tbody>\n",
       "    <tr>\n",
       "      <th>count</th>\n",
       "      <td>3.749430e+05</td>\n",
       "      <td>374943.000000</td>\n",
       "      <td>374943.000000</td>\n",
       "      <td>374943.0</td>\n",
       "      <td>374943.0</td>\n",
       "      <td>374943.000000</td>\n",
       "      <td>374943.000000</td>\n",
       "      <td>374943.000000</td>\n",
       "      <td>53489.000000</td>\n",
       "      <td>216691.000000</td>\n",
       "      <td>...</td>\n",
       "      <td>374943.000000</td>\n",
       "      <td>374943.000000</td>\n",
       "      <td>374943.000000</td>\n",
       "      <td>374943.000000</td>\n",
       "      <td>374943.000000</td>\n",
       "      <td>374943.000000</td>\n",
       "      <td>374943.000000</td>\n",
       "      <td>374943.000000</td>\n",
       "      <td>374943.000000</td>\n",
       "      <td>374943.000000</td>\n",
       "    </tr>\n",
       "    <tr>\n",
       "      <th>mean</th>\n",
       "      <td>7.555518e+05</td>\n",
       "      <td>2.287657</td>\n",
       "      <td>5480.772587</td>\n",
       "      <td>6.0</td>\n",
       "      <td>1001264.0</td>\n",
       "      <td>104.402050</td>\n",
       "      <td>39.591677</td>\n",
       "      <td>1.936977</td>\n",
       "      <td>1996.748229</td>\n",
       "      <td>2.243910</td>\n",
       "      <td>...</td>\n",
       "      <td>104.402050</td>\n",
       "      <td>104.402050</td>\n",
       "      <td>104.402050</td>\n",
       "      <td>104.402050</td>\n",
       "      <td>104.402050</td>\n",
       "      <td>104.402050</td>\n",
       "      <td>104.402050</td>\n",
       "      <td>104.402050</td>\n",
       "      <td>104.402050</td>\n",
       "      <td>104.402050</td>\n",
       "    </tr>\n",
       "    <tr>\n",
       "      <th>std</th>\n",
       "      <td>4.373408e+05</td>\n",
       "      <td>1.519594</td>\n",
       "      <td>2686.469545</td>\n",
       "      <td>0.0</td>\n",
       "      <td>0.0</td>\n",
       "      <td>74.281645</td>\n",
       "      <td>23.075687</td>\n",
       "      <td>1.545380</td>\n",
       "      <td>13.287794</td>\n",
       "      <td>2.034051</td>\n",
       "      <td>...</td>\n",
       "      <td>97.366571</td>\n",
       "      <td>97.972503</td>\n",
       "      <td>95.979652</td>\n",
       "      <td>97.331799</td>\n",
       "      <td>96.495271</td>\n",
       "      <td>96.558851</td>\n",
       "      <td>96.805124</td>\n",
       "      <td>96.808788</td>\n",
       "      <td>94.836798</td>\n",
       "      <td>97.821838</td>\n",
       "    </tr>\n",
       "    <tr>\n",
       "      <th>min</th>\n",
       "      <td>8.000000e+00</td>\n",
       "      <td>1.000000</td>\n",
       "      <td>101.000000</td>\n",
       "      <td>6.0</td>\n",
       "      <td>1001264.0</td>\n",
       "      <td>1.000000</td>\n",
       "      <td>0.000000</td>\n",
       "      <td>1.000000</td>\n",
       "      <td>1928.000000</td>\n",
       "      <td>1.000000</td>\n",
       "      <td>...</td>\n",
       "      <td>0.000000</td>\n",
       "      <td>0.000000</td>\n",
       "      <td>0.000000</td>\n",
       "      <td>0.000000</td>\n",
       "      <td>0.000000</td>\n",
       "      <td>0.000000</td>\n",
       "      <td>0.000000</td>\n",
       "      <td>0.000000</td>\n",
       "      <td>0.000000</td>\n",
       "      <td>-46.000000</td>\n",
       "    </tr>\n",
       "    <tr>\n",
       "      <th>25%</th>\n",
       "      <td>3.761070e+05</td>\n",
       "      <td>1.000000</td>\n",
       "      <td>3723.000000</td>\n",
       "      <td>6.0</td>\n",
       "      <td>1001264.0</td>\n",
       "      <td>60.000000</td>\n",
       "      <td>20.000000</td>\n",
       "      <td>1.000000</td>\n",
       "      <td>1989.000000</td>\n",
       "      <td>1.000000</td>\n",
       "      <td>...</td>\n",
       "      <td>40.000000</td>\n",
       "      <td>39.000000</td>\n",
       "      <td>42.000000</td>\n",
       "      <td>41.000000</td>\n",
       "      <td>42.000000</td>\n",
       "      <td>42.000000</td>\n",
       "      <td>41.000000</td>\n",
       "      <td>41.000000</td>\n",
       "      <td>43.000000</td>\n",
       "      <td>40.000000</td>\n",
       "    </tr>\n",
       "    <tr>\n",
       "      <th>50%</th>\n",
       "      <td>7.544920e+05</td>\n",
       "      <td>2.000000</td>\n",
       "      <td>5908.000000</td>\n",
       "      <td>6.0</td>\n",
       "      <td>1001264.0</td>\n",
       "      <td>81.000000</td>\n",
       "      <td>39.000000</td>\n",
       "      <td>1.000000</td>\n",
       "      <td>1999.000000</td>\n",
       "      <td>1.000000</td>\n",
       "      <td>...</td>\n",
       "      <td>77.000000</td>\n",
       "      <td>77.000000</td>\n",
       "      <td>78.000000</td>\n",
       "      <td>77.000000</td>\n",
       "      <td>78.000000</td>\n",
       "      <td>78.000000</td>\n",
       "      <td>77.000000</td>\n",
       "      <td>77.000000</td>\n",
       "      <td>78.000000</td>\n",
       "      <td>77.000000</td>\n",
       "    </tr>\n",
       "    <tr>\n",
       "      <th>75%</th>\n",
       "      <td>1.134729e+06</td>\n",
       "      <td>3.000000</td>\n",
       "      <td>7315.000000</td>\n",
       "      <td>6.0</td>\n",
       "      <td>1001264.0</td>\n",
       "      <td>126.000000</td>\n",
       "      <td>58.000000</td>\n",
       "      <td>4.000000</td>\n",
       "      <td>2007.000000</td>\n",
       "      <td>3.000000</td>\n",
       "      <td>...</td>\n",
       "      <td>133.000000</td>\n",
       "      <td>133.000000</td>\n",
       "      <td>132.000000</td>\n",
       "      <td>132.000000</td>\n",
       "      <td>132.000000</td>\n",
       "      <td>133.000000</td>\n",
       "      <td>132.000000</td>\n",
       "      <td>133.000000</td>\n",
       "      <td>132.000000</td>\n",
       "      <td>133.000000</td>\n",
       "    </tr>\n",
       "    <tr>\n",
       "      <th>max</th>\n",
       "      <td>1.513308e+06</td>\n",
       "      <td>20.000000</td>\n",
       "      <td>11300.000000</td>\n",
       "      <td>6.0</td>\n",
       "      <td>1001264.0</td>\n",
       "      <td>1275.000000</td>\n",
       "      <td>94.000000</td>\n",
       "      <td>5.000000</td>\n",
       "      <td>2015.000000</td>\n",
       "      <td>9.000000</td>\n",
       "      <td>...</td>\n",
       "      <td>1921.000000</td>\n",
       "      <td>1861.000000</td>\n",
       "      <td>1872.000000</td>\n",
       "      <td>1802.000000</td>\n",
       "      <td>1909.000000</td>\n",
       "      <td>1820.000000</td>\n",
       "      <td>1642.000000</td>\n",
       "      <td>2004.000000</td>\n",
       "      <td>1640.000000</td>\n",
       "      <td>1903.000000</td>\n",
       "    </tr>\n",
       "  </tbody>\n",
       "</table>\n",
       "<p>8 rows × 281 columns</p>\n",
       "</div>"
      ],
      "text/plain": [
       "           SERIALNO        SPORDER           PUMA        ST     ADJINC  \\\n",
       "count  3.749430e+05  374943.000000  374943.000000  374943.0   374943.0   \n",
       "mean   7.555518e+05       2.287657    5480.772587       6.0  1001264.0   \n",
       "std    4.373408e+05       1.519594    2686.469545       0.0        0.0   \n",
       "min    8.000000e+00       1.000000     101.000000       6.0  1001264.0   \n",
       "25%    3.761070e+05       1.000000    3723.000000       6.0  1001264.0   \n",
       "50%    7.544920e+05       2.000000    5908.000000       6.0  1001264.0   \n",
       "75%    1.134729e+06       3.000000    7315.000000       6.0  1001264.0   \n",
       "max    1.513308e+06      20.000000   11300.000000       6.0  1001264.0   \n",
       "\n",
       "               PWGTP           AGEP            CIT         CITWP  \\\n",
       "count  374943.000000  374943.000000  374943.000000  53489.000000   \n",
       "mean      104.402050      39.591677       1.936977   1996.748229   \n",
       "std        74.281645      23.075687       1.545380     13.287794   \n",
       "min         1.000000       0.000000       1.000000   1928.000000   \n",
       "25%        60.000000      20.000000       1.000000   1989.000000   \n",
       "50%        81.000000      39.000000       1.000000   1999.000000   \n",
       "75%       126.000000      58.000000       4.000000   2007.000000   \n",
       "max      1275.000000      94.000000       5.000000   2015.000000   \n",
       "\n",
       "                 COW      ...              pwgtp71        pwgtp72  \\\n",
       "count  216691.000000      ...        374943.000000  374943.000000   \n",
       "mean        2.243910      ...           104.402050     104.402050   \n",
       "std         2.034051      ...            97.366571      97.972503   \n",
       "min         1.000000      ...             0.000000       0.000000   \n",
       "25%         1.000000      ...            40.000000      39.000000   \n",
       "50%         1.000000      ...            77.000000      77.000000   \n",
       "75%         3.000000      ...           133.000000     133.000000   \n",
       "max         9.000000      ...          1921.000000    1861.000000   \n",
       "\n",
       "             pwgtp73        pwgtp74        pwgtp75        pwgtp76  \\\n",
       "count  374943.000000  374943.000000  374943.000000  374943.000000   \n",
       "mean      104.402050     104.402050     104.402050     104.402050   \n",
       "std        95.979652      97.331799      96.495271      96.558851   \n",
       "min         0.000000       0.000000       0.000000       0.000000   \n",
       "25%        42.000000      41.000000      42.000000      42.000000   \n",
       "50%        78.000000      77.000000      78.000000      78.000000   \n",
       "75%       132.000000     132.000000     132.000000     133.000000   \n",
       "max      1872.000000    1802.000000    1909.000000    1820.000000   \n",
       "\n",
       "             pwgtp77        pwgtp78        pwgtp79        pwgtp80  \n",
       "count  374943.000000  374943.000000  374943.000000  374943.000000  \n",
       "mean      104.402050     104.402050     104.402050     104.402050  \n",
       "std        96.805124      96.808788      94.836798      97.821838  \n",
       "min         0.000000       0.000000       0.000000     -46.000000  \n",
       "25%        41.000000      41.000000      43.000000      40.000000  \n",
       "50%        77.000000      77.000000      78.000000      77.000000  \n",
       "75%       132.000000     133.000000     132.000000     133.000000  \n",
       "max      1642.000000    2004.000000    1640.000000    1903.000000  \n",
       "\n",
       "[8 rows x 281 columns]"
      ]
     },
     "execution_count": 20,
     "metadata": {},
     "output_type": "execute_result"
    }
   ],
   "source": [
    "df.describe()"
   ]
  },
  {
   "cell_type": "code",
   "execution_count": 3,
   "metadata": {
    "scrolled": true
   },
   "outputs": [
    {
     "name": "stdout",
     "output_type": "stream",
     "text": [
      "<class 'pandas.core.frame.DataFrame'>\n",
      "RangeIndex: 374943 entries, 0 to 374942\n",
      "Columns: 284 entries, RT to pwgtp80\n",
      "dtypes: float64(83), int64(198), object(3)\n",
      "memory usage: 812.4+ MB\n"
     ]
    }
   ],
   "source": [
    "df.info()"
   ]
  },
  {
   "cell_type": "code",
   "execution_count": 4,
   "metadata": {},
   "outputs": [
    {
     "data": {
      "text/plain": [
       "Index(['RT', 'SERIALNO', 'SPORDER', 'PUMA', 'ST', 'ADJINC', 'PWGTP', 'AGEP',\n",
       "       'CIT', 'CITWP', 'COW', 'DDRS', 'DEAR', 'DEYE', 'DOUT', 'DPHY', 'DRAT',\n",
       "       'DRATX', 'DREM', 'ENG', 'FER', 'GCL', 'GCM', 'GCR', 'HINS1', 'HINS2',\n",
       "       'HINS3', 'HINS4', 'HINS5', 'HINS6', 'HINS7', 'INTP', 'JWMNP', 'JWRIP',\n",
       "       'JWTR', 'LANX', 'MAR', 'MARHD', 'MARHM', 'MARHT', 'MARHW', 'MARHYP',\n",
       "       'MIG', 'MIL', 'MLPA', 'MLPB', 'MLPCD', 'MLPE', 'MLPFG', 'MLPH'],\n",
       "      dtype='object')"
      ]
     },
     "execution_count": 4,
     "metadata": {},
     "output_type": "execute_result"
    }
   ],
   "source": [
    "df.columns[:50]"
   ]
  },
  {
   "cell_type": "code",
   "execution_count": 3,
   "metadata": {},
   "outputs": [
    {
     "data": {
      "text/plain": [
       "294532"
      ]
     },
     "execution_count": 3,
     "metadata": {},
     "output_type": "execute_result"
    }
   ],
   "source": [
    "(df.AGEP > 17 ).sum()"
   ]
  },
  {
   "cell_type": "code",
   "execution_count": 4,
   "metadata": {},
   "outputs": [],
   "source": [
    "adults = df.AGEP > 17"
   ]
  },
  {
   "cell_type": "code",
   "execution_count": 5,
   "metadata": {},
   "outputs": [
    {
     "data": {
      "text/plain": [
       "(374943, 284)"
      ]
     },
     "execution_count": 5,
     "metadata": {},
     "output_type": "execute_result"
    }
   ],
   "source": [
    "df.shape"
   ]
  },
  {
   "cell_type": "code",
   "execution_count": 6,
   "metadata": {},
   "outputs": [],
   "source": [
    "df_adult = df[adults]"
   ]
  },
  {
   "cell_type": "code",
   "execution_count": 7,
   "metadata": {},
   "outputs": [
    {
     "data": {
      "text/plain": [
       "(294532, 284)"
      ]
     },
     "execution_count": 7,
     "metadata": {},
     "output_type": "execute_result"
    }
   ],
   "source": [
    "df_adult.shape"
   ]
  },
  {
   "cell_type": "code",
   "execution_count": 11,
   "metadata": {},
   "outputs": [
    {
     "data": {
      "text/plain": [
       "FER       213980\n",
       "GCL        60309\n",
       "GCM       291884\n",
       "GCR       284010\n",
       "HINS1          0\n",
       "HINS2          0\n",
       "HINS3          0\n",
       "HINS4          0\n",
       "HINS5          0\n",
       "HINS6          0\n",
       "HINS7          0\n",
       "INTP           0\n",
       "JWMNP     138916\n",
       "JWRIP     156373\n",
       "JWTR      129361\n",
       "LANX           0\n",
       "MAR            0\n",
       "MARHD      90365\n",
       "MARHM      90365\n",
       "MARHT      90365\n",
       "MARHW      90365\n",
       "MARHYP     90365\n",
       "MIG            0\n",
       "MIL            0\n",
       "MLPA      274646\n",
       "MLPB      274646\n",
       "MLPCD     274646\n",
       "MLPE      274646\n",
       "MLPFG     274646\n",
       "MLPH      274646\n",
       "dtype: int64"
      ]
     },
     "execution_count": 11,
     "metadata": {},
     "output_type": "execute_result"
    }
   ],
   "source": [
    "df_adult.isnull().sum()[20:50]"
   ]
  },
  {
   "cell_type": "code",
   "execution_count": 13,
   "metadata": {},
   "outputs": [
    {
     "data": {
      "text/plain": [
       "Index(['RT', 'SERIALNO', 'SPORDER', 'PUMA', 'ST', 'ADJINC', 'PWGTP', 'AGEP',\n",
       "       'CIT', 'CITWP', 'COW', 'DDRS', 'DEAR', 'DEYE', 'DOUT', 'DPHY', 'DRAT',\n",
       "       'DRATX', 'DREM', 'ENG', 'FER', 'GCL', 'GCM', 'GCR', 'HINS1', 'HINS2',\n",
       "       'HINS3', 'HINS4', 'HINS5', 'HINS6', 'HINS7', 'INTP', 'JWMNP', 'JWRIP',\n",
       "       'JWTR', 'LANX', 'MAR', 'MARHD', 'MARHM', 'MARHT', 'MARHW', 'MARHYP',\n",
       "       'MIG', 'MIL', 'MLPA', 'MLPB', 'MLPCD', 'MLPE', 'MLPFG', 'MLPH', 'MLPI',\n",
       "       'MLPJ', 'MLPK', 'NWAB', 'NWAV', 'NWLA', 'NWLK', 'NWRE', 'OIP', 'PAP',\n",
       "       'RELP', 'RETP', 'SCH', 'SCHG', 'SCHL', 'SEMP', 'SEX', 'SSIP', 'SSP',\n",
       "       'WAGP'],\n",
       "      dtype='object')"
      ]
     },
     "execution_count": 13,
     "metadata": {},
     "output_type": "execute_result"
    }
   ],
   "source": [
    "df.columns[:70]"
   ]
  },
  {
   "cell_type": "code",
   "execution_count": 201,
   "metadata": {},
   "outputs": [],
   "source": [
    "# Selecting possibly useful variables\n",
    "df_select = df_adult[['AGEP', 'PINCP', 'DIS', 'ESR','COW','DEAR','DEYE','DRATX','DREM','ENG','FER','INTP','JWMNP',\n",
    "                     'JWTR', 'LANX', 'MAR','MARHD','MARHT','MARHW','MIG','MIL','CIT','PAP','RETP','SCHL','SEMP','SEX',\n",
    "                      'SSP','WAGP','WKHP','ANC1P','ANC2P','FOD1P','HICOV','INDP','LANP','MSP','NAICSP',\n",
    "                     'NATIVITY','POBP','RAC1P','WAOB']]"
   ]
  },
  {
   "cell_type": "code",
   "execution_count": 202,
   "metadata": {
    "scrolled": true
   },
   "outputs": [
    {
     "data": {
      "text/html": [
       "<div>\n",
       "<style scoped>\n",
       "    .dataframe tbody tr th:only-of-type {\n",
       "        vertical-align: middle;\n",
       "    }\n",
       "\n",
       "    .dataframe tbody tr th {\n",
       "        vertical-align: top;\n",
       "    }\n",
       "\n",
       "    .dataframe thead th {\n",
       "        text-align: right;\n",
       "    }\n",
       "</style>\n",
       "<table border=\"1\" class=\"dataframe\">\n",
       "  <thead>\n",
       "    <tr style=\"text-align: right;\">\n",
       "      <th></th>\n",
       "      <th>AGEP</th>\n",
       "      <th>PINCP</th>\n",
       "      <th>DIS</th>\n",
       "      <th>ESR</th>\n",
       "      <th>COW</th>\n",
       "      <th>DEAR</th>\n",
       "      <th>DEYE</th>\n",
       "      <th>DRATX</th>\n",
       "      <th>DREM</th>\n",
       "      <th>ENG</th>\n",
       "      <th>...</th>\n",
       "      <th>FOD1P</th>\n",
       "      <th>HICOV</th>\n",
       "      <th>INDP</th>\n",
       "      <th>LANP</th>\n",
       "      <th>MSP</th>\n",
       "      <th>NAICSP</th>\n",
       "      <th>NATIVITY</th>\n",
       "      <th>POBP</th>\n",
       "      <th>RAC1P</th>\n",
       "      <th>WAOB</th>\n",
       "    </tr>\n",
       "  </thead>\n",
       "  <tbody>\n",
       "    <tr>\n",
       "      <th>0</th>\n",
       "      <td>41</td>\n",
       "      <td>52000.0</td>\n",
       "      <td>2</td>\n",
       "      <td>1.0</td>\n",
       "      <td>1.0</td>\n",
       "      <td>2</td>\n",
       "      <td>2</td>\n",
       "      <td>2.0</td>\n",
       "      <td>2.0</td>\n",
       "      <td>1.0</td>\n",
       "      <td>...</td>\n",
       "      <td>6203.0</td>\n",
       "      <td>1</td>\n",
       "      <td>4380.0</td>\n",
       "      <td>625.0</td>\n",
       "      <td>1.0</td>\n",
       "      <td>424M</td>\n",
       "      <td>1</td>\n",
       "      <td>6</td>\n",
       "      <td>1</td>\n",
       "      <td>1</td>\n",
       "    </tr>\n",
       "    <tr>\n",
       "      <th>1</th>\n",
       "      <td>32</td>\n",
       "      <td>0.0</td>\n",
       "      <td>2</td>\n",
       "      <td>6.0</td>\n",
       "      <td>1.0</td>\n",
       "      <td>2</td>\n",
       "      <td>2</td>\n",
       "      <td>NaN</td>\n",
       "      <td>2.0</td>\n",
       "      <td>1.0</td>\n",
       "      <td>...</td>\n",
       "      <td>NaN</td>\n",
       "      <td>2</td>\n",
       "      <td>6890.0</td>\n",
       "      <td>625.0</td>\n",
       "      <td>1.0</td>\n",
       "      <td>522M</td>\n",
       "      <td>2</td>\n",
       "      <td>303</td>\n",
       "      <td>1</td>\n",
       "      <td>3</td>\n",
       "    </tr>\n",
       "    <tr>\n",
       "      <th>2</th>\n",
       "      <td>34</td>\n",
       "      <td>0.0</td>\n",
       "      <td>2</td>\n",
       "      <td>6.0</td>\n",
       "      <td>1.0</td>\n",
       "      <td>2</td>\n",
       "      <td>2</td>\n",
       "      <td>NaN</td>\n",
       "      <td>2.0</td>\n",
       "      <td>NaN</td>\n",
       "      <td>...</td>\n",
       "      <td>3608.0</td>\n",
       "      <td>1</td>\n",
       "      <td>7270.0</td>\n",
       "      <td>NaN</td>\n",
       "      <td>1.0</td>\n",
       "      <td>5411</td>\n",
       "      <td>1</td>\n",
       "      <td>17</td>\n",
       "      <td>1</td>\n",
       "      <td>1</td>\n",
       "    </tr>\n",
       "    <tr>\n",
       "      <th>3</th>\n",
       "      <td>34</td>\n",
       "      <td>232000.0</td>\n",
       "      <td>2</td>\n",
       "      <td>1.0</td>\n",
       "      <td>1.0</td>\n",
       "      <td>2</td>\n",
       "      <td>2</td>\n",
       "      <td>NaN</td>\n",
       "      <td>2.0</td>\n",
       "      <td>NaN</td>\n",
       "      <td>...</td>\n",
       "      <td>5501.0</td>\n",
       "      <td>1</td>\n",
       "      <td>3365.0</td>\n",
       "      <td>NaN</td>\n",
       "      <td>1.0</td>\n",
       "      <td>3341</td>\n",
       "      <td>1</td>\n",
       "      <td>45</td>\n",
       "      <td>1</td>\n",
       "      <td>1</td>\n",
       "    </tr>\n",
       "    <tr>\n",
       "      <th>6</th>\n",
       "      <td>55</td>\n",
       "      <td>68900.0</td>\n",
       "      <td>2</td>\n",
       "      <td>1.0</td>\n",
       "      <td>6.0</td>\n",
       "      <td>2</td>\n",
       "      <td>2</td>\n",
       "      <td>NaN</td>\n",
       "      <td>2.0</td>\n",
       "      <td>NaN</td>\n",
       "      <td>...</td>\n",
       "      <td>6203.0</td>\n",
       "      <td>1</td>\n",
       "      <td>7280.0</td>\n",
       "      <td>NaN</td>\n",
       "      <td>4.0</td>\n",
       "      <td>5412</td>\n",
       "      <td>1</td>\n",
       "      <td>17</td>\n",
       "      <td>1</td>\n",
       "      <td>1</td>\n",
       "    </tr>\n",
       "  </tbody>\n",
       "</table>\n",
       "<p>5 rows × 42 columns</p>\n",
       "</div>"
      ],
      "text/plain": [
       "   AGEP     PINCP  DIS  ESR  COW  DEAR  DEYE  DRATX  DREM  ENG  ...    FOD1P  \\\n",
       "0    41   52000.0    2  1.0  1.0     2     2    2.0   2.0  1.0  ...   6203.0   \n",
       "1    32       0.0    2  6.0  1.0     2     2    NaN   2.0  1.0  ...      NaN   \n",
       "2    34       0.0    2  6.0  1.0     2     2    NaN   2.0  NaN  ...   3608.0   \n",
       "3    34  232000.0    2  1.0  1.0     2     2    NaN   2.0  NaN  ...   5501.0   \n",
       "6    55   68900.0    2  1.0  6.0     2     2    NaN   2.0  NaN  ...   6203.0   \n",
       "\n",
       "   HICOV    INDP   LANP  MSP  NAICSP  NATIVITY  POBP  RAC1P  WAOB  \n",
       "0      1  4380.0  625.0  1.0    424M         1     6      1     1  \n",
       "1      2  6890.0  625.0  1.0    522M         2   303      1     3  \n",
       "2      1  7270.0    NaN  1.0    5411         1    17      1     1  \n",
       "3      1  3365.0    NaN  1.0    3341         1    45      1     1  \n",
       "6      1  7280.0    NaN  4.0    5412         1    17      1     1  \n",
       "\n",
       "[5 rows x 42 columns]"
      ]
     },
     "execution_count": 202,
     "metadata": {},
     "output_type": "execute_result"
    }
   ],
   "source": [
    "df_select.head()"
   ]
  },
  {
   "cell_type": "code",
   "execution_count": 185,
   "metadata": {},
   "outputs": [
    {
     "data": {
      "text/plain": [
       "(294532, 43)"
      ]
     },
     "execution_count": 185,
     "metadata": {},
     "output_type": "execute_result"
    }
   ],
   "source": [
    "df_select.shape"
   ]
  },
  {
   "cell_type": "code",
   "execution_count": 186,
   "metadata": {},
   "outputs": [
    {
     "data": {
      "text/plain": [
       "AGEP        0\n",
       "PINCP       0\n",
       "DIS         0\n",
       "ESR         0\n",
       "COW         0\n",
       "DEAR        0\n",
       "DEYE        0\n",
       "DRATX       0\n",
       "DREM        0\n",
       "ENG         0\n",
       "FER         0\n",
       "INTP        0\n",
       "JWMNP       0\n",
       "JWTR        0\n",
       "LANX        0\n",
       "MAR         0\n",
       "MARHD       0\n",
       "MARHT       0\n",
       "MARHW       0\n",
       "MIG         0\n",
       "MIL         0\n",
       "CIT         0\n",
       "PAP         0\n",
       "RETP        0\n",
       "SCHL        0\n",
       "SEMP        0\n",
       "SEX         0\n",
       "SSP         0\n",
       "WAGP        0\n",
       "WKHP        0\n",
       "ANC1P       0\n",
       "ANC2P       0\n",
       "FOD1P       0\n",
       "HICOV       0\n",
       "INDP        0\n",
       "LANP        0\n",
       "MSP         0\n",
       "NAICSP      0\n",
       "NATIVITY    0\n",
       "POBP        0\n",
       "RAC1P       0\n",
       "WAOB        0\n",
       "married     0\n",
       "dtype: int64"
      ]
     },
     "execution_count": 186,
     "metadata": {},
     "output_type": "execute_result"
    }
   ],
   "source": [
    "df_select.isnull().sum()"
   ]
  },
  {
   "cell_type": "code",
   "execution_count": 203,
   "metadata": {},
   "outputs": [],
   "source": [
    "df_select = df_select.apply(lambda x:x.fillna(0))"
   ]
  },
  {
   "cell_type": "code",
   "execution_count": 204,
   "metadata": {},
   "outputs": [],
   "source": [
    "import matplotlib.pyplot as plt"
   ]
  },
  {
   "cell_type": "code",
   "execution_count": 205,
   "metadata": {
    "scrolled": true
   },
   "outputs": [
    {
     "data": {
      "image/png": "[encoded data removed]",
      "text/plain": [
       "<matplotlib.figure.Figure at 0x7f5c79a25748>"
      ]
     },
     "metadata": {},
     "output_type": "display_data"
    }
   ],
   "source": [
    "plt.hist(df_select.AGEP, bins=20)\n",
    "plt.show()"
   ]
  },
  {
   "cell_type": "markdown",
   "metadata": {},
   "source": [
    "So in this project I'm trying to build a model that predicts whether a person is married or not. Here I'm creating a variable which is 1 for married people and 0 for everyone else(single, divorced, widowed etc)."
   ]
  },
  {
   "cell_type": "code",
   "execution_count": 206,
   "metadata": {},
   "outputs": [],
   "source": [
    "married = (df_select.MAR == 1)"
   ]
  },
  {
   "cell_type": "code",
   "execution_count": 207,
   "metadata": {},
   "outputs": [],
   "source": [
    "df_select['married'] = married.astype(int)"
   ]
  },
  {
   "cell_type": "code",
   "execution_count": 208,
   "metadata": {},
   "outputs": [],
   "source": [
    "df_marr = df_select.drop('MAR', axis=1)\n",
    "df_marr = df_marr.drop('MARHD', axis=1)\n",
    "df_marr = df_marr.drop('MARHT', axis=1)\n",
    "df_marr = df_marr.drop('MARHW', axis=1)\n",
    "#df_marr = df_marr.drop('FER', axis=1)\n",
    "df_marr = df_marr.drop('MSP', axis=1)"
   ]
  },
  {
   "cell_type": "code",
   "execution_count": 209,
   "metadata": {
    "scrolled": true
   },
   "outputs": [
    {
     "data": {
      "text/html": [
       "<div>\n",
       "<style scoped>\n",
       "    .dataframe tbody tr th:only-of-type {\n",
       "        vertical-align: middle;\n",
       "    }\n",
       "\n",
       "    .dataframe tbody tr th {\n",
       "        vertical-align: top;\n",
       "    }\n",
       "\n",
       "    .dataframe thead th {\n",
       "        text-align: right;\n",
       "    }\n",
       "</style>\n",
       "<table border=\"1\" class=\"dataframe\">\n",
       "  <thead>\n",
       "    <tr style=\"text-align: right;\">\n",
       "      <th></th>\n",
       "      <th>AGEP</th>\n",
       "      <th>PINCP</th>\n",
       "      <th>DIS</th>\n",
       "      <th>ESR</th>\n",
       "      <th>COW</th>\n",
       "      <th>DEAR</th>\n",
       "      <th>DEYE</th>\n",
       "      <th>DRATX</th>\n",
       "      <th>DREM</th>\n",
       "      <th>ENG</th>\n",
       "      <th>...</th>\n",
       "      <th>FOD1P</th>\n",
       "      <th>HICOV</th>\n",
       "      <th>INDP</th>\n",
       "      <th>LANP</th>\n",
       "      <th>NAICSP</th>\n",
       "      <th>NATIVITY</th>\n",
       "      <th>POBP</th>\n",
       "      <th>RAC1P</th>\n",
       "      <th>WAOB</th>\n",
       "      <th>married</th>\n",
       "    </tr>\n",
       "  </thead>\n",
       "  <tbody>\n",
       "    <tr>\n",
       "      <th>0</th>\n",
       "      <td>41</td>\n",
       "      <td>52000.0</td>\n",
       "      <td>2</td>\n",
       "      <td>1.0</td>\n",
       "      <td>1.0</td>\n",
       "      <td>2</td>\n",
       "      <td>2</td>\n",
       "      <td>2.0</td>\n",
       "      <td>2.0</td>\n",
       "      <td>1.0</td>\n",
       "      <td>...</td>\n",
       "      <td>6203.0</td>\n",
       "      <td>1</td>\n",
       "      <td>4380.0</td>\n",
       "      <td>625.0</td>\n",
       "      <td>424M</td>\n",
       "      <td>1</td>\n",
       "      <td>6</td>\n",
       "      <td>1</td>\n",
       "      <td>1</td>\n",
       "      <td>1</td>\n",
       "    </tr>\n",
       "    <tr>\n",
       "      <th>1</th>\n",
       "      <td>32</td>\n",
       "      <td>0.0</td>\n",
       "      <td>2</td>\n",
       "      <td>6.0</td>\n",
       "      <td>1.0</td>\n",
       "      <td>2</td>\n",
       "      <td>2</td>\n",
       "      <td>0.0</td>\n",
       "      <td>2.0</td>\n",
       "      <td>1.0</td>\n",
       "      <td>...</td>\n",
       "      <td>0.0</td>\n",
       "      <td>2</td>\n",
       "      <td>6890.0</td>\n",
       "      <td>625.0</td>\n",
       "      <td>522M</td>\n",
       "      <td>2</td>\n",
       "      <td>303</td>\n",
       "      <td>1</td>\n",
       "      <td>3</td>\n",
       "      <td>1</td>\n",
       "    </tr>\n",
       "    <tr>\n",
       "      <th>2</th>\n",
       "      <td>34</td>\n",
       "      <td>0.0</td>\n",
       "      <td>2</td>\n",
       "      <td>6.0</td>\n",
       "      <td>1.0</td>\n",
       "      <td>2</td>\n",
       "      <td>2</td>\n",
       "      <td>0.0</td>\n",
       "      <td>2.0</td>\n",
       "      <td>0.0</td>\n",
       "      <td>...</td>\n",
       "      <td>3608.0</td>\n",
       "      <td>1</td>\n",
       "      <td>7270.0</td>\n",
       "      <td>0.0</td>\n",
       "      <td>5411</td>\n",
       "      <td>1</td>\n",
       "      <td>17</td>\n",
       "      <td>1</td>\n",
       "      <td>1</td>\n",
       "      <td>1</td>\n",
       "    </tr>\n",
       "    <tr>\n",
       "      <th>3</th>\n",
       "      <td>34</td>\n",
       "      <td>232000.0</td>\n",
       "      <td>2</td>\n",
       "      <td>1.0</td>\n",
       "      <td>1.0</td>\n",
       "      <td>2</td>\n",
       "      <td>2</td>\n",
       "      <td>0.0</td>\n",
       "      <td>2.0</td>\n",
       "      <td>0.0</td>\n",
       "      <td>...</td>\n",
       "      <td>5501.0</td>\n",
       "      <td>1</td>\n",
       "      <td>3365.0</td>\n",
       "      <td>0.0</td>\n",
       "      <td>3341</td>\n",
       "      <td>1</td>\n",
       "      <td>45</td>\n",
       "      <td>1</td>\n",
       "      <td>1</td>\n",
       "      <td>1</td>\n",
       "    </tr>\n",
       "    <tr>\n",
       "      <th>6</th>\n",
       "      <td>55</td>\n",
       "      <td>68900.0</td>\n",
       "      <td>2</td>\n",
       "      <td>1.0</td>\n",
       "      <td>6.0</td>\n",
       "      <td>2</td>\n",
       "      <td>2</td>\n",
       "      <td>0.0</td>\n",
       "      <td>2.0</td>\n",
       "      <td>0.0</td>\n",
       "      <td>...</td>\n",
       "      <td>6203.0</td>\n",
       "      <td>1</td>\n",
       "      <td>7280.0</td>\n",
       "      <td>0.0</td>\n",
       "      <td>5412</td>\n",
       "      <td>1</td>\n",
       "      <td>17</td>\n",
       "      <td>1</td>\n",
       "      <td>1</td>\n",
       "      <td>0</td>\n",
       "    </tr>\n",
       "  </tbody>\n",
       "</table>\n",
       "<p>5 rows × 38 columns</p>\n",
       "</div>"
      ],
      "text/plain": [
       "   AGEP     PINCP  DIS  ESR  COW  DEAR  DEYE  DRATX  DREM  ENG   ...     \\\n",
       "0    41   52000.0    2  1.0  1.0     2     2    2.0   2.0  1.0   ...      \n",
       "1    32       0.0    2  6.0  1.0     2     2    0.0   2.0  1.0   ...      \n",
       "2    34       0.0    2  6.0  1.0     2     2    0.0   2.0  0.0   ...      \n",
       "3    34  232000.0    2  1.0  1.0     2     2    0.0   2.0  0.0   ...      \n",
       "6    55   68900.0    2  1.0  6.0     2     2    0.0   2.0  0.0   ...      \n",
       "\n",
       "    FOD1P  HICOV    INDP   LANP  NAICSP  NATIVITY  POBP  RAC1P  WAOB  married  \n",
       "0  6203.0      1  4380.0  625.0    424M         1     6      1     1        1  \n",
       "1     0.0      2  6890.0  625.0    522M         2   303      1     3        1  \n",
       "2  3608.0      1  7270.0    0.0    5411         1    17      1     1        1  \n",
       "3  5501.0      1  3365.0    0.0    3341         1    45      1     1        1  \n",
       "6  6203.0      1  7280.0    0.0    5412         1    17      1     1        0  \n",
       "\n",
       "[5 rows x 38 columns]"
      ]
     },
     "execution_count": 209,
     "metadata": {},
     "output_type": "execute_result"
    }
   ],
   "source": [
    "df_marr.head()"
   ]
  },
  {
   "cell_type": "code",
   "execution_count": 210,
   "metadata": {},
   "outputs": [
    {
     "data": {
      "text/plain": [
       "Index(['AGEP', 'PINCP', 'DIS', 'ESR', 'COW', 'DEAR', 'DEYE', 'DRATX', 'DREM',\n",
       "       'ENG', 'FER', 'INTP', 'JWMNP', 'JWTR', 'LANX', 'MIG', 'MIL', 'CIT',\n",
       "       'PAP', 'RETP', 'SCHL', 'SEMP', 'SEX', 'SSP', 'WAGP', 'WKHP', 'ANC1P',\n",
       "       'ANC2P', 'FOD1P', 'HICOV', 'INDP', 'LANP', 'NAICSP', 'NATIVITY', 'POBP',\n",
       "       'RAC1P', 'WAOB', 'married'],\n",
       "      dtype='object')"
      ]
     },
     "execution_count": 210,
     "metadata": {},
     "output_type": "execute_result"
    }
   ],
   "source": [
    "df_marr.columns"
   ]
  },
  {
   "cell_type": "markdown",
   "metadata": {},
   "source": [
    "I decided to recode most of the categorical variables. This will be useful later as I dummy code the categorical variables. Some of the categorical variables which had multiple levels I decided to recode them to have only 2 levels (for example 'unemployed' and 'employed')"
   ]
  },
  {
   "cell_type": "code",
   "execution_count": 211,
   "metadata": {},
   "outputs": [],
   "source": [
    "df_marr['DIS'] = df_marr['DIS'].map({2:0, 1:1})"
   ]
  },
  {
   "cell_type": "code",
   "execution_count": 212,
   "metadata": {},
   "outputs": [],
   "source": [
    "df_marr['SEX'] = df_marr['SEX'].map({2:'FEMALE', 1:'MALE'})"
   ]
  },
  {
   "cell_type": "code",
   "execution_count": 213,
   "metadata": {},
   "outputs": [],
   "source": [
    "df_marr['ESR'] = df_marr['ESR'].map({3:'UNEMPLOYED',1:'EMPLOYED',2:'EMPLOYED',4:'EMPLOYED',5:'EMPLOYED',6:'EMPLOYED'})"
   ]
  },
  {
   "cell_type": "code",
   "execution_count": 214,
   "metadata": {},
   "outputs": [
    {
     "data": {
      "text/plain": [
       "0    EMPLOYED\n",
       "1    EMPLOYED\n",
       "2    EMPLOYED\n",
       "3    EMPLOYED\n",
       "6    EMPLOYED\n",
       "Name: ESR, dtype: object"
      ]
     },
     "execution_count": 214,
     "metadata": {},
     "output_type": "execute_result"
    }
   ],
   "source": [
    "df_marr.ESR.head()"
   ]
  },
  {
   "cell_type": "code",
   "execution_count": 215,
   "metadata": {},
   "outputs": [],
   "source": [
    "df_marr['DEAR'] = df_marr['DEAR'].map({2:0, 1:1})\n",
    "df_marr['DEYE'] = df_marr['DEYE'].map({2:0, 1:1})\n",
    "df_marr['RAC1P'] = df_marr['RAC1P'].map({1:'WHITE',2:'BLACK',3:'AMER INDIAN',4:'ALASKAN NATIVE',5:'ALASKAN/INDIAN',6:'ASIAN',7:'HAWAIAN',8:'OTHER RACE',9:'TWO OR MORE RACES'})\n",
    "df_marr['DREM'] = df_marr['DREM'].map({2:0, 1:1})\n",
    "df_marr['JWTR'] = df_marr['JWTR'].map({0:'TR_NILB', 1:'TR_CAR',2:'TR_BUS',3:'TR_TROLLEY',4:'TR_SUBWAY',5:'TR_RAILROAD',6:'TR_FERRYBOAT',\n",
    "                                      7:'TAXI',8:'MOTORCYCLE',9:'BIKE',10:'WALKED',11:'WORK AT HOME',12:'OTHER'})\n",
    "df_marr['MIG'] = df_marr['MIG'].map({0:'DIDNT MOVE 1YR', 2:'DIDNT MOVE 1YR', 1:'MOVED 1YR'})\n",
    "df_marr['MIL'] = df_marr['MIL'].map({3:'NOT IN ACTIVE DUTY', 2:'ON ACTIVE DUTY', 1:'NOT IN ACTIVE DUTY', 4:'NOT IN ACTIVE DUTY'})\n",
    "df_marr['CIT'] = df_marr['CIT'].map({1:'CITIZEN', 2:'CITIZEN', 3:'CITIZEN',4:'CITIZEN',5:'NOT A CITIZEN'})\n",
    "df_marr['DRATX'] = df_marr['DRATX'].map({0:'NOT VET DIS', 2:'NOT VET DIS', 1:'VET DIS'})\n",
    "df_marr['WAOB'] = df_marr['WAOB'].map({1:'US BORN',2:'US BORN',3:'LATIN AMERICA BORN',4:'ASIAN BORN',5:'EUR BORN',6:'AFR BORN',7:'NA BORN',8:'OCEANIA BORN'})"
   ]
  },
  {
   "cell_type": "code",
   "execution_count": 216,
   "metadata": {},
   "outputs": [
    {
     "data": {
      "text/plain": [
       "array(['US BORN', 'LATIN AMERICA BORN', 'AFR BORN', 'ASIAN BORN',\n",
       "       'EUR BORN', 'NA BORN', 'OCEANIA BORN'], dtype=object)"
      ]
     },
     "execution_count": 216,
     "metadata": {},
     "output_type": "execute_result"
    }
   ],
   "source": [
    "# Checking that recoding worked\n",
    "df_marr.WAOB.unique()\n"
   ]
  },
  {
   "cell_type": "code",
   "execution_count": 217,
   "metadata": {
    "scrolled": true
   },
   "outputs": [
    {
     "data": {
      "text/plain": [
       "0          TR_CAR\n",
       "1         TR_NILB\n",
       "2         TR_NILB\n",
       "3          TR_CAR\n",
       "6    WORK AT HOME\n",
       "Name: JWTR, dtype: object"
      ]
     },
     "execution_count": 217,
     "metadata": {},
     "output_type": "execute_result"
    }
   ],
   "source": [
    "df_marr.JWTR.head()"
   ]
  },
  {
   "cell_type": "code",
   "execution_count": 220,
   "metadata": {
    "scrolled": true
   },
   "outputs": [
    {
     "data": {
      "text/html": [
       "<div>\n",
       "<style scoped>\n",
       "    .dataframe tbody tr th:only-of-type {\n",
       "        vertical-align: middle;\n",
       "    }\n",
       "\n",
       "    .dataframe tbody tr th {\n",
       "        vertical-align: top;\n",
       "    }\n",
       "\n",
       "    .dataframe thead th {\n",
       "        text-align: right;\n",
       "    }\n",
       "</style>\n",
       "<table border=\"1\" class=\"dataframe\">\n",
       "  <thead>\n",
       "    <tr style=\"text-align: right;\">\n",
       "      <th></th>\n",
       "      <th>AGEP</th>\n",
       "      <th>PINCP</th>\n",
       "      <th>DIS</th>\n",
       "      <th>COW</th>\n",
       "      <th>DEAR</th>\n",
       "      <th>DEYE</th>\n",
       "      <th>DREM</th>\n",
       "      <th>ENG</th>\n",
       "      <th>FER</th>\n",
       "      <th>INTP</th>\n",
       "      <th>...</th>\n",
       "      <th>WKHP</th>\n",
       "      <th>ANC1P</th>\n",
       "      <th>ANC2P</th>\n",
       "      <th>FOD1P</th>\n",
       "      <th>HICOV</th>\n",
       "      <th>INDP</th>\n",
       "      <th>LANP</th>\n",
       "      <th>NATIVITY</th>\n",
       "      <th>POBP</th>\n",
       "      <th>married</th>\n",
       "    </tr>\n",
       "  </thead>\n",
       "  <tbody>\n",
       "    <tr>\n",
       "      <th>AGEP</th>\n",
       "      <td>1.000000</td>\n",
       "      <td>0.112763</td>\n",
       "      <td>0.335745</td>\n",
       "      <td>-0.085469</td>\n",
       "      <td>0.252932</td>\n",
       "      <td>0.131558</td>\n",
       "      <td>0.135416</td>\n",
       "      <td>0.016535</td>\n",
       "      <td>-0.452244</td>\n",
       "      <td>0.129508</td>\n",
       "      <td>...</td>\n",
       "      <td>-0.297227</td>\n",
       "      <td>-0.047383</td>\n",
       "      <td>-0.035873</td>\n",
       "      <td>0.037406</td>\n",
       "      <td>-0.155724</td>\n",
       "      <td>-0.314928</td>\n",
       "      <td>-0.107508</td>\n",
       "      <td>0.056706</td>\n",
       "      <td>0.056315</td>\n",
       "      <td>0.230244</td>\n",
       "    </tr>\n",
       "    <tr>\n",
       "      <th>PINCP</th>\n",
       "      <td>0.112763</td>\n",
       "      <td>1.000000</td>\n",
       "      <td>-0.100707</td>\n",
       "      <td>0.137364</td>\n",
       "      <td>-0.018444</td>\n",
       "      <td>-0.044130</td>\n",
       "      <td>-0.090338</td>\n",
       "      <td>-0.166890</td>\n",
       "      <td>-0.118455</td>\n",
       "      <td>0.437932</td>\n",
       "      <td>...</td>\n",
       "      <td>0.380801</td>\n",
       "      <td>-0.058130</td>\n",
       "      <td>-0.093608</td>\n",
       "      <td>0.309872</td>\n",
       "      <td>-0.118185</td>\n",
       "      <td>0.160720</td>\n",
       "      <td>-0.129546</td>\n",
       "      <td>-0.067320</td>\n",
       "      <td>-0.077651</td>\n",
       "      <td>0.174107</td>\n",
       "    </tr>\n",
       "    <tr>\n",
       "      <th>DIS</th>\n",
       "      <td>0.335745</td>\n",
       "      <td>-0.100707</td>\n",
       "      <td>1.000000</td>\n",
       "      <td>-0.153092</td>\n",
       "      <td>0.503266</td>\n",
       "      <td>0.395482</td>\n",
       "      <td>0.576966</td>\n",
       "      <td>-0.002380</td>\n",
       "      <td>-0.154481</td>\n",
       "      <td>0.014957</td>\n",
       "      <td>...</td>\n",
       "      <td>-0.317141</td>\n",
       "      <td>0.018588</td>\n",
       "      <td>-0.002806</td>\n",
       "      <td>-0.105542</td>\n",
       "      <td>-0.067888</td>\n",
       "      <td>-0.275404</td>\n",
       "      <td>-0.066695</td>\n",
       "      <td>-0.047852</td>\n",
       "      <td>-0.042677</td>\n",
       "      <td>-0.084500</td>\n",
       "    </tr>\n",
       "    <tr>\n",
       "      <th>COW</th>\n",
       "      <td>-0.085469</td>\n",
       "      <td>0.137364</td>\n",
       "      <td>-0.153092</td>\n",
       "      <td>1.000000</td>\n",
       "      <td>-0.071195</td>\n",
       "      <td>-0.060885</td>\n",
       "      <td>-0.108831</td>\n",
       "      <td>-0.070501</td>\n",
       "      <td>0.009266</td>\n",
       "      <td>0.010653</td>\n",
       "      <td>...</td>\n",
       "      <td>0.279434</td>\n",
       "      <td>-0.028202</td>\n",
       "      <td>-0.048745</td>\n",
       "      <td>0.123641</td>\n",
       "      <td>0.012364</td>\n",
       "      <td>0.500463</td>\n",
       "      <td>-0.041783</td>\n",
       "      <td>-0.028186</td>\n",
       "      <td>-0.026459</td>\n",
       "      <td>0.067958</td>\n",
       "    </tr>\n",
       "    <tr>\n",
       "      <th>DEAR</th>\n",
       "      <td>0.252932</td>\n",
       "      <td>-0.018444</td>\n",
       "      <td>0.503266</td>\n",
       "      <td>-0.071195</td>\n",
       "      <td>1.000000</td>\n",
       "      <td>0.214701</td>\n",
       "      <td>0.205709</td>\n",
       "      <td>-0.015791</td>\n",
       "      <td>-0.102782</td>\n",
       "      <td>0.031109</td>\n",
       "      <td>...</td>\n",
       "      <td>-0.154513</td>\n",
       "      <td>-0.011777</td>\n",
       "      <td>-0.013055</td>\n",
       "      <td>-0.033033</td>\n",
       "      <td>-0.043276</td>\n",
       "      <td>-0.146989</td>\n",
       "      <td>-0.048520</td>\n",
       "      <td>-0.034238</td>\n",
       "      <td>-0.031646</td>\n",
       "      <td>-0.007012</td>\n",
       "    </tr>\n",
       "    <tr>\n",
       "      <th>DEYE</th>\n",
       "      <td>0.131558</td>\n",
       "      <td>-0.044130</td>\n",
       "      <td>0.395482</td>\n",
       "      <td>-0.060885</td>\n",
       "      <td>0.214701</td>\n",
       "      <td>1.000000</td>\n",
       "      <td>0.221016</td>\n",
       "      <td>0.023195</td>\n",
       "      <td>-0.056602</td>\n",
       "      <td>0.000491</td>\n",
       "      <td>...</td>\n",
       "      <td>-0.113500</td>\n",
       "      <td>0.012659</td>\n",
       "      <td>0.008961</td>\n",
       "      <td>-0.046718</td>\n",
       "      <td>-0.017750</td>\n",
       "      <td>-0.108531</td>\n",
       "      <td>-0.005736</td>\n",
       "      <td>-0.001318</td>\n",
       "      <td>0.002859</td>\n",
       "      <td>-0.039024</td>\n",
       "    </tr>\n",
       "    <tr>\n",
       "      <th>DREM</th>\n",
       "      <td>0.135416</td>\n",
       "      <td>-0.090338</td>\n",
       "      <td>0.576966</td>\n",
       "      <td>-0.108831</td>\n",
       "      <td>0.205709</td>\n",
       "      <td>0.221016</td>\n",
       "      <td>1.000000</td>\n",
       "      <td>-0.001740</td>\n",
       "      <td>-0.068371</td>\n",
       "      <td>-0.011563</td>\n",
       "      <td>...</td>\n",
       "      <td>-0.209544</td>\n",
       "      <td>0.041180</td>\n",
       "      <td>0.013693</td>\n",
       "      <td>-0.083939</td>\n",
       "      <td>-0.036437</td>\n",
       "      <td>-0.179782</td>\n",
       "      <td>-0.043306</td>\n",
       "      <td>-0.039215</td>\n",
       "      <td>-0.039728</td>\n",
       "      <td>-0.106563</td>\n",
       "    </tr>\n",
       "    <tr>\n",
       "      <th>ENG</th>\n",
       "      <td>0.016535</td>\n",
       "      <td>-0.166890</td>\n",
       "      <td>-0.002380</td>\n",
       "      <td>-0.070501</td>\n",
       "      <td>-0.015791</td>\n",
       "      <td>0.023195</td>\n",
       "      <td>-0.001740</td>\n",
       "      <td>1.000000</td>\n",
       "      <td>0.024371</td>\n",
       "      <td>-0.058335</td>\n",
       "      <td>...</td>\n",
       "      <td>-0.041851</td>\n",
       "      <td>0.014059</td>\n",
       "      <td>0.268284</td>\n",
       "      <td>-0.169645</td>\n",
       "      <td>0.187898</td>\n",
       "      <td>-0.116328</td>\n",
       "      <td>0.804475</td>\n",
       "      <td>0.697308</td>\n",
       "      <td>0.685772</td>\n",
       "      <td>0.090723</td>\n",
       "    </tr>\n",
       "    <tr>\n",
       "      <th>FER</th>\n",
       "      <td>-0.452244</td>\n",
       "      <td>-0.118455</td>\n",
       "      <td>-0.154481</td>\n",
       "      <td>0.009266</td>\n",
       "      <td>-0.102782</td>\n",
       "      <td>-0.056602</td>\n",
       "      <td>-0.068371</td>\n",
       "      <td>0.024371</td>\n",
       "      <td>1.000000</td>\n",
       "      <td>-0.063467</td>\n",
       "      <td>...</td>\n",
       "      <td>0.044676</td>\n",
       "      <td>0.024929</td>\n",
       "      <td>0.020468</td>\n",
       "      <td>0.039889</td>\n",
       "      <td>0.031021</td>\n",
       "      <td>0.176407</td>\n",
       "      <td>0.079957</td>\n",
       "      <td>0.010185</td>\n",
       "      <td>0.007372</td>\n",
       "      <td>-0.065917</td>\n",
       "    </tr>\n",
       "    <tr>\n",
       "      <th>INTP</th>\n",
       "      <td>0.129508</td>\n",
       "      <td>0.437932</td>\n",
       "      <td>0.014957</td>\n",
       "      <td>0.010653</td>\n",
       "      <td>0.031109</td>\n",
       "      <td>0.000491</td>\n",
       "      <td>-0.011563</td>\n",
       "      <td>-0.058335</td>\n",
       "      <td>-0.063467</td>\n",
       "      <td>1.000000</td>\n",
       "      <td>...</td>\n",
       "      <td>-0.053703</td>\n",
       "      <td>-0.037386</td>\n",
       "      <td>-0.047071</td>\n",
       "      <td>0.088258</td>\n",
       "      <td>-0.036100</td>\n",
       "      <td>-0.047969</td>\n",
       "      <td>-0.060961</td>\n",
       "      <td>-0.038321</td>\n",
       "      <td>-0.041524</td>\n",
       "      <td>0.040991</td>\n",
       "    </tr>\n",
       "    <tr>\n",
       "      <th>JWMNP</th>\n",
       "      <td>-0.182909</td>\n",
       "      <td>0.217607</td>\n",
       "      <td>-0.195349</td>\n",
       "      <td>0.119848</td>\n",
       "      <td>-0.094146</td>\n",
       "      <td>-0.069383</td>\n",
       "      <td>-0.128337</td>\n",
       "      <td>-0.005179</td>\n",
       "      <td>0.030684</td>\n",
       "      <td>-0.039923</td>\n",
       "      <td>...</td>\n",
       "      <td>0.510190</td>\n",
       "      <td>0.004851</td>\n",
       "      <td>0.007534</td>\n",
       "      <td>0.101851</td>\n",
       "      <td>0.004914</td>\n",
       "      <td>0.293572</td>\n",
       "      <td>0.036883</td>\n",
       "      <td>0.037137</td>\n",
       "      <td>0.038819</td>\n",
       "      <td>0.052738</td>\n",
       "    </tr>\n",
       "    <tr>\n",
       "      <th>LANX</th>\n",
       "      <td>0.115131</td>\n",
       "      <td>0.135493</td>\n",
       "      <td>0.066375</td>\n",
       "      <td>0.042921</td>\n",
       "      <td>0.048832</td>\n",
       "      <td>0.004771</td>\n",
       "      <td>0.043700</td>\n",
       "      <td>-0.810576</td>\n",
       "      <td>-0.083144</td>\n",
       "      <td>0.062206</td>\n",
       "      <td>...</td>\n",
       "      <td>-0.017241</td>\n",
       "      <td>-0.029147</td>\n",
       "      <td>-0.306212</td>\n",
       "      <td>0.110433</td>\n",
       "      <td>-0.147187</td>\n",
       "      <td>0.029084</td>\n",
       "      <td>-0.994915</td>\n",
       "      <td>-0.662918</td>\n",
       "      <td>-0.631391</td>\n",
       "      <td>-0.055566</td>\n",
       "    </tr>\n",
       "    <tr>\n",
       "      <th>PAP</th>\n",
       "      <td>-0.027700</td>\n",
       "      <td>-0.031085</td>\n",
       "      <td>0.028592</td>\n",
       "      <td>-0.009658</td>\n",
       "      <td>-0.000547</td>\n",
       "      <td>0.013687</td>\n",
       "      <td>0.031596</td>\n",
       "      <td>0.010675</td>\n",
       "      <td>0.055426</td>\n",
       "      <td>-0.007674</td>\n",
       "      <td>...</td>\n",
       "      <td>-0.053351</td>\n",
       "      <td>0.011104</td>\n",
       "      <td>0.010545</td>\n",
       "      <td>-0.035714</td>\n",
       "      <td>-0.006328</td>\n",
       "      <td>-0.013238</td>\n",
       "      <td>0.003131</td>\n",
       "      <td>-0.001242</td>\n",
       "      <td>-0.000492</td>\n",
       "      <td>-0.034251</td>\n",
       "    </tr>\n",
       "    <tr>\n",
       "      <th>RETP</th>\n",
       "      <td>0.250685</td>\n",
       "      <td>0.164440</td>\n",
       "      <td>0.066743</td>\n",
       "      <td>-0.028227</td>\n",
       "      <td>0.080618</td>\n",
       "      <td>0.009307</td>\n",
       "      <td>0.000738</td>\n",
       "      <td>-0.099184</td>\n",
       "      <td>-0.125548</td>\n",
       "      <td>0.068445</td>\n",
       "      <td>...</td>\n",
       "      <td>-0.175514</td>\n",
       "      <td>-0.049676</td>\n",
       "      <td>-0.061263</td>\n",
       "      <td>0.088447</td>\n",
       "      <td>-0.061160</td>\n",
       "      <td>-0.086456</td>\n",
       "      <td>-0.108181</td>\n",
       "      <td>-0.086581</td>\n",
       "      <td>-0.080427</td>\n",
       "      <td>0.053285</td>\n",
       "    </tr>\n",
       "    <tr>\n",
       "      <th>SCHL</th>\n",
       "      <td>-0.063653</td>\n",
       "      <td>0.281683</td>\n",
       "      <td>-0.142178</td>\n",
       "      <td>0.139884</td>\n",
       "      <td>-0.047998</td>\n",
       "      <td>-0.079407</td>\n",
       "      <td>-0.123178</td>\n",
       "      <td>-0.470351</td>\n",
       "      <td>0.059298</td>\n",
       "      <td>0.076147</td>\n",
       "      <td>...</td>\n",
       "      <td>0.174326</td>\n",
       "      <td>-0.007537</td>\n",
       "      <td>-0.173492</td>\n",
       "      <td>0.525747</td>\n",
       "      <td>-0.167786</td>\n",
       "      <td>0.243710</td>\n",
       "      <td>-0.260858</td>\n",
       "      <td>-0.282533</td>\n",
       "      <td>-0.320952</td>\n",
       "      <td>0.049343</td>\n",
       "    </tr>\n",
       "    <tr>\n",
       "      <th>SEMP</th>\n",
       "      <td>0.033940</td>\n",
       "      <td>0.299353</td>\n",
       "      <td>-0.036283</td>\n",
       "      <td>0.279298</td>\n",
       "      <td>-0.011954</td>\n",
       "      <td>-0.014674</td>\n",
       "      <td>-0.027939</td>\n",
       "      <td>-0.031870</td>\n",
       "      <td>-0.040043</td>\n",
       "      <td>0.043837</td>\n",
       "      <td>...</td>\n",
       "      <td>0.119447</td>\n",
       "      <td>-0.019291</td>\n",
       "      <td>-0.026384</td>\n",
       "      <td>0.069822</td>\n",
       "      <td>-0.003731</td>\n",
       "      <td>0.060373</td>\n",
       "      <td>-0.029598</td>\n",
       "      <td>-0.009749</td>\n",
       "      <td>-0.011857</td>\n",
       "      <td>0.050084</td>\n",
       "    </tr>\n",
       "    <tr>\n",
       "      <th>SSP</th>\n",
       "      <td>0.554795</td>\n",
       "      <td>0.042669</td>\n",
       "      <td>0.253451</td>\n",
       "      <td>-0.125355</td>\n",
       "      <td>0.195978</td>\n",
       "      <td>0.082768</td>\n",
       "      <td>0.100208</td>\n",
       "      <td>-0.105727</td>\n",
       "      <td>-0.242403</td>\n",
       "      <td>0.135597</td>\n",
       "      <td>...</td>\n",
       "      <td>-0.363137</td>\n",
       "      <td>-0.054555</td>\n",
       "      <td>-0.057759</td>\n",
       "      <td>0.002243</td>\n",
       "      <td>-0.123822</td>\n",
       "      <td>-0.278376</td>\n",
       "      <td>-0.141322</td>\n",
       "      <td>-0.089436</td>\n",
       "      <td>-0.084860</td>\n",
       "      <td>0.032908</td>\n",
       "    </tr>\n",
       "    <tr>\n",
       "      <th>WAGP</th>\n",
       "      <td>-0.058812</td>\n",
       "      <td>0.836724</td>\n",
       "      <td>-0.167345</td>\n",
       "      <td>0.085397</td>\n",
       "      <td>-0.075925</td>\n",
       "      <td>-0.061910</td>\n",
       "      <td>-0.112752</td>\n",
       "      <td>-0.123724</td>\n",
       "      <td>-0.040724</td>\n",
       "      <td>0.041782</td>\n",
       "      <td>...</td>\n",
       "      <td>0.517505</td>\n",
       "      <td>-0.029568</td>\n",
       "      <td>-0.059539</td>\n",
       "      <td>0.282435</td>\n",
       "      <td>-0.090934</td>\n",
       "      <td>0.244556</td>\n",
       "      <td>-0.072576</td>\n",
       "      <td>-0.027559</td>\n",
       "      <td>-0.039300</td>\n",
       "      <td>0.157337</td>\n",
       "    </tr>\n",
       "    <tr>\n",
       "      <th>WKHP</th>\n",
       "      <td>-0.297227</td>\n",
       "      <td>0.380801</td>\n",
       "      <td>-0.317141</td>\n",
       "      <td>0.279434</td>\n",
       "      <td>-0.154513</td>\n",
       "      <td>-0.113500</td>\n",
       "      <td>-0.209544</td>\n",
       "      <td>-0.041851</td>\n",
       "      <td>0.044676</td>\n",
       "      <td>-0.053703</td>\n",
       "      <td>...</td>\n",
       "      <td>1.000000</td>\n",
       "      <td>-0.031208</td>\n",
       "      <td>-0.023090</td>\n",
       "      <td>0.170697</td>\n",
       "      <td>0.004679</td>\n",
       "      <td>0.506625</td>\n",
       "      <td>0.015900</td>\n",
       "      <td>0.021511</td>\n",
       "      <td>0.025439</td>\n",
       "      <td>0.087113</td>\n",
       "    </tr>\n",
       "    <tr>\n",
       "      <th>ANC1P</th>\n",
       "      <td>-0.047383</td>\n",
       "      <td>-0.058130</td>\n",
       "      <td>0.018588</td>\n",
       "      <td>-0.028202</td>\n",
       "      <td>-0.011777</td>\n",
       "      <td>0.012659</td>\n",
       "      <td>0.041180</td>\n",
       "      <td>0.014059</td>\n",
       "      <td>0.024929</td>\n",
       "      <td>-0.037386</td>\n",
       "      <td>...</td>\n",
       "      <td>-0.031208</td>\n",
       "      <td>1.000000</td>\n",
       "      <td>0.353327</td>\n",
       "      <td>-0.016485</td>\n",
       "      <td>-0.018339</td>\n",
       "      <td>-0.002678</td>\n",
       "      <td>0.059999</td>\n",
       "      <td>0.067445</td>\n",
       "      <td>0.035148</td>\n",
       "      <td>-0.049911</td>\n",
       "    </tr>\n",
       "    <tr>\n",
       "      <th>ANC2P</th>\n",
       "      <td>-0.035873</td>\n",
       "      <td>-0.093608</td>\n",
       "      <td>-0.002806</td>\n",
       "      <td>-0.048745</td>\n",
       "      <td>-0.013055</td>\n",
       "      <td>0.008961</td>\n",
       "      <td>0.013693</td>\n",
       "      <td>0.268284</td>\n",
       "      <td>0.020468</td>\n",
       "      <td>-0.047071</td>\n",
       "      <td>...</td>\n",
       "      <td>-0.023090</td>\n",
       "      <td>0.353327</td>\n",
       "      <td>1.000000</td>\n",
       "      <td>-0.111709</td>\n",
       "      <td>0.069765</td>\n",
       "      <td>-0.050059</td>\n",
       "      <td>0.306926</td>\n",
       "      <td>0.275787</td>\n",
       "      <td>0.252518</td>\n",
       "      <td>0.011894</td>\n",
       "    </tr>\n",
       "    <tr>\n",
       "      <th>FOD1P</th>\n",
       "      <td>0.037406</td>\n",
       "      <td>0.309872</td>\n",
       "      <td>-0.105542</td>\n",
       "      <td>0.123641</td>\n",
       "      <td>-0.033033</td>\n",
       "      <td>-0.046718</td>\n",
       "      <td>-0.083939</td>\n",
       "      <td>-0.169645</td>\n",
       "      <td>0.039889</td>\n",
       "      <td>0.088258</td>\n",
       "      <td>...</td>\n",
       "      <td>0.170697</td>\n",
       "      <td>-0.016485</td>\n",
       "      <td>-0.111709</td>\n",
       "      <td>1.000000</td>\n",
       "      <td>-0.116392</td>\n",
       "      <td>0.182472</td>\n",
       "      <td>-0.094420</td>\n",
       "      <td>-0.049120</td>\n",
       "      <td>-0.074001</td>\n",
       "      <td>0.117948</td>\n",
       "    </tr>\n",
       "    <tr>\n",
       "      <th>HICOV</th>\n",
       "      <td>-0.155724</td>\n",
       "      <td>-0.118185</td>\n",
       "      <td>-0.067888</td>\n",
       "      <td>0.012364</td>\n",
       "      <td>-0.043276</td>\n",
       "      <td>-0.017750</td>\n",
       "      <td>-0.036437</td>\n",
       "      <td>0.187898</td>\n",
       "      <td>0.031021</td>\n",
       "      <td>-0.036100</td>\n",
       "      <td>...</td>\n",
       "      <td>0.004679</td>\n",
       "      <td>-0.018339</td>\n",
       "      <td>0.069765</td>\n",
       "      <td>-0.116392</td>\n",
       "      <td>1.000000</td>\n",
       "      <td>-0.013953</td>\n",
       "      <td>0.135890</td>\n",
       "      <td>0.130215</td>\n",
       "      <td>0.150857</td>\n",
       "      <td>-0.090779</td>\n",
       "    </tr>\n",
       "    <tr>\n",
       "      <th>INDP</th>\n",
       "      <td>-0.314928</td>\n",
       "      <td>0.160720</td>\n",
       "      <td>-0.275404</td>\n",
       "      <td>0.500463</td>\n",
       "      <td>-0.146989</td>\n",
       "      <td>-0.108531</td>\n",
       "      <td>-0.179782</td>\n",
       "      <td>-0.116328</td>\n",
       "      <td>0.176407</td>\n",
       "      <td>-0.047969</td>\n",
       "      <td>...</td>\n",
       "      <td>0.506625</td>\n",
       "      <td>-0.002678</td>\n",
       "      <td>-0.050059</td>\n",
       "      <td>0.182472</td>\n",
       "      <td>-0.013953</td>\n",
       "      <td>1.000000</td>\n",
       "      <td>-0.026162</td>\n",
       "      <td>-0.052904</td>\n",
       "      <td>-0.054292</td>\n",
       "      <td>0.003326</td>\n",
       "    </tr>\n",
       "    <tr>\n",
       "      <th>LANP</th>\n",
       "      <td>-0.107508</td>\n",
       "      <td>-0.129546</td>\n",
       "      <td>-0.066695</td>\n",
       "      <td>-0.041783</td>\n",
       "      <td>-0.048520</td>\n",
       "      <td>-0.005736</td>\n",
       "      <td>-0.043306</td>\n",
       "      <td>0.804475</td>\n",
       "      <td>0.079957</td>\n",
       "      <td>-0.060961</td>\n",
       "      <td>...</td>\n",
       "      <td>0.015900</td>\n",
       "      <td>0.059999</td>\n",
       "      <td>0.306926</td>\n",
       "      <td>-0.094420</td>\n",
       "      <td>0.135890</td>\n",
       "      <td>-0.026162</td>\n",
       "      <td>1.000000</td>\n",
       "      <td>0.673782</td>\n",
       "      <td>0.633889</td>\n",
       "      <td>0.061134</td>\n",
       "    </tr>\n",
       "    <tr>\n",
       "      <th>NATIVITY</th>\n",
       "      <td>0.056706</td>\n",
       "      <td>-0.067320</td>\n",
       "      <td>-0.047852</td>\n",
       "      <td>-0.028186</td>\n",
       "      <td>-0.034238</td>\n",
       "      <td>-0.001318</td>\n",
       "      <td>-0.039215</td>\n",
       "      <td>0.697308</td>\n",
       "      <td>0.010185</td>\n",
       "      <td>-0.038321</td>\n",
       "      <td>...</td>\n",
       "      <td>0.021511</td>\n",
       "      <td>0.067445</td>\n",
       "      <td>0.275787</td>\n",
       "      <td>-0.049120</td>\n",
       "      <td>0.130215</td>\n",
       "      <td>-0.052904</td>\n",
       "      <td>0.673782</td>\n",
       "      <td>1.000000</td>\n",
       "      <td>0.929180</td>\n",
       "      <td>0.166137</td>\n",
       "    </tr>\n",
       "    <tr>\n",
       "      <th>POBP</th>\n",
       "      <td>0.056315</td>\n",
       "      <td>-0.077651</td>\n",
       "      <td>-0.042677</td>\n",
       "      <td>-0.026459</td>\n",
       "      <td>-0.031646</td>\n",
       "      <td>0.002859</td>\n",
       "      <td>-0.039728</td>\n",
       "      <td>0.685772</td>\n",
       "      <td>0.007372</td>\n",
       "      <td>-0.041524</td>\n",
       "      <td>...</td>\n",
       "      <td>0.025439</td>\n",
       "      <td>0.035148</td>\n",
       "      <td>0.252518</td>\n",
       "      <td>-0.074001</td>\n",
       "      <td>0.150857</td>\n",
       "      <td>-0.054292</td>\n",
       "      <td>0.633889</td>\n",
       "      <td>0.929180</td>\n",
       "      <td>1.000000</td>\n",
       "      <td>0.154806</td>\n",
       "    </tr>\n",
       "    <tr>\n",
       "      <th>married</th>\n",
       "      <td>0.230244</td>\n",
       "      <td>0.174107</td>\n",
       "      <td>-0.084500</td>\n",
       "      <td>0.067958</td>\n",
       "      <td>-0.007012</td>\n",
       "      <td>-0.039024</td>\n",
       "      <td>-0.106563</td>\n",
       "      <td>0.090723</td>\n",
       "      <td>-0.065917</td>\n",
       "      <td>0.040991</td>\n",
       "      <td>...</td>\n",
       "      <td>0.087113</td>\n",
       "      <td>-0.049911</td>\n",
       "      <td>0.011894</td>\n",
       "      <td>0.117948</td>\n",
       "      <td>-0.090779</td>\n",
       "      <td>0.003326</td>\n",
       "      <td>0.061134</td>\n",
       "      <td>0.166137</td>\n",
       "      <td>0.154806</td>\n",
       "      <td>1.000000</td>\n",
       "    </tr>\n",
       "  </tbody>\n",
       "</table>\n",
       "<p>28 rows × 28 columns</p>\n",
       "</div>"
      ],
      "text/plain": [
       "              AGEP     PINCP       DIS       COW      DEAR      DEYE  \\\n",
       "AGEP      1.000000  0.112763  0.335745 -0.085469  0.252932  0.131558   \n",
       "PINCP     0.112763  1.000000 -0.100707  0.137364 -0.018444 -0.044130   \n",
       "DIS       0.335745 -0.100707  1.000000 -0.153092  0.503266  0.395482   \n",
       "COW      -0.085469  0.137364 -0.153092  1.000000 -0.071195 -0.060885   \n",
       "DEAR      0.252932 -0.018444  0.503266 -0.071195  1.000000  0.214701   \n",
       "DEYE      0.131558 -0.044130  0.395482 -0.060885  0.214701  1.000000   \n",
       "DREM      0.135416 -0.090338  0.576966 -0.108831  0.205709  0.221016   \n",
       "ENG       0.016535 -0.166890 -0.002380 -0.070501 -0.015791  0.023195   \n",
       "FER      -0.452244 -0.118455 -0.154481  0.009266 -0.102782 -0.056602   \n",
       "INTP      0.129508  0.437932  0.014957  0.010653  0.031109  0.000491   \n",
       "JWMNP    -0.182909  0.217607 -0.195349  0.119848 -0.094146 -0.069383   \n",
       "LANX      0.115131  0.135493  0.066375  0.042921  0.048832  0.004771   \n",
       "PAP      -0.027700 -0.031085  0.028592 -0.009658 -0.000547  0.013687   \n",
       "RETP      0.250685  0.164440  0.066743 -0.028227  0.080618  0.009307   \n",
       "SCHL     -0.063653  0.281683 -0.142178  0.139884 -0.047998 -0.079407   \n",
       "SEMP      0.033940  0.299353 -0.036283  0.279298 -0.011954 -0.014674   \n",
       "SSP       0.554795  0.042669  0.253451 -0.125355  0.195978  0.082768   \n",
       "WAGP     -0.058812  0.836724 -0.167345  0.085397 -0.075925 -0.061910   \n",
       "WKHP     -0.297227  0.380801 -0.317141  0.279434 -0.154513 -0.113500   \n",
       "ANC1P    -0.047383 -0.058130  0.018588 -0.028202 -0.011777  0.012659   \n",
       "ANC2P    -0.035873 -0.093608 -0.002806 -0.048745 -0.013055  0.008961   \n",
       "FOD1P     0.037406  0.309872 -0.105542  0.123641 -0.033033 -0.046718   \n",
       "HICOV    -0.155724 -0.118185 -0.067888  0.012364 -0.043276 -0.017750   \n",
       "INDP     -0.314928  0.160720 -0.275404  0.500463 -0.146989 -0.108531   \n",
       "LANP     -0.107508 -0.129546 -0.066695 -0.041783 -0.048520 -0.005736   \n",
       "NATIVITY  0.056706 -0.067320 -0.047852 -0.028186 -0.034238 -0.001318   \n",
       "POBP      0.056315 -0.077651 -0.042677 -0.026459 -0.031646  0.002859   \n",
       "married   0.230244  0.174107 -0.084500  0.067958 -0.007012 -0.039024   \n",
       "\n",
       "              DREM       ENG       FER      INTP    ...         WKHP  \\\n",
       "AGEP      0.135416  0.016535 -0.452244  0.129508    ...    -0.297227   \n",
       "PINCP    -0.090338 -0.166890 -0.118455  0.437932    ...     0.380801   \n",
       "DIS       0.576966 -0.002380 -0.154481  0.014957    ...    -0.317141   \n",
       "COW      -0.108831 -0.070501  0.009266  0.010653    ...     0.279434   \n",
       "DEAR      0.205709 -0.015791 -0.102782  0.031109    ...    -0.154513   \n",
       "DEYE      0.221016  0.023195 -0.056602  0.000491    ...    -0.113500   \n",
       "DREM      1.000000 -0.001740 -0.068371 -0.011563    ...    -0.209544   \n",
       "ENG      -0.001740  1.000000  0.024371 -0.058335    ...    -0.041851   \n",
       "FER      -0.068371  0.024371  1.000000 -0.063467    ...     0.044676   \n",
       "INTP     -0.011563 -0.058335 -0.063467  1.000000    ...    -0.053703   \n",
       "JWMNP    -0.128337 -0.005179  0.030684 -0.039923    ...     0.510190   \n",
       "LANX      0.043700 -0.810576 -0.083144  0.062206    ...    -0.017241   \n",
       "PAP       0.031596  0.010675  0.055426 -0.007674    ...    -0.053351   \n",
       "RETP      0.000738 -0.099184 -0.125548  0.068445    ...    -0.175514   \n",
       "SCHL     -0.123178 -0.470351  0.059298  0.076147    ...     0.174326   \n",
       "SEMP     -0.027939 -0.031870 -0.040043  0.043837    ...     0.119447   \n",
       "SSP       0.100208 -0.105727 -0.242403  0.135597    ...    -0.363137   \n",
       "WAGP     -0.112752 -0.123724 -0.040724  0.041782    ...     0.517505   \n",
       "WKHP     -0.209544 -0.041851  0.044676 -0.053703    ...     1.000000   \n",
       "ANC1P     0.041180  0.014059  0.024929 -0.037386    ...    -0.031208   \n",
       "ANC2P     0.013693  0.268284  0.020468 -0.047071    ...    -0.023090   \n",
       "FOD1P    -0.083939 -0.169645  0.039889  0.088258    ...     0.170697   \n",
       "HICOV    -0.036437  0.187898  0.031021 -0.036100    ...     0.004679   \n",
       "INDP     -0.179782 -0.116328  0.176407 -0.047969    ...     0.506625   \n",
       "LANP     -0.043306  0.804475  0.079957 -0.060961    ...     0.015900   \n",
       "NATIVITY -0.039215  0.697308  0.010185 -0.038321    ...     0.021511   \n",
       "POBP     -0.039728  0.685772  0.007372 -0.041524    ...     0.025439   \n",
       "married  -0.106563  0.090723 -0.065917  0.040991    ...     0.087113   \n",
       "\n",
       "             ANC1P     ANC2P     FOD1P     HICOV      INDP      LANP  \\\n",
       "AGEP     -0.047383 -0.035873  0.037406 -0.155724 -0.314928 -0.107508   \n",
       "PINCP    -0.058130 -0.093608  0.309872 -0.118185  0.160720 -0.129546   \n",
       "DIS       0.018588 -0.002806 -0.105542 -0.067888 -0.275404 -0.066695   \n",
       "COW      -0.028202 -0.048745  0.123641  0.012364  0.500463 -0.041783   \n",
       "DEAR     -0.011777 -0.013055 -0.033033 -0.043276 -0.146989 -0.048520   \n",
       "DEYE      0.012659  0.008961 -0.046718 -0.017750 -0.108531 -0.005736   \n",
       "DREM      0.041180  0.013693 -0.083939 -0.036437 -0.179782 -0.043306   \n",
       "ENG       0.014059  0.268284 -0.169645  0.187898 -0.116328  0.804475   \n",
       "FER       0.024929  0.020468  0.039889  0.031021  0.176407  0.079957   \n",
       "INTP     -0.037386 -0.047071  0.088258 -0.036100 -0.047969 -0.060961   \n",
       "JWMNP     0.004851  0.007534  0.101851  0.004914  0.293572  0.036883   \n",
       "LANX     -0.029147 -0.306212  0.110433 -0.147187  0.029084 -0.994915   \n",
       "PAP       0.011104  0.010545 -0.035714 -0.006328 -0.013238  0.003131   \n",
       "RETP     -0.049676 -0.061263  0.088447 -0.061160 -0.086456 -0.108181   \n",
       "SCHL     -0.007537 -0.173492  0.525747 -0.167786  0.243710 -0.260858   \n",
       "SEMP     -0.019291 -0.026384  0.069822 -0.003731  0.060373 -0.029598   \n",
       "SSP      -0.054555 -0.057759  0.002243 -0.123822 -0.278376 -0.141322   \n",
       "WAGP     -0.029568 -0.059539  0.282435 -0.090934  0.244556 -0.072576   \n",
       "WKHP     -0.031208 -0.023090  0.170697  0.004679  0.506625  0.015900   \n",
       "ANC1P     1.000000  0.353327 -0.016485 -0.018339 -0.002678  0.059999   \n",
       "ANC2P     0.353327  1.000000 -0.111709  0.069765 -0.050059  0.306926   \n",
       "FOD1P    -0.016485 -0.111709  1.000000 -0.116392  0.182472 -0.094420   \n",
       "HICOV    -0.018339  0.069765 -0.116392  1.000000 -0.013953  0.135890   \n",
       "INDP     -0.002678 -0.050059  0.182472 -0.013953  1.000000 -0.026162   \n",
       "LANP      0.059999  0.306926 -0.094420  0.135890 -0.026162  1.000000   \n",
       "NATIVITY  0.067445  0.275787 -0.049120  0.130215 -0.052904  0.673782   \n",
       "POBP      0.035148  0.252518 -0.074001  0.150857 -0.054292  0.633889   \n",
       "married  -0.049911  0.011894  0.117948 -0.090779  0.003326  0.061134   \n",
       "\n",
       "          NATIVITY      POBP   married  \n",
       "AGEP      0.056706  0.056315  0.230244  \n",
       "PINCP    -0.067320 -0.077651  0.174107  \n",
       "DIS      -0.047852 -0.042677 -0.084500  \n",
       "COW      -0.028186 -0.026459  0.067958  \n",
       "DEAR     -0.034238 -0.031646 -0.007012  \n",
       "DEYE     -0.001318  0.002859 -0.039024  \n",
       "DREM     -0.039215 -0.039728 -0.106563  \n",
       "ENG       0.697308  0.685772  0.090723  \n",
       "FER       0.010185  0.007372 -0.065917  \n",
       "INTP     -0.038321 -0.041524  0.040991  \n",
       "JWMNP     0.037137  0.038819  0.052738  \n",
       "LANX     -0.662918 -0.631391 -0.055566  \n",
       "PAP      -0.001242 -0.000492 -0.034251  \n",
       "RETP     -0.086581 -0.080427  0.053285  \n",
       "SCHL     -0.282533 -0.320952  0.049343  \n",
       "SEMP     -0.009749 -0.011857  0.050084  \n",
       "SSP      -0.089436 -0.084860  0.032908  \n",
       "WAGP     -0.027559 -0.039300  0.157337  \n",
       "WKHP      0.021511  0.025439  0.087113  \n",
       "ANC1P     0.067445  0.035148 -0.049911  \n",
       "ANC2P     0.275787  0.252518  0.011894  \n",
       "FOD1P    -0.049120 -0.074001  0.117948  \n",
       "HICOV     0.130215  0.150857 -0.090779  \n",
       "INDP     -0.052904 -0.054292  0.003326  \n",
       "LANP      0.673782  0.633889  0.061134  \n",
       "NATIVITY  1.000000  0.929180  0.166137  \n",
       "POBP      0.929180  1.000000  0.154806  \n",
       "married   0.166137  0.154806  1.000000  \n",
       "\n",
       "[28 rows x 28 columns]"
      ]
     },
     "execution_count": 220,
     "metadata": {},
     "output_type": "execute_result"
    }
   ],
   "source": [
    "df_marr.corr()"
   ]
  },
  {
   "cell_type": "code",
   "execution_count": 221,
   "metadata": {
    "scrolled": true
   },
   "outputs": [
    {
     "data": {
      "image/png": "[encoded data removed]",
      "text/plain": [
       "<matplotlib.figure.Figure at 0x7f5c44fc8e48>"
      ]
     },
     "metadata": {},
     "output_type": "display_data"
    }
   ],
   "source": [
    "plt.figure(figsize=(10,10))\n",
    "g = sns.heatmap(df_marr.iloc[:,15:].corr(), annot=True, fmt=\".2f\", cmap=\"coolwarm\")"
   ]
  },
  {
   "cell_type": "code",
   "execution_count": 222,
   "metadata": {},
   "outputs": [
    {
     "data": {
      "image/png": "[encoded data removed]",
      "text/plain": [
       "<matplotlib.figure.Figure at 0x7f5c44f9eef0>"
      ]
     },
     "metadata": {},
     "output_type": "display_data"
    }
   ],
   "source": [
    "plt.figure(figsize=(10,10))\n",
    "g = sns.heatmap(df_marr.iloc[:,:15].corr(), annot=True, fmt=\".2f\", cmap=\"coolwarm\")"
   ]
  },
  {
   "cell_type": "markdown",
   "metadata": {},
   "source": [
    "The categorical variables need to be in numerical form for scikit-learns functions to work. Here I have created lists of columns for each type of variables, numerical, ordinal and categorical. I have also left out some variables that are highly correlated with some other variables."
   ]
  },
  {
   "cell_type": "code",
   "execution_count": 223,
   "metadata": {},
   "outputs": [],
   "source": [
    "marr_num = ['AGEP', 'PINCP','INTP','JWMNP','PAP','RETP','SEMP','SSP','WKHP']\n",
    "marr_ord = ['SCHL','ENG','DIS','DEAR','DEYE','DREM','HICOV','LANX']\n",
    "marr_cat = ['ESR', 'DRATX',\n",
    "            'JWTR', 'MIG', 'MIL', 'CIT',\n",
    "            'RAC1P','WAOB','SEX']"
   ]
  },
  {
   "cell_type": "code",
   "execution_count": 224,
   "metadata": {},
   "outputs": [
    {
     "data": {
      "text/html": [
       "<div>\n",
       "<style scoped>\n",
       "    .dataframe tbody tr th:only-of-type {\n",
       "        vertical-align: middle;\n",
       "    }\n",
       "\n",
       "    .dataframe tbody tr th {\n",
       "        vertical-align: top;\n",
       "    }\n",
       "\n",
       "    .dataframe thead th {\n",
       "        text-align: right;\n",
       "    }\n",
       "</style>\n",
       "<table border=\"1\" class=\"dataframe\">\n",
       "  <thead>\n",
       "    <tr style=\"text-align: right;\">\n",
       "      <th></th>\n",
       "      <th>AGEP</th>\n",
       "      <th>PINCP</th>\n",
       "      <th>DIS</th>\n",
       "      <th>COW</th>\n",
       "      <th>DEAR</th>\n",
       "      <th>DEYE</th>\n",
       "      <th>DREM</th>\n",
       "      <th>ENG</th>\n",
       "      <th>FER</th>\n",
       "      <th>INTP</th>\n",
       "      <th>...</th>\n",
       "      <th>WKHP</th>\n",
       "      <th>ANC1P</th>\n",
       "      <th>ANC2P</th>\n",
       "      <th>FOD1P</th>\n",
       "      <th>HICOV</th>\n",
       "      <th>INDP</th>\n",
       "      <th>LANP</th>\n",
       "      <th>NATIVITY</th>\n",
       "      <th>POBP</th>\n",
       "      <th>married</th>\n",
       "    </tr>\n",
       "  </thead>\n",
       "  <tbody>\n",
       "    <tr>\n",
       "      <th>count</th>\n",
       "      <td>294532.000000</td>\n",
       "      <td>2.945320e+05</td>\n",
       "      <td>294532.000000</td>\n",
       "      <td>294532.000000</td>\n",
       "      <td>294532.000000</td>\n",
       "      <td>294532.000000</td>\n",
       "      <td>294532.000000</td>\n",
       "      <td>294532.000000</td>\n",
       "      <td>294532.000000</td>\n",
       "      <td>294532.000000</td>\n",
       "      <td>...</td>\n",
       "      <td>294532.000000</td>\n",
       "      <td>294532.000000</td>\n",
       "      <td>294532.000000</td>\n",
       "      <td>294532.00000</td>\n",
       "      <td>294532.000000</td>\n",
       "      <td>294532.000000</td>\n",
       "      <td>294532.000000</td>\n",
       "      <td>294532.000000</td>\n",
       "      <td>294532.000000</td>\n",
       "      <td>294532.000000</td>\n",
       "    </tr>\n",
       "    <tr>\n",
       "      <th>mean</th>\n",
       "      <td>47.957658</td>\n",
       "      <td>4.328122e+04</td>\n",
       "      <td>0.149237</td>\n",
       "      <td>1.631575</td>\n",
       "      <td>0.042539</td>\n",
       "      <td>0.026703</td>\n",
       "      <td>0.055172</td>\n",
       "      <td>0.753942</td>\n",
       "      <td>0.532625</td>\n",
       "      <td>3268.068865</td>\n",
       "      <td>...</td>\n",
       "      <td>23.942624</td>\n",
       "      <td>433.457193</td>\n",
       "      <td>835.135836</td>\n",
       "      <td>1356.72240</td>\n",
       "      <td>1.088248</td>\n",
       "      <td>4716.727493</td>\n",
       "      <td>272.320369</td>\n",
       "      <td>1.321452</td>\n",
       "      <td>97.118917</td>\n",
       "      <td>0.515706</td>\n",
       "    </tr>\n",
       "    <tr>\n",
       "      <th>std</th>\n",
       "      <td>18.555133</td>\n",
       "      <td>6.634442e+04</td>\n",
       "      <td>0.356322</td>\n",
       "      <td>1.992496</td>\n",
       "      <td>0.201815</td>\n",
       "      <td>0.161215</td>\n",
       "      <td>0.228317</td>\n",
       "      <td>1.107051</td>\n",
       "      <td>0.875902</td>\n",
       "      <td>24070.321502</td>\n",
       "      <td>...</td>\n",
       "      <td>20.906379</td>\n",
       "      <td>370.173930</td>\n",
       "      <td>348.557592</td>\n",
       "      <td>2225.78127</td>\n",
       "      <td>0.283656</td>\n",
       "      <td>3634.256237</td>\n",
       "      <td>325.774948</td>\n",
       "      <td>0.467035</td>\n",
       "      <td>123.513321</td>\n",
       "      <td>0.499754</td>\n",
       "    </tr>\n",
       "    <tr>\n",
       "      <th>min</th>\n",
       "      <td>18.000000</td>\n",
       "      <td>-1.080000e+04</td>\n",
       "      <td>0.000000</td>\n",
       "      <td>0.000000</td>\n",
       "      <td>0.000000</td>\n",
       "      <td>0.000000</td>\n",
       "      <td>0.000000</td>\n",
       "      <td>0.000000</td>\n",
       "      <td>0.000000</td>\n",
       "      <td>-5400.000000</td>\n",
       "      <td>...</td>\n",
       "      <td>0.000000</td>\n",
       "      <td>1.000000</td>\n",
       "      <td>1.000000</td>\n",
       "      <td>0.00000</td>\n",
       "      <td>1.000000</td>\n",
       "      <td>0.000000</td>\n",
       "      <td>0.000000</td>\n",
       "      <td>1.000000</td>\n",
       "      <td>1.000000</td>\n",
       "      <td>0.000000</td>\n",
       "    </tr>\n",
       "    <tr>\n",
       "      <th>25%</th>\n",
       "      <td>32.000000</td>\n",
       "      <td>7.900000e+03</td>\n",
       "      <td>0.000000</td>\n",
       "      <td>0.000000</td>\n",
       "      <td>0.000000</td>\n",
       "      <td>0.000000</td>\n",
       "      <td>0.000000</td>\n",
       "      <td>0.000000</td>\n",
       "      <td>0.000000</td>\n",
       "      <td>0.000000</td>\n",
       "      <td>...</td>\n",
       "      <td>0.000000</td>\n",
       "      <td>89.000000</td>\n",
       "      <td>999.000000</td>\n",
       "      <td>0.00000</td>\n",
       "      <td>1.000000</td>\n",
       "      <td>0.000000</td>\n",
       "      <td>0.000000</td>\n",
       "      <td>1.000000</td>\n",
       "      <td>6.000000</td>\n",
       "      <td>0.000000</td>\n",
       "    </tr>\n",
       "    <tr>\n",
       "      <th>50%</th>\n",
       "      <td>48.000000</td>\n",
       "      <td>2.340000e+04</td>\n",
       "      <td>0.000000</td>\n",
       "      <td>1.000000</td>\n",
       "      <td>0.000000</td>\n",
       "      <td>0.000000</td>\n",
       "      <td>0.000000</td>\n",
       "      <td>0.000000</td>\n",
       "      <td>0.000000</td>\n",
       "      <td>0.000000</td>\n",
       "      <td>...</td>\n",
       "      <td>30.000000</td>\n",
       "      <td>211.000000</td>\n",
       "      <td>999.000000</td>\n",
       "      <td>0.00000</td>\n",
       "      <td>1.000000</td>\n",
       "      <td>6070.000000</td>\n",
       "      <td>0.000000</td>\n",
       "      <td>1.000000</td>\n",
       "      <td>19.000000</td>\n",
       "      <td>1.000000</td>\n",
       "    </tr>\n",
       "    <tr>\n",
       "      <th>75%</th>\n",
       "      <td>62.000000</td>\n",
       "      <td>5.500000e+04</td>\n",
       "      <td>0.000000</td>\n",
       "      <td>2.000000</td>\n",
       "      <td>0.000000</td>\n",
       "      <td>0.000000</td>\n",
       "      <td>0.000000</td>\n",
       "      <td>1.000000</td>\n",
       "      <td>2.000000</td>\n",
       "      <td>0.000000</td>\n",
       "      <td>...</td>\n",
       "      <td>40.000000</td>\n",
       "      <td>795.000000</td>\n",
       "      <td>999.000000</td>\n",
       "      <td>2405.00000</td>\n",
       "      <td>1.000000</td>\n",
       "      <td>7880.000000</td>\n",
       "      <td>625.000000</td>\n",
       "      <td>2.000000</td>\n",
       "      <td>215.000000</td>\n",
       "      <td>1.000000</td>\n",
       "    </tr>\n",
       "    <tr>\n",
       "      <th>max</th>\n",
       "      <td>94.000000</td>\n",
       "      <td>1.167000e+06</td>\n",
       "      <td>1.000000</td>\n",
       "      <td>9.000000</td>\n",
       "      <td>1.000000</td>\n",
       "      <td>1.000000</td>\n",
       "      <td>1.000000</td>\n",
       "      <td>4.000000</td>\n",
       "      <td>2.000000</td>\n",
       "      <td>335000.000000</td>\n",
       "      <td>...</td>\n",
       "      <td>99.000000</td>\n",
       "      <td>999.000000</td>\n",
       "      <td>999.000000</td>\n",
       "      <td>6403.00000</td>\n",
       "      <td>2.000000</td>\n",
       "      <td>9920.000000</td>\n",
       "      <td>994.000000</td>\n",
       "      <td>2.000000</td>\n",
       "      <td>554.000000</td>\n",
       "      <td>1.000000</td>\n",
       "    </tr>\n",
       "  </tbody>\n",
       "</table>\n",
       "<p>8 rows × 28 columns</p>\n",
       "</div>"
      ],
      "text/plain": [
       "                AGEP         PINCP            DIS            COW  \\\n",
       "count  294532.000000  2.945320e+05  294532.000000  294532.000000   \n",
       "mean       47.957658  4.328122e+04       0.149237       1.631575   \n",
       "std        18.555133  6.634442e+04       0.356322       1.992496   \n",
       "min        18.000000 -1.080000e+04       0.000000       0.000000   \n",
       "25%        32.000000  7.900000e+03       0.000000       0.000000   \n",
       "50%        48.000000  2.340000e+04       0.000000       1.000000   \n",
       "75%        62.000000  5.500000e+04       0.000000       2.000000   \n",
       "max        94.000000  1.167000e+06       1.000000       9.000000   \n",
       "\n",
       "                DEAR           DEYE           DREM            ENG  \\\n",
       "count  294532.000000  294532.000000  294532.000000  294532.000000   \n",
       "mean        0.042539       0.026703       0.055172       0.753942   \n",
       "std         0.201815       0.161215       0.228317       1.107051   \n",
       "min         0.000000       0.000000       0.000000       0.000000   \n",
       "25%         0.000000       0.000000       0.000000       0.000000   \n",
       "50%         0.000000       0.000000       0.000000       0.000000   \n",
       "75%         0.000000       0.000000       0.000000       1.000000   \n",
       "max         1.000000       1.000000       1.000000       4.000000   \n",
       "\n",
       "                 FER           INTP      ...                 WKHP  \\\n",
       "count  294532.000000  294532.000000      ...        294532.000000   \n",
       "mean        0.532625    3268.068865      ...            23.942624   \n",
       "std         0.875902   24070.321502      ...            20.906379   \n",
       "min         0.000000   -5400.000000      ...             0.000000   \n",
       "25%         0.000000       0.000000      ...             0.000000   \n",
       "50%         0.000000       0.000000      ...            30.000000   \n",
       "75%         2.000000       0.000000      ...            40.000000   \n",
       "max         2.000000  335000.000000      ...            99.000000   \n",
       "\n",
       "               ANC1P          ANC2P         FOD1P          HICOV  \\\n",
       "count  294532.000000  294532.000000  294532.00000  294532.000000   \n",
       "mean      433.457193     835.135836    1356.72240       1.088248   \n",
       "std       370.173930     348.557592    2225.78127       0.283656   \n",
       "min         1.000000       1.000000       0.00000       1.000000   \n",
       "25%        89.000000     999.000000       0.00000       1.000000   \n",
       "50%       211.000000     999.000000       0.00000       1.000000   \n",
       "75%       795.000000     999.000000    2405.00000       1.000000   \n",
       "max       999.000000     999.000000    6403.00000       2.000000   \n",
       "\n",
       "                INDP           LANP       NATIVITY           POBP  \\\n",
       "count  294532.000000  294532.000000  294532.000000  294532.000000   \n",
       "mean     4716.727493     272.320369       1.321452      97.118917   \n",
       "std      3634.256237     325.774948       0.467035     123.513321   \n",
       "min         0.000000       0.000000       1.000000       1.000000   \n",
       "25%         0.000000       0.000000       1.000000       6.000000   \n",
       "50%      6070.000000       0.000000       1.000000      19.000000   \n",
       "75%      7880.000000     625.000000       2.000000     215.000000   \n",
       "max      9920.000000     994.000000       2.000000     554.000000   \n",
       "\n",
       "             married  \n",
       "count  294532.000000  \n",
       "mean        0.515706  \n",
       "std         0.499754  \n",
       "min         0.000000  \n",
       "25%         0.000000  \n",
       "50%         1.000000  \n",
       "75%         1.000000  \n",
       "max         1.000000  \n",
       "\n",
       "[8 rows x 28 columns]"
      ]
     },
     "execution_count": 224,
     "metadata": {},
     "output_type": "execute_result"
    }
   ],
   "source": [
    "df_marr.describe()"
   ]
  },
  {
   "cell_type": "code",
   "execution_count": 225,
   "metadata": {},
   "outputs": [
    {
     "data": {
      "text/plain": [
       "<matplotlib.figure.Figure at 0x7f5c75bf15c0>"
      ]
     },
     "metadata": {},
     "output_type": "display_data"
    },
    {
     "data": {
      "image/png": "[encoded data removed]",
      "text/plain": [
       "<matplotlib.figure.Figure at 0x7f5c75bfc5c0>"
      ]
     },
     "metadata": {},
     "output_type": "display_data"
    }
   ],
   "source": [
    "plt.figure(figsize=(10,10))\n",
    "g = sns.factorplot(x='SCHL', y='married', data=df_marr, kind='bar', size=6)"
   ]
  },
  {
   "cell_type": "markdown",
   "metadata": {},
   "source": [
    "Looks like people with higher education are slightly more likely to be married."
   ]
  },
  {
   "cell_type": "code",
   "execution_count": 226,
   "metadata": {},
   "outputs": [
    {
     "data": {
      "text/plain": [
       "<matplotlib.figure.Figure at 0x7f5c75c06710>"
      ]
     },
     "metadata": {},
     "output_type": "display_data"
    },
    {
     "data": {
      "image/png": "[encoded data removed]",
      "text/plain": [
       "<matplotlib.figure.Figure at 0x7f5c75bd6898>"
      ]
     },
     "metadata": {},
     "output_type": "display_data"
    }
   ],
   "source": [
    "plt.figure(figsize=(10,10))\n",
    "g = sns.factorplot(x='RAC1P', y='married', data=df_marr, kind='bar', size=6)\n",
    "g.set_xticklabels(rotation=90)\n",
    "plt.show()"
   ]
  },
  {
   "cell_type": "markdown",
   "metadata": {},
   "source": [
    "Some differences between ethnic groups and marriage. Asian people are the most likely to be married, and black people are the least likely."
   ]
  },
  {
   "cell_type": "code",
   "execution_count": 227,
   "metadata": {},
   "outputs": [
    {
     "data": {
      "text/plain": [
       "<matplotlib.figure.Figure at 0x7f5c5342a748>"
      ]
     },
     "metadata": {},
     "output_type": "display_data"
    },
    {
     "data": {
      "image/png": "[encoded data removed]",
      "text/plain": [
       "<matplotlib.figure.Figure at 0x7f5c754b2400>"
      ]
     },
     "metadata": {},
     "output_type": "display_data"
    }
   ],
   "source": [
    "plt.figure(figsize=(10,10))\n",
    "g = sns.factorplot('RAC1P', 'married','SEX', data=df_marr, kind='bar', size=6)\n",
    "g.set_xticklabels(rotation=90)\n",
    "plt.show()"
   ]
  },
  {
   "cell_type": "code",
   "execution_count": 229,
   "metadata": {},
   "outputs": [
    {
     "data": {
      "text/plain": [
       "WAOB\n",
       "AFR BORN              51733.652761\n",
       "ASIAN BORN            45745.723053\n",
       "EUR BORN              61941.767640\n",
       "LATIN AMERICA BORN    23557.292503\n",
       "NA BORN               73384.557962\n",
       "OCEANIA BORN          51502.705111\n",
       "US BORN               46334.578336\n",
       "Name: PINCP, dtype: float64"
      ]
     },
     "execution_count": 229,
     "metadata": {},
     "output_type": "execute_result"
    }
   ],
   "source": [
    "# Just out of curiosity, differences in mean incomes by the area of birth\n",
    "df_marr.groupby('WAOB').PINCP.mean()"
   ]
  },
  {
   "cell_type": "code",
   "execution_count": 230,
   "metadata": {},
   "outputs": [
    {
     "data": {
      "text/plain": [
       "SCHL  SEX   \n",
       "1.0   FEMALE     11465.0\n",
       "      MALE       23509.0\n",
       "2.0   FEMALE     17009.0\n",
       "      MALE       26284.0\n",
       "3.0   FEMALE     10828.0\n",
       "      MALE       23835.0\n",
       "4.0   FEMALE      9431.0\n",
       "      MALE       21707.0\n",
       "5.0   FEMALE      9757.0\n",
       "      MALE       18241.0\n",
       "6.0   FEMALE      9626.0\n",
       "      MALE       20671.0\n",
       "7.0   FEMALE     10349.0\n",
       "      MALE       20600.0\n",
       "8.0   FEMALE     10071.0\n",
       "      MALE       20999.0\n",
       "9.0   FEMALE     10509.0\n",
       "      MALE       22824.0\n",
       "10.0  FEMALE     11584.0\n",
       "      MALE       23961.0\n",
       "11.0  FEMALE     12750.0\n",
       "      MALE       24167.0\n",
       "12.0  FEMALE     11470.0\n",
       "      MALE       22320.0\n",
       "13.0  FEMALE     13864.0\n",
       "      MALE       21242.0\n",
       "14.0  FEMALE     11650.0\n",
       "      MALE       17152.0\n",
       "15.0  FEMALE     15146.0\n",
       "      MALE       25802.0\n",
       "16.0  FEMALE     19614.0\n",
       "      MALE       30815.0\n",
       "17.0  FEMALE     19781.0\n",
       "      MALE       29081.0\n",
       "18.0  FEMALE     25841.0\n",
       "      MALE       38974.0\n",
       "19.0  FEMALE     26084.0\n",
       "      MALE       40864.0\n",
       "20.0  FEMALE     33916.0\n",
       "      MALE       51289.0\n",
       "21.0  FEMALE     49262.0\n",
       "      MALE       82425.0\n",
       "22.0  FEMALE     65018.0\n",
       "      MALE      110267.0\n",
       "23.0  FEMALE     94199.0\n",
       "      MALE      159355.0\n",
       "24.0  FEMALE     86627.0\n",
       "      MALE      132210.0\n",
       "Name: PINCP, dtype: float64"
      ]
     },
     "execution_count": 230,
     "metadata": {},
     "output_type": "execute_result"
    }
   ],
   "source": [
    "# Mean income by schooling and gender\n",
    "round(df_marr.groupby(['SCHL','SEX']).PINCP.mean(),0)"
   ]
  },
  {
   "cell_type": "code",
   "execution_count": 231,
   "metadata": {},
   "outputs": [
    {
     "data": {
      "text/plain": [
       "RAC1P              SEX   \n",
       "ALASKAN NATIVE     FEMALE    18439.0\n",
       "                   MALE      27733.0\n",
       "ALASKAN/INDIAN     FEMALE    19532.0\n",
       "                   MALE      35917.0\n",
       "AMER INDIAN        FEMALE    26245.0\n",
       "                   MALE      36776.0\n",
       "ASIAN              FEMALE    35980.0\n",
       "                   MALE      56444.0\n",
       "BLACK              FEMALE    30120.0\n",
       "                   MALE      33728.0\n",
       "HAWAIAN            FEMALE    23350.0\n",
       "                   MALE      34657.0\n",
       "OTHER RACE         FEMALE    17510.0\n",
       "                   MALE      28812.0\n",
       "TWO OR MORE RACES  FEMALE    30367.0\n",
       "                   MALE      40674.0\n",
       "WHITE              FEMALE    35568.0\n",
       "                   MALE      60493.0\n",
       "Name: PINCP, dtype: float64"
      ]
     },
     "execution_count": 231,
     "metadata": {},
     "output_type": "execute_result"
    }
   ],
   "source": [
    "# Income by race and gender\n",
    "round(df_marr.groupby(['RAC1P','SEX']).PINCP.mean(),0)"
   ]
  },
  {
   "cell_type": "code",
   "execution_count": 233,
   "metadata": {},
   "outputs": [
    {
     "data": {
      "image/png": "[encoded data removed]",
      "text/plain": [
       "<matplotlib.figure.Figure at 0x7f5c754b2b38>"
      ]
     },
     "metadata": {},
     "output_type": "display_data"
    }
   ],
   "source": [
    "import seaborn as sns\n",
    "g = sns.factorplot('WAOB','married', 'SEX', data=df_marr, kind='bar', size=6)\n",
    "g.despine(left=True)\n",
    "g = g.set_ylabels(\"Probability of being married\")\n",
    "g.set_xticklabels(rotation=90)\n",
    "plt.show()"
   ]
  },
  {
   "cell_type": "markdown",
   "metadata": {},
   "source": [
    "Males are more probable of being married in every group. This is probably because there is fewer males living in California."
   ]
  },
  {
   "cell_type": "code",
   "execution_count": 53,
   "metadata": {},
   "outputs": [
    {
     "data": {
      "image/png": "[encoded data removed]",
      "text/plain": [
       "<matplotlib.figure.Figure at 0x7fcba57fbdd8>"
      ]
     },
     "metadata": {},
     "output_type": "display_data"
    }
   ],
   "source": [
    "g = sns.FacetGrid(df_marr, col='married')\n",
    "g = g.map(sns.distplot, \"AGEP\")"
   ]
  },
  {
   "cell_type": "markdown",
   "metadata": {},
   "source": [
    "Here is the distribution of variable AGE. The distribution for people who are not married is very skewed, which is not a surprise. People start to get married around the age of 30."
   ]
  },
  {
   "cell_type": "code",
   "execution_count": 234,
   "metadata": {},
   "outputs": [
    {
     "data": {
      "image/png": "[encoded data removed]",
      "text/plain": [
       "<matplotlib.figure.Figure at 0x7f5c7f367710>"
      ]
     },
     "metadata": {},
     "output_type": "display_data"
    }
   ],
   "source": [
    "g = sns.FacetGrid(df_marr, col='married')\n",
    "g = g.map(sns.distplot, \"PINCP\")"
   ]
  },
  {
   "cell_type": "code",
   "execution_count": 235,
   "metadata": {},
   "outputs": [],
   "source": [
    "from future_encoders import OrdinalEncoder"
   ]
  },
  {
   "cell_type": "code",
   "execution_count": 236,
   "metadata": {},
   "outputs": [],
   "source": [
    "#df_ordinal_encoded = ordinal_encoder.fit_transform(df_marr_ord.astype(str))\n",
    "ordinal_encoder = OrdinalEncoder()\n",
    "df_ordinal = df_marr[marr_ord]\n",
    "df_ordinal_encoded = ordinal_encoder.fit_transform(df_ordinal.astype('str'))\n",
    "#df_ordinal_encoded.head()"
   ]
  },
  {
   "cell_type": "code",
   "execution_count": 237,
   "metadata": {},
   "outputs": [
    {
     "data": {
      "text/plain": [
       "(294532, 8)"
      ]
     },
     "execution_count": 237,
     "metadata": {},
     "output_type": "execute_result"
    }
   ],
   "source": [
    "df_ordinal_encoded.shape"
   ]
  },
  {
   "cell_type": "code",
   "execution_count": 238,
   "metadata": {},
   "outputs": [],
   "source": [
    "ordinal_df = pd.DataFrame(df_ordinal_encoded, columns=marr_ord)"
   ]
  },
  {
   "cell_type": "code",
   "execution_count": 239,
   "metadata": {},
   "outputs": [
    {
     "data": {
      "text/html": [
       "<div>\n",
       "<style scoped>\n",
       "    .dataframe tbody tr th:only-of-type {\n",
       "        vertical-align: middle;\n",
       "    }\n",
       "\n",
       "    .dataframe tbody tr th {\n",
       "        vertical-align: top;\n",
       "    }\n",
       "\n",
       "    .dataframe thead th {\n",
       "        text-align: right;\n",
       "    }\n",
       "</style>\n",
       "<table border=\"1\" class=\"dataframe\">\n",
       "  <thead>\n",
       "    <tr style=\"text-align: right;\">\n",
       "      <th></th>\n",
       "      <th>SCHL</th>\n",
       "      <th>ENG</th>\n",
       "      <th>DIS</th>\n",
       "      <th>DEAR</th>\n",
       "      <th>DEYE</th>\n",
       "      <th>DREM</th>\n",
       "      <th>HICOV</th>\n",
       "      <th>LANX</th>\n",
       "    </tr>\n",
       "  </thead>\n",
       "  <tbody>\n",
       "    <tr>\n",
       "      <th>0</th>\n",
       "      <td>13.0</td>\n",
       "      <td>1.0</td>\n",
       "      <td>0.0</td>\n",
       "      <td>0.0</td>\n",
       "      <td>0.0</td>\n",
       "      <td>0.0</td>\n",
       "      <td>0.0</td>\n",
       "      <td>0.0</td>\n",
       "    </tr>\n",
       "    <tr>\n",
       "      <th>1</th>\n",
       "      <td>9.0</td>\n",
       "      <td>1.0</td>\n",
       "      <td>0.0</td>\n",
       "      <td>0.0</td>\n",
       "      <td>0.0</td>\n",
       "      <td>0.0</td>\n",
       "      <td>1.0</td>\n",
       "      <td>0.0</td>\n",
       "    </tr>\n",
       "    <tr>\n",
       "      <th>2</th>\n",
       "      <td>15.0</td>\n",
       "      <td>0.0</td>\n",
       "      <td>0.0</td>\n",
       "      <td>0.0</td>\n",
       "      <td>0.0</td>\n",
       "      <td>0.0</td>\n",
       "      <td>0.0</td>\n",
       "      <td>1.0</td>\n",
       "    </tr>\n",
       "    <tr>\n",
       "      <th>3</th>\n",
       "      <td>14.0</td>\n",
       "      <td>0.0</td>\n",
       "      <td>0.0</td>\n",
       "      <td>0.0</td>\n",
       "      <td>0.0</td>\n",
       "      <td>0.0</td>\n",
       "      <td>0.0</td>\n",
       "      <td>1.0</td>\n",
       "    </tr>\n",
       "    <tr>\n",
       "      <th>4</th>\n",
       "      <td>14.0</td>\n",
       "      <td>0.0</td>\n",
       "      <td>0.0</td>\n",
       "      <td>0.0</td>\n",
       "      <td>0.0</td>\n",
       "      <td>0.0</td>\n",
       "      <td>0.0</td>\n",
       "      <td>1.0</td>\n",
       "    </tr>\n",
       "  </tbody>\n",
       "</table>\n",
       "</div>"
      ],
      "text/plain": [
       "   SCHL  ENG  DIS  DEAR  DEYE  DREM  HICOV  LANX\n",
       "0  13.0  1.0  0.0   0.0   0.0   0.0    0.0   0.0\n",
       "1   9.0  1.0  0.0   0.0   0.0   0.0    1.0   0.0\n",
       "2  15.0  0.0  0.0   0.0   0.0   0.0    0.0   1.0\n",
       "3  14.0  0.0  0.0   0.0   0.0   0.0    0.0   1.0\n",
       "4  14.0  0.0  0.0   0.0   0.0   0.0    0.0   1.0"
      ]
     },
     "execution_count": 239,
     "metadata": {},
     "output_type": "execute_result"
    }
   ],
   "source": [
    "ordinal_df.head()"
   ]
  },
  {
   "cell_type": "code",
   "execution_count": 240,
   "metadata": {},
   "outputs": [],
   "source": [
    "# Scaling the numerical variables\n",
    "\n",
    "from sklearn.pipeline import Pipeline\n",
    "from sklearn.preprocessing import StandardScaler\n",
    "\n",
    "num_pipeline = Pipeline([\n",
    "        #('imputer', Imputer(strategy=\"median\")),\n",
    "        ('std_scaler', StandardScaler()),\n",
    "    ])\n",
    "\n",
    "df_marr_num_tr = num_pipeline.fit_transform(df_marr[marr_num])"
   ]
  },
  {
   "cell_type": "code",
   "execution_count": 241,
   "metadata": {},
   "outputs": [
    {
     "data": {
      "text/plain": [
       "array([[-0.37497279,  0.13141716, -0.05268193, ..., -0.13822493,\n",
       "        -0.42033446,  1.72470981],\n",
       "       [-0.8600146 , -0.65237278, -0.13577195, ..., -0.13822493,\n",
       "        -0.42033446, -1.1452325 ],\n",
       "       [-0.75222753, -0.65237278, -0.13577195, ..., -0.13822493,\n",
       "        -0.42033446, -1.1452325 ],\n",
       "       ...,\n",
       "       [-0.48275986, -0.65237278, -0.13577195, ..., -0.13822493,\n",
       "        -0.42033446, -1.1452325 ],\n",
       "       [ 2.05023624, -0.37352443, -0.13161745, ..., -0.13822493,\n",
       "         2.0662053 , -1.1452325 ],\n",
       "       [ 1.61908797, -0.287609  , -0.13577195, ..., -0.13822493,\n",
       "         1.18490007, -1.1452325 ]])"
      ]
     },
     "execution_count": 241,
     "metadata": {},
     "output_type": "execute_result"
    }
   ],
   "source": [
    "df_marr_num_tr"
   ]
  },
  {
   "cell_type": "code",
   "execution_count": 242,
   "metadata": {},
   "outputs": [],
   "source": [
    "numer_df = pd.DataFrame(df_marr_num_tr, columns=marr_num)"
   ]
  },
  {
   "cell_type": "code",
   "execution_count": 243,
   "metadata": {},
   "outputs": [],
   "source": [
    "full_df = pd.concat([numer_df.reset_index(drop=True), ordinal_df.reset_index(drop=True)], axis=1)"
   ]
  },
  {
   "cell_type": "code",
   "execution_count": 244,
   "metadata": {
    "scrolled": true
   },
   "outputs": [
    {
     "data": {
      "text/html": [
       "<div>\n",
       "<style scoped>\n",
       "    .dataframe tbody tr th:only-of-type {\n",
       "        vertical-align: middle;\n",
       "    }\n",
       "\n",
       "    .dataframe tbody tr th {\n",
       "        vertical-align: top;\n",
       "    }\n",
       "\n",
       "    .dataframe thead th {\n",
       "        text-align: right;\n",
       "    }\n",
       "</style>\n",
       "<table border=\"1\" class=\"dataframe\">\n",
       "  <thead>\n",
       "    <tr style=\"text-align: right;\">\n",
       "      <th></th>\n",
       "      <th>AGEP</th>\n",
       "      <th>PINCP</th>\n",
       "      <th>INTP</th>\n",
       "      <th>JWMNP</th>\n",
       "      <th>PAP</th>\n",
       "      <th>RETP</th>\n",
       "      <th>SEMP</th>\n",
       "      <th>SSP</th>\n",
       "      <th>WKHP</th>\n",
       "      <th>SCHL</th>\n",
       "      <th>ENG</th>\n",
       "      <th>DIS</th>\n",
       "      <th>DEAR</th>\n",
       "      <th>DEYE</th>\n",
       "      <th>DREM</th>\n",
       "      <th>HICOV</th>\n",
       "      <th>LANX</th>\n",
       "    </tr>\n",
       "  </thead>\n",
       "  <tbody>\n",
       "    <tr>\n",
       "      <th>0</th>\n",
       "      <td>-0.374973</td>\n",
       "      <td>0.131417</td>\n",
       "      <td>-0.052682</td>\n",
       "      <td>-0.240446</td>\n",
       "      <td>-0.094729</td>\n",
       "      <td>-0.215694</td>\n",
       "      <td>-0.138225</td>\n",
       "      <td>-0.420334</td>\n",
       "      <td>1.724710</td>\n",
       "      <td>13.0</td>\n",
       "      <td>1.0</td>\n",
       "      <td>0.0</td>\n",
       "      <td>0.0</td>\n",
       "      <td>0.0</td>\n",
       "      <td>0.0</td>\n",
       "      <td>0.0</td>\n",
       "      <td>0.0</td>\n",
       "    </tr>\n",
       "    <tr>\n",
       "      <th>1</th>\n",
       "      <td>-0.860015</td>\n",
       "      <td>-0.652373</td>\n",
       "      <td>-0.135772</td>\n",
       "      <td>-0.683476</td>\n",
       "      <td>-0.094729</td>\n",
       "      <td>-0.215694</td>\n",
       "      <td>-0.138225</td>\n",
       "      <td>-0.420334</td>\n",
       "      <td>-1.145233</td>\n",
       "      <td>9.0</td>\n",
       "      <td>1.0</td>\n",
       "      <td>0.0</td>\n",
       "      <td>0.0</td>\n",
       "      <td>0.0</td>\n",
       "      <td>0.0</td>\n",
       "      <td>1.0</td>\n",
       "      <td>0.0</td>\n",
       "    </tr>\n",
       "    <tr>\n",
       "      <th>2</th>\n",
       "      <td>-0.752228</td>\n",
       "      <td>-0.652373</td>\n",
       "      <td>-0.135772</td>\n",
       "      <td>-0.683476</td>\n",
       "      <td>-0.094729</td>\n",
       "      <td>-0.215694</td>\n",
       "      <td>-0.138225</td>\n",
       "      <td>-0.420334</td>\n",
       "      <td>-1.145233</td>\n",
       "      <td>15.0</td>\n",
       "      <td>0.0</td>\n",
       "      <td>0.0</td>\n",
       "      <td>0.0</td>\n",
       "      <td>0.0</td>\n",
       "      <td>0.0</td>\n",
       "      <td>0.0</td>\n",
       "      <td>1.0</td>\n",
       "    </tr>\n",
       "    <tr>\n",
       "      <th>3</th>\n",
       "      <td>-0.752228</td>\n",
       "      <td>2.844536</td>\n",
       "      <td>-0.052682</td>\n",
       "      <td>0.424100</td>\n",
       "      <td>-0.094729</td>\n",
       "      <td>-0.215694</td>\n",
       "      <td>-0.138225</td>\n",
       "      <td>-0.420334</td>\n",
       "      <td>1.724710</td>\n",
       "      <td>14.0</td>\n",
       "      <td>0.0</td>\n",
       "      <td>0.0</td>\n",
       "      <td>0.0</td>\n",
       "      <td>0.0</td>\n",
       "      <td>0.0</td>\n",
       "      <td>0.0</td>\n",
       "      <td>1.0</td>\n",
       "    </tr>\n",
       "    <tr>\n",
       "      <th>4</th>\n",
       "      <td>0.379537</td>\n",
       "      <td>0.386149</td>\n",
       "      <td>1.941478</td>\n",
       "      <td>-0.683476</td>\n",
       "      <td>-0.094729</td>\n",
       "      <td>-0.215694</td>\n",
       "      <td>0.383805</td>\n",
       "      <td>-0.420334</td>\n",
       "      <td>-0.188585</td>\n",
       "      <td>14.0</td>\n",
       "      <td>0.0</td>\n",
       "      <td>0.0</td>\n",
       "      <td>0.0</td>\n",
       "      <td>0.0</td>\n",
       "      <td>0.0</td>\n",
       "      <td>0.0</td>\n",
       "      <td>1.0</td>\n",
       "    </tr>\n",
       "  </tbody>\n",
       "</table>\n",
       "</div>"
      ],
      "text/plain": [
       "       AGEP     PINCP      INTP     JWMNP       PAP      RETP      SEMP  \\\n",
       "0 -0.374973  0.131417 -0.052682 -0.240446 -0.094729 -0.215694 -0.138225   \n",
       "1 -0.860015 -0.652373 -0.135772 -0.683476 -0.094729 -0.215694 -0.138225   \n",
       "2 -0.752228 -0.652373 -0.135772 -0.683476 -0.094729 -0.215694 -0.138225   \n",
       "3 -0.752228  2.844536 -0.052682  0.424100 -0.094729 -0.215694 -0.138225   \n",
       "4  0.379537  0.386149  1.941478 -0.683476 -0.094729 -0.215694  0.383805   \n",
       "\n",
       "        SSP      WKHP  SCHL  ENG  DIS  DEAR  DEYE  DREM  HICOV  LANX  \n",
       "0 -0.420334  1.724710  13.0  1.0  0.0   0.0   0.0   0.0    0.0   0.0  \n",
       "1 -0.420334 -1.145233   9.0  1.0  0.0   0.0   0.0   0.0    1.0   0.0  \n",
       "2 -0.420334 -1.145233  15.0  0.0  0.0   0.0   0.0   0.0    0.0   1.0  \n",
       "3 -0.420334  1.724710  14.0  0.0  0.0   0.0   0.0   0.0    0.0   1.0  \n",
       "4 -0.420334 -0.188585  14.0  0.0  0.0   0.0   0.0   0.0    0.0   1.0  "
      ]
     },
     "execution_count": 244,
     "metadata": {},
     "output_type": "execute_result"
    }
   ],
   "source": [
    "full_df.head()"
   ]
  },
  {
   "cell_type": "markdown",
   "metadata": {},
   "source": [
    "I decided to use the pandas get_dummies function to convert categorical variables into dummy variables. I also dropped one column of each dummy variable, to avoid the dummy variable trap. "
   ]
  },
  {
   "cell_type": "code",
   "execution_count": 245,
   "metadata": {},
   "outputs": [],
   "source": [
    "for col in marr_cat:\n",
    "    dummies = pd.get_dummies(df_marr[col])\n",
    "    dummies.drop(dummies.columns[len(dummies.columns)-1], axis=1, inplace=True)\n",
    "    full_df = pd.concat([full_df.reset_index(drop=True), dummies.reset_index(drop=True)], axis=1)"
   ]
  },
  {
   "cell_type": "code",
   "execution_count": 246,
   "metadata": {},
   "outputs": [
    {
     "data": {
      "text/html": [
       "<div>\n",
       "<style scoped>\n",
       "    .dataframe tbody tr th:only-of-type {\n",
       "        vertical-align: middle;\n",
       "    }\n",
       "\n",
       "    .dataframe tbody tr th {\n",
       "        vertical-align: top;\n",
       "    }\n",
       "\n",
       "    .dataframe thead th {\n",
       "        text-align: right;\n",
       "    }\n",
       "</style>\n",
       "<table border=\"1\" class=\"dataframe\">\n",
       "  <thead>\n",
       "    <tr style=\"text-align: right;\">\n",
       "      <th></th>\n",
       "      <th>AGEP</th>\n",
       "      <th>PINCP</th>\n",
       "      <th>INTP</th>\n",
       "      <th>JWMNP</th>\n",
       "      <th>PAP</th>\n",
       "      <th>RETP</th>\n",
       "      <th>SEMP</th>\n",
       "      <th>SSP</th>\n",
       "      <th>WKHP</th>\n",
       "      <th>SCHL</th>\n",
       "      <th>...</th>\n",
       "      <th>HAWAIAN</th>\n",
       "      <th>OTHER RACE</th>\n",
       "      <th>TWO OR MORE RACES</th>\n",
       "      <th>AFR BORN</th>\n",
       "      <th>ASIAN BORN</th>\n",
       "      <th>EUR BORN</th>\n",
       "      <th>LATIN AMERICA BORN</th>\n",
       "      <th>NA BORN</th>\n",
       "      <th>OCEANIA BORN</th>\n",
       "      <th>FEMALE</th>\n",
       "    </tr>\n",
       "  </thead>\n",
       "  <tbody>\n",
       "    <tr>\n",
       "      <th>0</th>\n",
       "      <td>-0.374973</td>\n",
       "      <td>0.131417</td>\n",
       "      <td>-0.052682</td>\n",
       "      <td>-0.240446</td>\n",
       "      <td>-0.094729</td>\n",
       "      <td>-0.215694</td>\n",
       "      <td>-0.138225</td>\n",
       "      <td>-0.420334</td>\n",
       "      <td>1.724710</td>\n",
       "      <td>13.0</td>\n",
       "      <td>...</td>\n",
       "      <td>0</td>\n",
       "      <td>0</td>\n",
       "      <td>0</td>\n",
       "      <td>0</td>\n",
       "      <td>0</td>\n",
       "      <td>0</td>\n",
       "      <td>0</td>\n",
       "      <td>0</td>\n",
       "      <td>0</td>\n",
       "      <td>0</td>\n",
       "    </tr>\n",
       "    <tr>\n",
       "      <th>1</th>\n",
       "      <td>-0.860015</td>\n",
       "      <td>-0.652373</td>\n",
       "      <td>-0.135772</td>\n",
       "      <td>-0.683476</td>\n",
       "      <td>-0.094729</td>\n",
       "      <td>-0.215694</td>\n",
       "      <td>-0.138225</td>\n",
       "      <td>-0.420334</td>\n",
       "      <td>-1.145233</td>\n",
       "      <td>9.0</td>\n",
       "      <td>...</td>\n",
       "      <td>0</td>\n",
       "      <td>0</td>\n",
       "      <td>0</td>\n",
       "      <td>0</td>\n",
       "      <td>0</td>\n",
       "      <td>0</td>\n",
       "      <td>1</td>\n",
       "      <td>0</td>\n",
       "      <td>0</td>\n",
       "      <td>1</td>\n",
       "    </tr>\n",
       "    <tr>\n",
       "      <th>2</th>\n",
       "      <td>-0.752228</td>\n",
       "      <td>-0.652373</td>\n",
       "      <td>-0.135772</td>\n",
       "      <td>-0.683476</td>\n",
       "      <td>-0.094729</td>\n",
       "      <td>-0.215694</td>\n",
       "      <td>-0.138225</td>\n",
       "      <td>-0.420334</td>\n",
       "      <td>-1.145233</td>\n",
       "      <td>15.0</td>\n",
       "      <td>...</td>\n",
       "      <td>0</td>\n",
       "      <td>0</td>\n",
       "      <td>0</td>\n",
       "      <td>0</td>\n",
       "      <td>0</td>\n",
       "      <td>0</td>\n",
       "      <td>0</td>\n",
       "      <td>0</td>\n",
       "      <td>0</td>\n",
       "      <td>1</td>\n",
       "    </tr>\n",
       "    <tr>\n",
       "      <th>3</th>\n",
       "      <td>-0.752228</td>\n",
       "      <td>2.844536</td>\n",
       "      <td>-0.052682</td>\n",
       "      <td>0.424100</td>\n",
       "      <td>-0.094729</td>\n",
       "      <td>-0.215694</td>\n",
       "      <td>-0.138225</td>\n",
       "      <td>-0.420334</td>\n",
       "      <td>1.724710</td>\n",
       "      <td>14.0</td>\n",
       "      <td>...</td>\n",
       "      <td>0</td>\n",
       "      <td>0</td>\n",
       "      <td>0</td>\n",
       "      <td>0</td>\n",
       "      <td>0</td>\n",
       "      <td>0</td>\n",
       "      <td>0</td>\n",
       "      <td>0</td>\n",
       "      <td>0</td>\n",
       "      <td>0</td>\n",
       "    </tr>\n",
       "    <tr>\n",
       "      <th>4</th>\n",
       "      <td>0.379537</td>\n",
       "      <td>0.386149</td>\n",
       "      <td>1.941478</td>\n",
       "      <td>-0.683476</td>\n",
       "      <td>-0.094729</td>\n",
       "      <td>-0.215694</td>\n",
       "      <td>0.383805</td>\n",
       "      <td>-0.420334</td>\n",
       "      <td>-0.188585</td>\n",
       "      <td>14.0</td>\n",
       "      <td>...</td>\n",
       "      <td>0</td>\n",
       "      <td>0</td>\n",
       "      <td>0</td>\n",
       "      <td>0</td>\n",
       "      <td>0</td>\n",
       "      <td>0</td>\n",
       "      <td>0</td>\n",
       "      <td>0</td>\n",
       "      <td>0</td>\n",
       "      <td>1</td>\n",
       "    </tr>\n",
       "  </tbody>\n",
       "</table>\n",
       "<p>5 rows × 49 columns</p>\n",
       "</div>"
      ],
      "text/plain": [
       "       AGEP     PINCP      INTP     JWMNP       PAP      RETP      SEMP  \\\n",
       "0 -0.374973  0.131417 -0.052682 -0.240446 -0.094729 -0.215694 -0.138225   \n",
       "1 -0.860015 -0.652373 -0.135772 -0.683476 -0.094729 -0.215694 -0.138225   \n",
       "2 -0.752228 -0.652373 -0.135772 -0.683476 -0.094729 -0.215694 -0.138225   \n",
       "3 -0.752228  2.844536 -0.052682  0.424100 -0.094729 -0.215694 -0.138225   \n",
       "4  0.379537  0.386149  1.941478 -0.683476 -0.094729 -0.215694  0.383805   \n",
       "\n",
       "        SSP      WKHP  SCHL   ...    HAWAIAN  OTHER RACE  TWO OR MORE RACES  \\\n",
       "0 -0.420334  1.724710  13.0   ...          0           0                  0   \n",
       "1 -0.420334 -1.145233   9.0   ...          0           0                  0   \n",
       "2 -0.420334 -1.145233  15.0   ...          0           0                  0   \n",
       "3 -0.420334  1.724710  14.0   ...          0           0                  0   \n",
       "4 -0.420334 -0.188585  14.0   ...          0           0                  0   \n",
       "\n",
       "   AFR BORN  ASIAN BORN  EUR BORN  LATIN AMERICA BORN  NA BORN  OCEANIA BORN  \\\n",
       "0         0           0         0                   0        0             0   \n",
       "1         0           0         0                   1        0             0   \n",
       "2         0           0         0                   0        0             0   \n",
       "3         0           0         0                   0        0             0   \n",
       "4         0           0         0                   0        0             0   \n",
       "\n",
       "   FEMALE  \n",
       "0       0  \n",
       "1       1  \n",
       "2       1  \n",
       "3       0  \n",
       "4       1  \n",
       "\n",
       "[5 rows x 49 columns]"
      ]
     },
     "execution_count": 246,
     "metadata": {},
     "output_type": "execute_result"
    }
   ],
   "source": [
    "full_df.head()"
   ]
  },
  {
   "cell_type": "code",
   "execution_count": 247,
   "metadata": {},
   "outputs": [
    {
     "data": {
      "text/plain": [
       "(294532, 49)"
      ]
     },
     "execution_count": 247,
     "metadata": {},
     "output_type": "execute_result"
    }
   ],
   "source": [
    "full_df.shape"
   ]
  },
  {
   "cell_type": "code",
   "execution_count": 248,
   "metadata": {
    "scrolled": true
   },
   "outputs": [
    {
     "name": "stdout",
     "output_type": "stream",
     "text": [
      "<class 'pandas.core.frame.DataFrame'>\n",
      "RangeIndex: 294532 entries, 0 to 294531\n",
      "Data columns (total 49 columns):\n",
      "AGEP                  294532 non-null float64\n",
      "PINCP                 294532 non-null float64\n",
      "INTP                  294532 non-null float64\n",
      "JWMNP                 294532 non-null float64\n",
      "PAP                   294532 non-null float64\n",
      "RETP                  294532 non-null float64\n",
      "SEMP                  294532 non-null float64\n",
      "SSP                   294532 non-null float64\n",
      "WKHP                  294532 non-null float64\n",
      "SCHL                  294532 non-null float64\n",
      "ENG                   294532 non-null float64\n",
      "DIS                   294532 non-null float64\n",
      "DEAR                  294532 non-null float64\n",
      "DEYE                  294532 non-null float64\n",
      "DREM                  294532 non-null float64\n",
      "HICOV                 294532 non-null float64\n",
      "LANX                  294532 non-null float64\n",
      "EMPLOYED              294532 non-null uint8\n",
      "NOT VET DIS           294532 non-null uint8\n",
      "BIKE                  294532 non-null uint8\n",
      "MOTORCYCLE            294532 non-null uint8\n",
      "OTHER                 294532 non-null uint8\n",
      "TAXI                  294532 non-null uint8\n",
      "TR_BUS                294532 non-null uint8\n",
      "TR_CAR                294532 non-null uint8\n",
      "TR_FERRYBOAT          294532 non-null uint8\n",
      "TR_NILB               294532 non-null uint8\n",
      "TR_RAILROAD           294532 non-null uint8\n",
      "TR_SUBWAY             294532 non-null uint8\n",
      "TR_TROLLEY            294532 non-null uint8\n",
      "WALKED                294532 non-null uint8\n",
      "DIDNT MOVE 1YR        294532 non-null uint8\n",
      "NOT IN ACTIVE DUTY    294532 non-null uint8\n",
      "CITIZEN               294532 non-null uint8\n",
      "ALASKAN NATIVE        294532 non-null uint8\n",
      "ALASKAN/INDIAN        294532 non-null uint8\n",
      "AMER INDIAN           294532 non-null uint8\n",
      "ASIAN                 294532 non-null uint8\n",
      "BLACK                 294532 non-null uint8\n",
      "HAWAIAN               294532 non-null uint8\n",
      "OTHER RACE            294532 non-null uint8\n",
      "TWO OR MORE RACES     294532 non-null uint8\n",
      "AFR BORN              294532 non-null uint8\n",
      "ASIAN BORN            294532 non-null uint8\n",
      "EUR BORN              294532 non-null uint8\n",
      "LATIN AMERICA BORN    294532 non-null uint8\n",
      "NA BORN               294532 non-null uint8\n",
      "OCEANIA BORN          294532 non-null uint8\n",
      "FEMALE                294532 non-null uint8\n",
      "dtypes: float64(17), uint8(32)\n",
      "memory usage: 47.2 MB\n"
     ]
    }
   ],
   "source": [
    "full_df.info()"
   ]
  },
  {
   "cell_type": "code",
   "execution_count": 292,
   "metadata": {},
   "outputs": [],
   "source": [
    "# Splitting the data into train, validation and test sets.\n",
    "\n",
    "from sklearn.model_selection import train_test_split\n",
    "\n",
    "X = full_df\n",
    "y = married\n",
    "\n",
    "X_train, X_test, y_train, y_test = train_test_split(X, y, test_size=0.3, random_state=42)\n",
    "\n",
    "X_train, X_val, y_train, y_val = train_test_split(X_train, y_train, test_size=0.4, random_state=42)"
   ]
  },
  {
   "cell_type": "code",
   "execution_count": 293,
   "metadata": {},
   "outputs": [
    {
     "data": {
      "text/html": [
       "<div>\n",
       "<style scoped>\n",
       "    .dataframe tbody tr th:only-of-type {\n",
       "        vertical-align: middle;\n",
       "    }\n",
       "\n",
       "    .dataframe tbody tr th {\n",
       "        vertical-align: top;\n",
       "    }\n",
       "\n",
       "    .dataframe thead th {\n",
       "        text-align: right;\n",
       "    }\n",
       "</style>\n",
       "<table border=\"1\" class=\"dataframe\">\n",
       "  <thead>\n",
       "    <tr style=\"text-align: right;\">\n",
       "      <th></th>\n",
       "      <th>AGEP</th>\n",
       "      <th>PINCP</th>\n",
       "      <th>INTP</th>\n",
       "      <th>JWMNP</th>\n",
       "      <th>PAP</th>\n",
       "      <th>RETP</th>\n",
       "      <th>SEMP</th>\n",
       "      <th>SSP</th>\n",
       "      <th>WKHP</th>\n",
       "      <th>SCHL</th>\n",
       "      <th>...</th>\n",
       "      <th>HAWAIAN</th>\n",
       "      <th>OTHER RACE</th>\n",
       "      <th>TWO OR MORE RACES</th>\n",
       "      <th>AFR BORN</th>\n",
       "      <th>ASIAN BORN</th>\n",
       "      <th>EUR BORN</th>\n",
       "      <th>LATIN AMERICA BORN</th>\n",
       "      <th>NA BORN</th>\n",
       "      <th>OCEANIA BORN</th>\n",
       "      <th>FEMALE</th>\n",
       "    </tr>\n",
       "  </thead>\n",
       "  <tbody>\n",
       "    <tr>\n",
       "      <th>0</th>\n",
       "      <td>-0.374973</td>\n",
       "      <td>0.131417</td>\n",
       "      <td>-0.052682</td>\n",
       "      <td>-0.240446</td>\n",
       "      <td>-0.094729</td>\n",
       "      <td>-0.215694</td>\n",
       "      <td>-0.138225</td>\n",
       "      <td>-0.420334</td>\n",
       "      <td>1.724710</td>\n",
       "      <td>13.0</td>\n",
       "      <td>...</td>\n",
       "      <td>0</td>\n",
       "      <td>0</td>\n",
       "      <td>0</td>\n",
       "      <td>0</td>\n",
       "      <td>0</td>\n",
       "      <td>0</td>\n",
       "      <td>0</td>\n",
       "      <td>0</td>\n",
       "      <td>0</td>\n",
       "      <td>0</td>\n",
       "    </tr>\n",
       "    <tr>\n",
       "      <th>1</th>\n",
       "      <td>-0.860015</td>\n",
       "      <td>-0.652373</td>\n",
       "      <td>-0.135772</td>\n",
       "      <td>-0.683476</td>\n",
       "      <td>-0.094729</td>\n",
       "      <td>-0.215694</td>\n",
       "      <td>-0.138225</td>\n",
       "      <td>-0.420334</td>\n",
       "      <td>-1.145233</td>\n",
       "      <td>9.0</td>\n",
       "      <td>...</td>\n",
       "      <td>0</td>\n",
       "      <td>0</td>\n",
       "      <td>0</td>\n",
       "      <td>0</td>\n",
       "      <td>0</td>\n",
       "      <td>0</td>\n",
       "      <td>1</td>\n",
       "      <td>0</td>\n",
       "      <td>0</td>\n",
       "      <td>1</td>\n",
       "    </tr>\n",
       "    <tr>\n",
       "      <th>2</th>\n",
       "      <td>-0.752228</td>\n",
       "      <td>-0.652373</td>\n",
       "      <td>-0.135772</td>\n",
       "      <td>-0.683476</td>\n",
       "      <td>-0.094729</td>\n",
       "      <td>-0.215694</td>\n",
       "      <td>-0.138225</td>\n",
       "      <td>-0.420334</td>\n",
       "      <td>-1.145233</td>\n",
       "      <td>15.0</td>\n",
       "      <td>...</td>\n",
       "      <td>0</td>\n",
       "      <td>0</td>\n",
       "      <td>0</td>\n",
       "      <td>0</td>\n",
       "      <td>0</td>\n",
       "      <td>0</td>\n",
       "      <td>0</td>\n",
       "      <td>0</td>\n",
       "      <td>0</td>\n",
       "      <td>1</td>\n",
       "    </tr>\n",
       "    <tr>\n",
       "      <th>3</th>\n",
       "      <td>-0.752228</td>\n",
       "      <td>2.844536</td>\n",
       "      <td>-0.052682</td>\n",
       "      <td>0.424100</td>\n",
       "      <td>-0.094729</td>\n",
       "      <td>-0.215694</td>\n",
       "      <td>-0.138225</td>\n",
       "      <td>-0.420334</td>\n",
       "      <td>1.724710</td>\n",
       "      <td>14.0</td>\n",
       "      <td>...</td>\n",
       "      <td>0</td>\n",
       "      <td>0</td>\n",
       "      <td>0</td>\n",
       "      <td>0</td>\n",
       "      <td>0</td>\n",
       "      <td>0</td>\n",
       "      <td>0</td>\n",
       "      <td>0</td>\n",
       "      <td>0</td>\n",
       "      <td>0</td>\n",
       "    </tr>\n",
       "    <tr>\n",
       "      <th>4</th>\n",
       "      <td>0.379537</td>\n",
       "      <td>0.386149</td>\n",
       "      <td>1.941478</td>\n",
       "      <td>-0.683476</td>\n",
       "      <td>-0.094729</td>\n",
       "      <td>-0.215694</td>\n",
       "      <td>0.383805</td>\n",
       "      <td>-0.420334</td>\n",
       "      <td>-0.188585</td>\n",
       "      <td>14.0</td>\n",
       "      <td>...</td>\n",
       "      <td>0</td>\n",
       "      <td>0</td>\n",
       "      <td>0</td>\n",
       "      <td>0</td>\n",
       "      <td>0</td>\n",
       "      <td>0</td>\n",
       "      <td>0</td>\n",
       "      <td>0</td>\n",
       "      <td>0</td>\n",
       "      <td>1</td>\n",
       "    </tr>\n",
       "  </tbody>\n",
       "</table>\n",
       "<p>5 rows × 49 columns</p>\n",
       "</div>"
      ],
      "text/plain": [
       "       AGEP     PINCP      INTP     JWMNP       PAP      RETP      SEMP  \\\n",
       "0 -0.374973  0.131417 -0.052682 -0.240446 -0.094729 -0.215694 -0.138225   \n",
       "1 -0.860015 -0.652373 -0.135772 -0.683476 -0.094729 -0.215694 -0.138225   \n",
       "2 -0.752228 -0.652373 -0.135772 -0.683476 -0.094729 -0.215694 -0.138225   \n",
       "3 -0.752228  2.844536 -0.052682  0.424100 -0.094729 -0.215694 -0.138225   \n",
       "4  0.379537  0.386149  1.941478 -0.683476 -0.094729 -0.215694  0.383805   \n",
       "\n",
       "        SSP      WKHP  SCHL   ...    HAWAIAN  OTHER RACE  TWO OR MORE RACES  \\\n",
       "0 -0.420334  1.724710  13.0   ...          0           0                  0   \n",
       "1 -0.420334 -1.145233   9.0   ...          0           0                  0   \n",
       "2 -0.420334 -1.145233  15.0   ...          0           0                  0   \n",
       "3 -0.420334  1.724710  14.0   ...          0           0                  0   \n",
       "4 -0.420334 -0.188585  14.0   ...          0           0                  0   \n",
       "\n",
       "   AFR BORN  ASIAN BORN  EUR BORN  LATIN AMERICA BORN  NA BORN  OCEANIA BORN  \\\n",
       "0         0           0         0                   0        0             0   \n",
       "1         0           0         0                   1        0             0   \n",
       "2         0           0         0                   0        0             0   \n",
       "3         0           0         0                   0        0             0   \n",
       "4         0           0         0                   0        0             0   \n",
       "\n",
       "   FEMALE  \n",
       "0       0  \n",
       "1       1  \n",
       "2       1  \n",
       "3       0  \n",
       "4       1  \n",
       "\n",
       "[5 rows x 49 columns]"
      ]
     },
     "execution_count": 293,
     "metadata": {},
     "output_type": "execute_result"
    }
   ],
   "source": [
    "X.head()"
   ]
  },
  {
   "cell_type": "code",
   "execution_count": 294,
   "metadata": {},
   "outputs": [
    {
     "data": {
      "text/html": [
       "<div>\n",
       "<style scoped>\n",
       "    .dataframe tbody tr th:only-of-type {\n",
       "        vertical-align: middle;\n",
       "    }\n",
       "\n",
       "    .dataframe tbody tr th {\n",
       "        vertical-align: top;\n",
       "    }\n",
       "\n",
       "    .dataframe thead th {\n",
       "        text-align: right;\n",
       "    }\n",
       "</style>\n",
       "<table border=\"1\" class=\"dataframe\">\n",
       "  <thead>\n",
       "    <tr style=\"text-align: right;\">\n",
       "      <th></th>\n",
       "      <th>AGEP</th>\n",
       "      <th>PINCP</th>\n",
       "      <th>INTP</th>\n",
       "      <th>JWMNP</th>\n",
       "      <th>PAP</th>\n",
       "      <th>RETP</th>\n",
       "      <th>SEMP</th>\n",
       "      <th>SSP</th>\n",
       "      <th>WKHP</th>\n",
       "      <th>SCHL</th>\n",
       "      <th>...</th>\n",
       "      <th>HAWAIAN</th>\n",
       "      <th>OTHER RACE</th>\n",
       "      <th>TWO OR MORE RACES</th>\n",
       "      <th>AFR BORN</th>\n",
       "      <th>ASIAN BORN</th>\n",
       "      <th>EUR BORN</th>\n",
       "      <th>LATIN AMERICA BORN</th>\n",
       "      <th>NA BORN</th>\n",
       "      <th>OCEANIA BORN</th>\n",
       "      <th>FEMALE</th>\n",
       "    </tr>\n",
       "  </thead>\n",
       "  <tbody>\n",
       "    <tr>\n",
       "      <th>223660</th>\n",
       "      <td>-0.482760</td>\n",
       "      <td>-0.275551</td>\n",
       "      <td>-0.135772</td>\n",
       "      <td>0.645615</td>\n",
       "      <td>-0.094729</td>\n",
       "      <td>-0.215694</td>\n",
       "      <td>-0.138225</td>\n",
       "      <td>-0.420334</td>\n",
       "      <td>0.768062</td>\n",
       "      <td>13.0</td>\n",
       "      <td>...</td>\n",
       "      <td>0</td>\n",
       "      <td>0</td>\n",
       "      <td>0</td>\n",
       "      <td>0</td>\n",
       "      <td>1</td>\n",
       "      <td>0</td>\n",
       "      <td>0</td>\n",
       "      <td>0</td>\n",
       "      <td>0</td>\n",
       "      <td>0</td>\n",
       "    </tr>\n",
       "    <tr>\n",
       "      <th>262652</th>\n",
       "      <td>-1.452843</td>\n",
       "      <td>-0.598110</td>\n",
       "      <td>-0.135772</td>\n",
       "      <td>-0.018930</td>\n",
       "      <td>-0.094729</td>\n",
       "      <td>-0.215694</td>\n",
       "      <td>-0.138225</td>\n",
       "      <td>-0.420334</td>\n",
       "      <td>-0.188585</td>\n",
       "      <td>12.0</td>\n",
       "      <td>...</td>\n",
       "      <td>0</td>\n",
       "      <td>0</td>\n",
       "      <td>0</td>\n",
       "      <td>0</td>\n",
       "      <td>1</td>\n",
       "      <td>0</td>\n",
       "      <td>0</td>\n",
       "      <td>0</td>\n",
       "      <td>0</td>\n",
       "      <td>0</td>\n",
       "    </tr>\n",
       "    <tr>\n",
       "      <th>43753</th>\n",
       "      <td>-1.129482</td>\n",
       "      <td>-0.350915</td>\n",
       "      <td>-0.135772</td>\n",
       "      <td>-0.018930</td>\n",
       "      <td>-0.094729</td>\n",
       "      <td>-0.215694</td>\n",
       "      <td>-0.138225</td>\n",
       "      <td>-0.420334</td>\n",
       "      <td>0.768062</td>\n",
       "      <td>2.0</td>\n",
       "      <td>...</td>\n",
       "      <td>0</td>\n",
       "      <td>0</td>\n",
       "      <td>0</td>\n",
       "      <td>0</td>\n",
       "      <td>0</td>\n",
       "      <td>0</td>\n",
       "      <td>1</td>\n",
       "      <td>0</td>\n",
       "      <td>0</td>\n",
       "      <td>0</td>\n",
       "    </tr>\n",
       "    <tr>\n",
       "      <th>54879</th>\n",
       "      <td>-1.183376</td>\n",
       "      <td>-0.652373</td>\n",
       "      <td>-0.135772</td>\n",
       "      <td>-0.683476</td>\n",
       "      <td>-0.094729</td>\n",
       "      <td>-0.215694</td>\n",
       "      <td>-0.138225</td>\n",
       "      <td>-0.420334</td>\n",
       "      <td>-1.145233</td>\n",
       "      <td>12.0</td>\n",
       "      <td>...</td>\n",
       "      <td>0</td>\n",
       "      <td>1</td>\n",
       "      <td>0</td>\n",
       "      <td>0</td>\n",
       "      <td>0</td>\n",
       "      <td>0</td>\n",
       "      <td>1</td>\n",
       "      <td>0</td>\n",
       "      <td>0</td>\n",
       "      <td>1</td>\n",
       "    </tr>\n",
       "    <tr>\n",
       "      <th>108996</th>\n",
       "      <td>-1.237269</td>\n",
       "      <td>-0.494108</td>\n",
       "      <td>-0.135772</td>\n",
       "      <td>-0.683476</td>\n",
       "      <td>-0.094729</td>\n",
       "      <td>-0.215694</td>\n",
       "      <td>-0.138225</td>\n",
       "      <td>-0.420334</td>\n",
       "      <td>-1.145233</td>\n",
       "      <td>5.0</td>\n",
       "      <td>...</td>\n",
       "      <td>0</td>\n",
       "      <td>0</td>\n",
       "      <td>0</td>\n",
       "      <td>0</td>\n",
       "      <td>0</td>\n",
       "      <td>0</td>\n",
       "      <td>0</td>\n",
       "      <td>0</td>\n",
       "      <td>0</td>\n",
       "      <td>1</td>\n",
       "    </tr>\n",
       "  </tbody>\n",
       "</table>\n",
       "<p>5 rows × 49 columns</p>\n",
       "</div>"
      ],
      "text/plain": [
       "            AGEP     PINCP      INTP     JWMNP       PAP      RETP      SEMP  \\\n",
       "223660 -0.482760 -0.275551 -0.135772  0.645615 -0.094729 -0.215694 -0.138225   \n",
       "262652 -1.452843 -0.598110 -0.135772 -0.018930 -0.094729 -0.215694 -0.138225   \n",
       "43753  -1.129482 -0.350915 -0.135772 -0.018930 -0.094729 -0.215694 -0.138225   \n",
       "54879  -1.183376 -0.652373 -0.135772 -0.683476 -0.094729 -0.215694 -0.138225   \n",
       "108996 -1.237269 -0.494108 -0.135772 -0.683476 -0.094729 -0.215694 -0.138225   \n",
       "\n",
       "             SSP      WKHP  SCHL   ...    HAWAIAN  OTHER RACE  \\\n",
       "223660 -0.420334  0.768062  13.0   ...          0           0   \n",
       "262652 -0.420334 -0.188585  12.0   ...          0           0   \n",
       "43753  -0.420334  0.768062   2.0   ...          0           0   \n",
       "54879  -0.420334 -1.145233  12.0   ...          0           1   \n",
       "108996 -0.420334 -1.145233   5.0   ...          0           0   \n",
       "\n",
       "        TWO OR MORE RACES  AFR BORN  ASIAN BORN  EUR BORN  LATIN AMERICA BORN  \\\n",
       "223660                  0         0           1         0                   0   \n",
       "262652                  0         0           1         0                   0   \n",
       "43753                   0         0           0         0                   1   \n",
       "54879                   0         0           0         0                   1   \n",
       "108996                  0         0           0         0                   0   \n",
       "\n",
       "        NA BORN  OCEANIA BORN  FEMALE  \n",
       "223660        0             0       0  \n",
       "262652        0             0       0  \n",
       "43753         0             0       0  \n",
       "54879         0             0       1  \n",
       "108996        0             0       1  \n",
       "\n",
       "[5 rows x 49 columns]"
      ]
     },
     "execution_count": 294,
     "metadata": {},
     "output_type": "execute_result"
    }
   ],
   "source": [
    "X_train.head()"
   ]
  },
  {
   "cell_type": "code",
   "execution_count": 295,
   "metadata": {},
   "outputs": [
    {
     "name": "stdout",
     "output_type": "stream",
     "text": [
      "test set size: 0.3000013580867274\n"
     ]
    }
   ],
   "source": [
    "print(\"test set size: {}\".format(X_test.shape[0]/full_df.shape[0]))"
   ]
  },
  {
   "cell_type": "code",
   "execution_count": 296,
   "metadata": {},
   "outputs": [
    {
     "name": "stdout",
     "output_type": "stream",
     "text": [
      "Train set size: 0.4199985061045998\n"
     ]
    }
   ],
   "source": [
    "print(\"Train set size: {}\".format(X_train.shape[0]/full_df.shape[0]))"
   ]
  },
  {
   "cell_type": "code",
   "execution_count": 297,
   "metadata": {},
   "outputs": [
    {
     "name": "stdout",
     "output_type": "stream",
     "text": [
      "Validation set size: 0.2800001358086727\n"
     ]
    }
   ],
   "source": [
    "print(\"Validation set size: {}\".format(X_val.shape[0]/full_df.shape[0]))"
   ]
  },
  {
   "cell_type": "code",
   "execution_count": 298,
   "metadata": {},
   "outputs": [
    {
     "data": {
      "text/plain": [
       "(123703, 49)"
      ]
     },
     "execution_count": 298,
     "metadata": {},
     "output_type": "execute_result"
    }
   ],
   "source": [
    "X_train.shape"
   ]
  },
  {
   "cell_type": "markdown",
   "metadata": {},
   "source": [
    "I used Logit model from statsmodels package as a reference."
   ]
  },
  {
   "cell_type": "code",
   "execution_count": 299,
   "metadata": {
    "scrolled": false
   },
   "outputs": [
    {
     "name": "stdout",
     "output_type": "stream",
     "text": [
      "Optimization terminated successfully.    (Exit mode 0)\n",
      "            Current function value: 0.609442880782318\n",
      "            Iterations: 311\n",
      "            Function evaluations: 312\n",
      "            Gradient evaluations: 311\n",
      "                          Results: Logit\n",
      "===================================================================\n",
      "Model:               Logit            No. Iterations:   311.0000   \n",
      "Dependent Variable:  y                Pseudo R-squared: 0.120      \n",
      "Date:                2018-12-10 19:11 AIC:              150879.8254\n",
      "No. Observations:    123703           BIC:              151366.1073\n",
      "Df Model:            49               Log-Likelihood:   -75390.    \n",
      "Df Residuals:        123653           LL-Null:          -85675.    \n",
      "Converged:           True             Scale:            1.0000     \n",
      "-------------------------------------------------------------------\n",
      "                    Coef.  Std.Err.    z     P>|z|   [0.025  0.975]\n",
      "-------------------------------------------------------------------\n",
      "AGEP                0.6348   0.0088  72.1571 0.0000  0.6175  0.6520\n",
      "PINCP               0.3423   0.0119  28.7354 0.0000  0.3190  0.3657\n",
      "INTP               -0.1031   0.0081 -12.6555 0.0000 -0.1191 -0.0871\n",
      "JWMNP               0.0449   0.0086   5.2024 0.0000  0.0280  0.0618\n",
      "PAP                -0.0327   0.0066  -4.9709 0.0000 -0.0455 -0.0198\n",
      "RETP               -0.0247   0.0071  -3.4811 0.0005 -0.0386 -0.0108\n",
      "SEMP               -0.0292   0.0081  -3.5976 0.0003 -0.0451 -0.0133\n",
      "SSP                -0.2087   0.0080 -26.2286 0.0000 -0.2243 -0.1931\n",
      "WKHP                0.0930   0.0115   8.0932 0.0000  0.0705  0.1155\n",
      "SCHL                0.0229   0.0015  15.0291 0.0000  0.0199  0.0259\n",
      "ENG                 0.0850   0.0113   7.5323 0.0000  0.0629  0.1071\n",
      "DIS                -0.6481   0.0264 -24.5647 0.0000 -0.6999 -0.5964\n",
      "DEAR                0.0959   0.0358   2.6814 0.0073  0.0258  0.1660\n",
      "DEYE               -0.2172   0.0428  -5.0772 0.0000 -0.3010 -0.1333\n",
      "DREM               -0.6088   0.0352 -17.2966 0.0000 -0.6777 -0.5398\n",
      "HICOV              -0.5382   0.0238 -22.6245 0.0000 -0.5848 -0.4916\n",
      "LANX                0.1705   0.0239   7.1334 0.0000  0.1236  0.2173\n",
      "EMPLOYED            0.3515   0.0345  10.1835 0.0000  0.2838  0.4191\n",
      "NOT VET DIS        -0.3806   0.0625  -6.0868 0.0000 -0.5032 -0.2581\n",
      "BIKE               -0.7533   0.0881  -8.5457 0.0000 -0.9261 -0.5805\n",
      "MOTORCYCLE         -0.2055   0.1313  -1.5654 0.1175 -0.4628  0.0518\n",
      "OTHER              -0.3197   0.0925  -3.4550 0.0006 -0.5011 -0.1383\n",
      "TAXI               -0.7269   0.3410  -2.1316 0.0330 -1.3952 -0.0585\n",
      "TR_BUS             -0.9731   0.0618 -15.7577 0.0000 -1.0941 -0.8520\n",
      "TR_CAR             -0.1392   0.0372  -3.7416 0.0002 -0.2121 -0.0663\n",
      "TR_FERRYBOAT       -0.1139   0.3837  -0.2968 0.7666 -0.8660  0.6382\n",
      "TR_NILB            -0.0524   0.0395  -1.3253 0.1851 -0.1298  0.0251\n",
      "TR_RAILROAD        -0.4161   0.1251  -3.3263 0.0009 -0.6613 -0.1709\n",
      "TR_SUBWAY          -0.5754   0.0855  -6.7308 0.0000 -0.7429 -0.4078\n",
      "TR_TROLLEY         -0.8000   0.2284  -3.5022 0.0005 -1.2477 -0.3523\n",
      "WALKED             -0.8690   0.0637 -13.6354 0.0000 -0.9939 -0.7441\n",
      "DIDNT MOVE 1YR      0.0614   0.0696   0.8828 0.3774 -0.0749  0.1978\n",
      "NOT IN ACTIVE DUTY -0.3070   0.0304 -10.0836 0.0000 -0.3666 -0.2473\n",
      "CITIZEN            -0.1088   0.0238  -4.5743 0.0000 -0.1554 -0.0622\n",
      "ALASKAN NATIVE     -0.1513   1.1334  -0.1335 0.8938 -2.3727  2.0700\n",
      "ALASKAN/INDIAN     -0.2362   0.1334  -1.7699 0.0767 -0.4977  0.0254\n",
      "AMER INDIAN        -0.0320   0.0751  -0.4254 0.6705 -0.1792  0.1153\n",
      "ASIAN              -0.2635   0.0285  -9.2446 0.0000 -0.3194 -0.2076\n",
      "BLACK              -0.7225   0.0303 -23.8659 0.0000 -0.7818 -0.6631\n",
      "HAWAIAN             0.1389   0.1120   1.2400 0.2150 -0.0806  0.3584\n",
      "OTHER RACE         -0.1313   0.0226  -5.8179 0.0000 -0.1755 -0.0871\n",
      "TWO OR MORE RACES  -0.3177   0.0357  -8.8982 0.0000 -0.3877 -0.2477\n",
      "AFR BORN            0.9338   0.0878  10.6327 0.0000  0.7617  1.1060\n",
      "ASIAN BORN          0.9029   0.0326  27.7198 0.0000  0.8390  0.9667\n",
      "EUR BORN            0.3292   0.0404   8.1447 0.0000  0.2500  0.4084\n",
      "LATIN AMERICA BORN  0.6572   0.0273  24.0608 0.0000  0.6036  0.7107\n",
      "NA BORN             0.2549   0.0852   2.9921 0.0028  0.0879  0.4218\n",
      "OCEANIA BORN        0.4597   0.1284   3.5813 0.0003  0.2081  0.7114\n",
      "FEMALE             -0.0935   0.0133  -7.0499 0.0000 -0.1194 -0.0675\n",
      "constant            0.3089   0.0855   3.6143 0.0003  0.1414  0.4764\n",
      "===================================================================\n",
      "\n"
     ]
    }
   ],
   "source": [
    "import statsmodels.api as sm\n",
    "\n",
    "#Adding constant\n",
    "X_train_copy = X_train.copy()\n",
    "X_train_copy['constant'] = 1\n",
    "\n",
    "#Fitting the model\n",
    "model = sm.Logit(list(y_train) , X_train_copy)\n",
    "results = model.fit_regularized(maxiter=400)\n",
    "print(results.summary2())"
   ]
  },
  {
   "cell_type": "markdown",
   "metadata": {},
   "source": [
    "One thing to notice is that most of the coefficients have very low p-values. This is because there is so many observations in the dataset."
   ]
  },
  {
   "cell_type": "code",
   "execution_count": 300,
   "metadata": {},
   "outputs": [
    {
     "name": "stdout",
     "output_type": "stream",
     "text": [
      "Logit:\n",
      "Training set accuracy: 0.6741631164967705\n",
      "Training set AUC: 0.6723171254036785\n"
     ]
    }
   ],
   "source": [
    "from sklearn.metrics import roc_auc_score\n",
    "\n",
    "X_train_copy = X_train.copy()\n",
    "X_train_copy['constant'] = 1\n",
    "\n",
    "train_pred = results.predict(X_train_copy.astype(float))\n",
    "pos_pred = train_pred > 0.5\n",
    "\n",
    "print(\"Logit:\\nTraining set accuracy: {}\".format((y_train.reset_index(drop=True) == pos_pred.reset_index(drop=True)).sum()/len(y_train)))\n",
    "print(\"Training set AUC: {}\".format(roc_auc_score(y_train, pos_pred)))"
   ]
  },
  {
   "cell_type": "code",
   "execution_count": 301,
   "metadata": {},
   "outputs": [
    {
     "name": "stdout",
     "output_type": "stream",
     "text": [
      "Logit\n",
      "Validation set accuracy: 0.6741684754271302\n",
      "Validation set AUC: 0.672424767120367\n"
     ]
    }
   ],
   "source": [
    "X_val_copy = X_val.copy()\n",
    "X_val_copy['constant'] = 1\n",
    "\n",
    "val_pred = results.predict(X_val_copy.astype(float))\n",
    "pos_pred = val_pred > 0.5\n",
    "\n",
    "print(\"Logit\\nValidation set accuracy: {}\".format((y_val.reset_index(drop=True) == pos_pred.reset_index(drop=True)).sum()/len(y_val)))\n",
    "print(\"Validation set AUC: {}\".format(roc_auc_score(y_val, pos_pred)))"
   ]
  },
  {
   "cell_type": "markdown",
   "metadata": {},
   "source": [
    "The validation set accuracy for the Logit model 0.674. Let's see how well other classifiers perform."
   ]
  },
  {
   "cell_type": "code",
   "execution_count": 302,
   "metadata": {},
   "outputs": [
    {
     "name": "stdout",
     "output_type": "stream",
     "text": [
      "0.9945999692812624\n",
      "0.6452848949302162\n"
     ]
    }
   ],
   "source": [
    "from sklearn.tree import DecisionTreeClassifier\n",
    "\n",
    "dt = DecisionTreeClassifier()\n",
    "dt.fit(X_train, y_train)\n",
    "print(dt.score(X_train, y_train))\n",
    "print(dt.score(X_val, y_val))"
   ]
  },
  {
   "cell_type": "markdown",
   "metadata": {},
   "source": [
    "The train set accuracy for unrestricted decision tree is almost 100%, obviously the decision tree is overfitting. Let's try to limit the size of the decision tree."
   ]
  },
  {
   "cell_type": "code",
   "execution_count": 303,
   "metadata": {},
   "outputs": [
    {
     "name": "stdout",
     "output_type": "stream",
     "text": [
      "0.7157465865823788\n",
      "0.7109701827353309\n"
     ]
    }
   ],
   "source": [
    "dt = DecisionTreeClassifier(max_depth=8)\n",
    "dt.fit(X_train, y_train)\n",
    "print(dt.score(X_train, y_train))\n",
    "print(dt.score(X_val, y_val))"
   ]
  },
  {
   "cell_type": "markdown",
   "metadata": {},
   "source": [
    "***\n",
    "Now the validation set accuracy is much better. How about the test set:"
   ]
  },
  {
   "cell_type": "code",
   "execution_count": 336,
   "metadata": {},
   "outputs": [
    {
     "name": "stdout",
     "output_type": "stream",
     "text": [
      "0.7157465865823788\n",
      "Test set Accuracy: 0.7081145314622\n",
      "Test set AUC: 0.7522193144401308\n"
     ]
    }
   ],
   "source": [
    "from sklearn.metrics import accuracy_score\n",
    "\n",
    "print(dt.score(X_train, y_train))\n",
    "final_predictions = dt.predict(X_test)\n",
    "print(\"Test set Accuracy: {}\".format(accuracy_score(y_test, final_predictions)))\n",
    "print(\"Test set AUC: {}\".format(roc_auc_score(y_test, dt.predict_proba(X_test)[:,1])))"
   ]
  },
  {
   "cell_type": "markdown",
   "metadata": {},
   "source": [
    "Okey, How about Gradient boosting classifier:"
   ]
  },
  {
   "cell_type": "code",
   "execution_count": 305,
   "metadata": {},
   "outputs": [
    {
     "data": {
      "text/plain": [
       "GradientBoostingClassifier(criterion='friedman_mse', init=None,\n",
       "              learning_rate=0.1, loss='deviance', max_depth=3,\n",
       "              max_features=None, max_leaf_nodes=None,\n",
       "              min_impurity_decrease=0.0, min_impurity_split=None,\n",
       "              min_samples_leaf=1, min_samples_split=2,\n",
       "              min_weight_fraction_leaf=0.0, n_estimators=60,\n",
       "              presort='auto', random_state=None, subsample=1.0, verbose=0,\n",
       "              warm_start=False)"
      ]
     },
     "execution_count": 305,
     "metadata": {},
     "output_type": "execute_result"
    }
   ],
   "source": [
    "from sklearn.ensemble import GradientBoostingClassifier\n",
    "\n",
    "gbm_model = GradientBoostingClassifier(n_estimators=60)\n",
    "gbm_model.fit(X_train, y_train)"
   ]
  },
  {
   "cell_type": "code",
   "execution_count": 306,
   "metadata": {},
   "outputs": [
    {
     "name": "stdout",
     "output_type": "stream",
     "text": [
      "Test set accuracy: 0.7145340048341592\n",
      "Validation set Accuracy: 0.7157841128181498\n",
      "Validation set AUC: 0.7813256931488972\n"
     ]
    }
   ],
   "source": [
    "from sklearn.metrics import accuracy_score, roc_auc_score\n",
    "\n",
    "print(\"Test set accuracy: {}\".format(gbm_model.score(X_train, y_train)))\n",
    "final_predictions = gbm_model.predict(X_val)\n",
    "print(\"Validation set Accuracy: {}\".format(accuracy_score(y_val, final_predictions)))\n",
    "print(\"Validation set AUC: {}\".format(roc_auc_score(y_val, gbm_model.predict_proba(X_val)[:,1])))"
   ]
  },
  {
   "cell_type": "markdown",
   "metadata": {},
   "source": [
    "The GBM model gets slightle better accuracy that the decision tree model. Let's see what are the most significant variables:"
   ]
  },
  {
   "cell_type": "code",
   "execution_count": 307,
   "metadata": {},
   "outputs": [
    {
     "data": {
      "image/png": "[encoded data removed]",
      "text/plain": [
       "<matplotlib.figure.Figure at 0x7f5c7f13fb70>"
      ]
     },
     "metadata": {},
     "output_type": "display_data"
    }
   ],
   "source": [
    "import seaborn as sns\n",
    "\n",
    "feature_importances = gbm_model.feature_importances_\n",
    "\n",
    " \n",
    "attributes = X_train.columns.astype(str)\n",
    "feat_imp = sorted(zip(feature_importances, attributes), reverse=True)\n",
    "\n",
    "x_value = [x[1] for x in feat_imp[:19]]\n",
    "y_value = [x[0] for x in feat_imp[:19]]\n",
    "\n",
    "plt.figure(figsize=(12,6))\n",
    "sns.barplot(y_value,x_value)\n",
    "plt.title(\"Feature importance - GBM\")\n",
    "plt.show()"
   ]
  },
  {
   "cell_type": "markdown",
   "metadata": {},
   "source": [
    "Let's try some more classifiers before doing parameter tuning."
   ]
  },
  {
   "cell_type": "code",
   "execution_count": 308,
   "metadata": {},
   "outputs": [
    {
     "name": "stdout",
     "output_type": "stream",
     "text": [
      "0.674155032618449\n",
      "Validation set Accuracy: 0.6742533558064242\n",
      "Validation set AUC: 0.7244259738068785\n"
     ]
    }
   ],
   "source": [
    "from sklearn.linear_model import LogisticRegression\n",
    "from sklearn.metrics import accuracy_score, roc_auc_score\n",
    "\n",
    "log_reg = LogisticRegression()\n",
    "log_reg.fit(X_train, y_train)\n",
    "print(log_reg.score(X_train, y_train))\n",
    "final_predictions = log_reg.predict(X_val)\n",
    "print(\"Validation set Accuracy: {}\".format(accuracy_score(y_val, final_predictions)))\n",
    "print(\"Validation set AUC: {}\".format(roc_auc_score(y_val, log_reg.predict_proba(X_val)[:,1])))"
   ]
  },
  {
   "cell_type": "markdown",
   "metadata": {},
   "source": [
    "Sklearn's LogisticRegression uses some regularization by default which could improve the logit model, but the accuracy is very similar to the earlier logit model. Now let's try random forest."
   ]
  },
  {
   "cell_type": "code",
   "execution_count": 310,
   "metadata": {
    "scrolled": true
   },
   "outputs": [
    {
     "data": {
      "text/plain": [
       "RandomForestClassifier(bootstrap=True, class_weight=None, criterion='gini',\n",
       "            max_depth=None, max_features='auto', max_leaf_nodes=None,\n",
       "            min_impurity_decrease=0.0, min_impurity_split=None,\n",
       "            min_samples_leaf=1, min_samples_split=2,\n",
       "            min_weight_fraction_leaf=0.0, n_estimators=50, n_jobs=1,\n",
       "            oob_score=True, random_state=None, verbose=0, warm_start=False)"
      ]
     },
     "execution_count": 310,
     "metadata": {},
     "output_type": "execute_result"
    }
   ],
   "source": [
    "from sklearn.ensemble import RandomForestClassifier\n",
    "\n",
    "rf_model = RandomForestClassifier(n_estimators=50, oob_score=True)\n",
    "rf_model.fit(X_train, y_train)"
   ]
  },
  {
   "cell_type": "code",
   "execution_count": 311,
   "metadata": {},
   "outputs": [
    {
     "name": "stdout",
     "output_type": "stream",
     "text": [
      "Validation set Accuracy: 0.7132619529762698\n",
      "Validation set AUC: 0.7826268939111428\n"
     ]
    }
   ],
   "source": [
    "final_predictions = rf_model.predict(X_val)\n",
    "print(\"Validation set Accuracy: {}\".format(accuracy_score(y_val, final_predictions)))\n",
    "print(\"Validation set AUC: {}\".format(roc_auc_score(y_val, rf_model.predict_proba(X_val)[:,1])))"
   ]
  },
  {
   "cell_type": "code",
   "execution_count": 312,
   "metadata": {},
   "outputs": [
    {
     "data": {
      "text/plain": [
       "0.7060378487183011"
      ]
     },
     "execution_count": 312,
     "metadata": {},
     "output_type": "execute_result"
    }
   ],
   "source": [
    "rf_model.oob_score_"
   ]
  },
  {
   "cell_type": "markdown",
   "metadata": {},
   "source": [
    "The accuracy is slightly worse that the accuracy of the GBM model, AUC is slightly better. Maybe it is not possible to make better predictions using this data. Let's see the important variables"
   ]
  },
  {
   "cell_type": "code",
   "execution_count": 313,
   "metadata": {},
   "outputs": [
    {
     "data": {
      "image/png": "[encoded data removed]",
      "text/plain": [
       "<matplotlib.figure.Figure at 0x7f5c7f13fe80>"
      ]
     },
     "metadata": {},
     "output_type": "display_data"
    }
   ],
   "source": [
    "feature_importances = rf_model.feature_importances_\n",
    "\n",
    "    \n",
    "attributes = X_train.columns.astype(str)\n",
    "feat_imp = sorted(zip(feature_importances, attributes), reverse=True)\n",
    "\n",
    "x_value = [x[1] for x in feat_imp[:15]]\n",
    "y_value = [x[0] for x in feat_imp[:15]]\n",
    "\n",
    "plt.figure(figsize=(12,6))\n",
    "sns.barplot(y_value,x_value)\n",
    "plt.title(\"Feature importance - RF\")\n",
    "plt.show()"
   ]
  },
  {
   "cell_type": "code",
   "execution_count": 103,
   "metadata": {},
   "outputs": [
    {
     "name": "stdout",
     "output_type": "stream",
     "text": [
      "Validation set Accuracy: 0.6737925766045423\n"
     ]
    }
   ],
   "source": [
    "from sklearn.svm import LinearSVC\n",
    "svm_model = LinearSVC()\n",
    "svm_model.fit(X_train, y_train)\n",
    "\n",
    "final_predictions = svm_model.predict(X_val)\n",
    "print(\"Validation set Accuracy: {}\".format(accuracy_score(y_val, final_predictions)))\n",
    "#print(\"Validation set AUC: {}\".format(roc_auc_score(y_val, rf_model.predict_proba(X_val)[:,1])))"
   ]
  },
  {
   "cell_type": "code",
   "execution_count": 104,
   "metadata": {},
   "outputs": [
    {
     "data": {
      "text/plain": [
       "0.6741631164967705"
      ]
     },
     "execution_count": 104,
     "metadata": {},
     "output_type": "execute_result"
    }
   ],
   "source": [
    "svm_model.score(X_train, y_train)"
   ]
  },
  {
   "cell_type": "code",
   "execution_count": 52,
   "metadata": {},
   "outputs": [
    {
     "name": "stderr",
     "output_type": "stream",
     "text": [
      "/home/pekka/anaconda3/lib/python3.6/site-packages/sklearn/linear_model/stochastic_gradient.py:128: FutureWarning: max_iter and tol parameters have been added in <class 'sklearn.linear_model.stochastic_gradient.SGDClassifier'> in 0.19. If both are left unset, they default to max_iter=5 and tol=None. If tol is not None, max_iter defaults to max_iter=1000. From 0.21, default max_iter will be 1000, and default tol will be 1e-3.\n",
      "  \"and default tol will be 1e-3.\" % type(self), FutureWarning)\n"
     ]
    },
    {
     "name": "stdout",
     "output_type": "stream",
     "text": [
      "0.6271553640574602\n",
      "0.6244649504662358\n"
     ]
    }
   ],
   "source": [
    "#Stochastic Gradient descent classifier\n",
    "from sklearn.linear_model import SGDClassifier\n",
    "from sklearn.metrics import accuracy_score\n",
    "sgd_clf = SGDClassifier(random_state=42)\n",
    "sgd_clf.fit(X_train, y_train)\n",
    "\n",
    "final_predictions = sgd_clf.predict(X_val)\n",
    "print(accuracy_score(sgd_clf.predict(X_train), y_train))\n",
    "print(accuracy_score(final_predictions, y_val))"
   ]
  },
  {
   "cell_type": "markdown",
   "metadata": {},
   "source": [
    "LinearSVM and SGDClassifier perform very poorly. Now let's try to improve the most promising model, GBM model, by changing the number of estimators."
   ]
  },
  {
   "cell_type": "code",
   "execution_count": 314,
   "metadata": {},
   "outputs": [
    {
     "name": "stdout",
     "output_type": "stream",
     "text": [
      "0.2715808364355091\n",
      "0.2872929516664915\n"
     ]
    }
   ],
   "source": [
    "from sklearn.ensemble import GradientBoostingClassifier\n",
    "gbrt = GradientBoostingClassifier(max_depth=2, n_estimators=1000, random_state=42, learning_rate=0.2)\n",
    "gbrt.fit(X_train , y_train)\n",
    "\n",
    "errors = [1-accuracy_score(y_val, y_pred)\n",
    "          for y_pred in gbrt.staged_predict(X_val)]\n",
    "\n",
    "train_set_errors = [1-accuracy_score(y_train, y_pred)\n",
    "          for y_pred in gbrt.staged_predict(X_train)]\n",
    "\n",
    "\n",
    "bst_n_estimators = np.argmin(errors)\n",
    "\n",
    "gbrt_best = GradientBoostingClassifier(max_depth=2,n_estimators=bst_n_estimators, random_state=42)\n",
    "gbrt_best.fit(X_train, y_train)\n",
    "\n",
    "\n",
    "min_error = np.min(errors)\n",
    "print(min_error)\n",
    "print(np.min(test_set_errors))"
   ]
  },
  {
   "cell_type": "code",
   "execution_count": 315,
   "metadata": {},
   "outputs": [
    {
     "data": {
      "text/plain": [
       "0.7284191635644909"
      ]
     },
     "execution_count": 315,
     "metadata": {},
     "output_type": "execute_result"
    }
   ],
   "source": [
    "1-min_error"
   ]
  },
  {
   "cell_type": "code",
   "execution_count": 316,
   "metadata": {},
   "outputs": [
    {
     "data": {
      "text/plain": [
       "651"
      ]
     },
     "execution_count": 316,
     "metadata": {},
     "output_type": "execute_result"
    }
   ],
   "source": [
    "bst_n_estimators"
   ]
  },
  {
   "cell_type": "code",
   "execution_count": 318,
   "metadata": {
    "scrolled": true
   },
   "outputs": [
    {
     "data": {
      "image/png": "[encoded data removed]",
      "text/plain": [
       "<matplotlib.figure.Figure at 0x7f5c74e9fa20>"
      ]
     },
     "metadata": {},
     "output_type": "display_data"
    }
   ],
   "source": [
    "plt.figure(figsize=(11, 8))\n",
    "\n",
    "plt.plot(errors, \"b.-\", label=\"validation error\")\n",
    "plt.plot(train_set_errors, \"r.-\", label=\"train set error\")\n",
    "plt.plot([bst_n_estimators, bst_n_estimators], [0, min_error], \"k--\")\n",
    "plt.plot([0, 1000], [min_error, min_error], \"k--\")\n",
    "plt.plot(bst_n_estimators, min_error, \"ko\")\n",
    "plt.text(bst_n_estimators, min_error*1.02, \"Minimum\\nntree: \"+str(bst_n_estimators), ha=\"center\", fontsize=14)\n",
    "plt.axis([0, 1000, 0.25, 0.35])\n",
    "plt.xlabel(\"Number of trees\")\n",
    "plt.title(\"Validation and train set error\", fontsize=14)\n",
    "plt.legend(fontsize=14)\n",
    "\n",
    "\n",
    "plt.show()"
   ]
  },
  {
   "cell_type": "markdown",
   "metadata": {},
   "source": [
    "I decided to use early stopping here to find the optimal number of trees. The accuracy improved by increasing the number of trees, but not significantly."
   ]
  },
  {
   "cell_type": "code",
   "execution_count": 319,
   "metadata": {},
   "outputs": [
    {
     "data": {
      "image/png": "[encoded data removed]",
      "text/plain": [
       "<matplotlib.figure.Figure at 0x7f5c7f2e4400>"
      ]
     },
     "metadata": {},
     "output_type": "display_data"
    }
   ],
   "source": [
    "import seaborn as sns\n",
    "\n",
    "feature_importances = gbrt_best.feature_importances_\n",
    "\n",
    "  \n",
    "attributes = X_train.columns.astype(str)\n",
    "\n",
    "feat_imp = sorted(zip(feature_importances, attributes), reverse=True)\n",
    "\n",
    "x_value = [x[1] for x in feat_imp[:10]]\n",
    "y_value = [x[0] for x in feat_imp[:10]]\n",
    "\n",
    "plt.figure(figsize=(12,6))\n",
    "sns.barplot(y_value,x_value)\n",
    "plt.title(\"Feature importance - GBM\")\n",
    "plt.show()"
   ]
  },
  {
   "cell_type": "markdown",
   "metadata": {},
   "source": [
    "The feature importances are different for the model with more trees. Now it seems that age,gender and income are clearly the most important variables. Let's explore things more with partial dependence plots"
   ]
  },
  {
   "cell_type": "code",
   "execution_count": 322,
   "metadata": {},
   "outputs": [
    {
     "data": {
      "image/png": "[encoded data removed]",
      "text/plain": [
       "<matplotlib.figure.Figure at 0x7f5c80f86208>"
      ]
     },
     "metadata": {},
     "output_type": "display_data"
    }
   ],
   "source": [
    "from sklearn.ensemble.partial_dependence import plot_partial_dependence\n",
    "\n",
    "fig, axs = plot_partial_dependence(gbrt_best, X_train,feature_names=X.columns, features=[0,1, (48\n",
    "                                                                                            ,1)], grid_resolution=10)\n",
    "\n",
    "plt.subplots_adjust(top=0.9)\n",
    "fig.set_size_inches(12.5, 6.5)"
   ]
  },
  {
   "cell_type": "markdown",
   "metadata": {},
   "source": [
    "Interesting. For females the probability of being married is highest when income is zero. For males the probability of being married rises as income rises. What is probably going on here is that women who are married, are at home taking care of children while their husband is at work. "
   ]
  },
  {
   "cell_type": "code",
   "execution_count": 323,
   "metadata": {},
   "outputs": [
    {
     "data": {
      "text/plain": [
       "9"
      ]
     },
     "execution_count": 323,
     "metadata": {},
     "output_type": "execute_result"
    }
   ],
   "source": [
    "list(attributes).index('SCHL')"
   ]
  },
  {
   "cell_type": "code",
   "execution_count": 329,
   "metadata": {},
   "outputs": [
    {
     "name": "stdout",
     "output_type": "stream",
     "text": [
      "GBM\n",
      "Test set Accuracy: 0.7232005432322318\n",
      "Test set AUC: 0.7924737039661054\n",
      "\n",
      "Logit\n",
      "Test set Accuracy: 0.6742077863286555\n",
      "Test set AUC: 0.7244800294027195\n"
     ]
    }
   ],
   "source": [
    "# Final test set accuracy for GBM model and Logit model\n",
    "\n",
    "final_predictions = gbrt_best.predict(X_test)\n",
    "print(\"GBM\\nTest set Accuracy: {}\".format(accuracy_score(y_test, final_predictions)))\n",
    "print(\"Test set AUC: {}\".format(roc_auc_score(y_test, gbrt_best.predict_proba(X_test)[:,1])))\n",
    "\n",
    "final_predictions = log_reg.predict(X_test)\n",
    "print(\"\\nLogit\\nTest set Accuracy: {}\".format(accuracy_score(y_test, final_predictions)))\n",
    "print(\"Test set AUC: {}\".format(roc_auc_score(y_test, log_reg.predict_proba(X_test)[:,1])))"
   ]
  },
  {
   "cell_type": "code",
   "execution_count": 331,
   "metadata": {},
   "outputs": [],
   "source": [
    "classifiers = {'Logistic regression':log_reg, 'Decision tree': dt, 'Random Forest': rf_model, 'GBM':gbrt_best}"
   ]
  },
  {
   "cell_type": "code",
   "execution_count": 335,
   "metadata": {},
   "outputs": [
    {
     "data": {
      "image/png": "[encoded data removed]",
      "text/plain": [
       "<matplotlib.figure.Figure at 0x7f5c834164e0>"
      ]
     },
     "metadata": {},
     "output_type": "display_data"
    }
   ],
   "source": [
    "from sklearn.metrics import roc_curve\n",
    "\n",
    "plt.figure(figsize=(10,8))\n",
    "for name, model in classifiers.items():\n",
    "    # Compute predicted probabilities: y_pred_prob\n",
    "    y_pred_prob = model.predict_proba(X_test)[:,1]\n",
    "    \n",
    "\n",
    "    # Generate ROC curve values: fpr, tpr, thresholds\n",
    "    fpr, tpr, tresholds = roc_curve(y_test, y_pred_prob)\n",
    "    roc_auc = roc_auc_score(y_test, y_pred_prob)\n",
    "    # Plot ROC curve\n",
    "    plt.plot([0, 1], [0, 1], 'k--')\n",
    "    plt.plot(fpr, tpr, label=name+' (%0.4f)'  % roc_auc)\n",
    "    plt.xlabel('False Positive Rate')\n",
    "    plt.ylabel('True Positive Rate')\n",
    "    plt.title('ROC Curve')\n",
    "    \n",
    "plt.legend(loc=\"lower right\")\n",
    "plt.xlim([-0.02, 1.0])\n",
    "plt.ylim([0.0, 1.05])\n",
    "plt.show()   "
   ]
  },
  {
   "cell_type": "markdown",
   "metadata": {},
   "source": [
    "None of the models get a good accuracy, but the GBM has the best accuracy and the best AUC."
   ]
  },
  {
   "cell_type": "code",
   "execution_count": null,
   "metadata": {},
   "outputs": [],
   "source": []
  }
 ],
 "metadata": {
  "kernelspec": {
   "display_name": "Python 3",
   "language": "python",
   "name": "python3"
  },
  "language_info": {
   "codemirror_mode": {
    "name": "ipython",
    "version": 3
   },
   "file_extension": ".py",
   "mimetype": "text/x-python",
   "name": "python",
   "nbconvert_exporter": "python",
   "pygments_lexer": "ipython3",
   "version": "3.6.4"
  }
 },
 "nbformat": 4,
 "nbformat_minor": 2
}
